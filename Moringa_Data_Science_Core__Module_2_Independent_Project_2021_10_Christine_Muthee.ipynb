{
  "nbformat": 4,
  "nbformat_minor": 0,
  "metadata": {
    "colab": {
      "name": "Moringa_Data_Science_Core _Module_2_Independent_Project_2021_10_Christine_Muthee.ipynb",
      "provenance": [],
      "collapsed_sections": [],
      "authorship_tag": "ABX9TyM5/CCDvFecRx7d6jdideC/",
      "include_colab_link": true
    },
    "kernelspec": {
      "name": "python3",
      "display_name": "Python 3"
    },
    "language_info": {
      "name": "python"
    }
  },
  "cells": [
    {
      "cell_type": "markdown",
      "metadata": {
        "id": "view-in-github",
        "colab_type": "text"
      },
      "source": [
        "<a href=\"https://colab.research.google.com/github/CHRISTINEMUTHEE/Hypothyroidism_Prediction/blob/main/Moringa_Data_Science_Core__Module_2_Independent_Project_2021_10_Christine_Muthee.ipynb\" target=\"_parent\"><img src=\"https://colab.research.google.com/assets/colab-badge.svg\" alt=\"Open In Colab\"/></a>"
      ]
    },
    {
      "cell_type": "markdown",
      "metadata": {
        "id": "NX1pjDIQw1hL"
      },
      "source": [
        "# Supervised Learning:Nairobi Hospital Hypothyroidism prediction"
      ]
    },
    {
      "cell_type": "markdown",
      "metadata": {
        "id": "zObfRbHcw-nh"
      },
      "source": [
        "## 1. Defining the question"
      ]
    },
    {
      "cell_type": "markdown",
      "metadata": {
        "id": "NNFgI4BvxIr3"
      },
      "source": [
        "### The objective is to determine and analyse while predicting whether or not a patient's symptoms indicate that the patient has hypothyroidism"
      ]
    },
    {
      "cell_type": "markdown",
      "metadata": {
        "id": "ls2WQplVxBai"
      },
      "source": [
        "### a.) Specifying the question"
      ]
    },
    {
      "cell_type": "markdown",
      "metadata": {
        "id": "o4GzalBCxJVa"
      },
      "source": [
        "### * What are the symptoms associated with hypothyroidism?\n",
        "### * What is the main predictor of hypothyroidism\n",
        "### * Does a patient haver hypothyroidism or not based on their symptoms?"
      ]
    },
    {
      "cell_type": "markdown",
      "metadata": {
        "id": "QDPZFkbWxMFp"
      },
      "source": [
        "### b.) Defining the metric of success"
      ]
    },
    {
      "cell_type": "markdown",
      "metadata": {
        "id": "fM1wStDWxSQY"
      },
      "source": [
        "#### * What will determine my success is understanding the symptoms associated with hypothyroidism while establishing the cardinal symptoms to determining whether the patient has hypothyroidism or not.\n",
        "#### * This will be achieved by building a machine learning model that predicts the hypothyroidism status upon entry/specification of symptoms."
      ]
    },
    {
      "cell_type": "markdown",
      "metadata": {
        "id": "Let1XKdQxU7w"
      },
      "source": [
        "### c.) Recording experimental design"
      ]
    },
    {
      "cell_type": "markdown",
      "metadata": {
        "id": "9_qUADcYSN5n"
      },
      "source": [
        "#### * This will be achieved by observing the attributes in my data while assesing their relationships.\n",
        "#### * Observing any omission and duplication while getting rid of unnecessary details.\n",
        "#### * Building a model that best predicts whether suffers hypothyroidism or not.\n",
        "#### * Optimizing the model to guage its performance while ensuring it provides optimum results"
      ]
    },
    {
      "cell_type": "markdown",
      "metadata": {
        "id": "gV5mKIwFxaan"
      },
      "source": [
        "### d.) Data relevance"
      ]
    },
    {
      "cell_type": "markdown",
      "metadata": {
        "id": "BLoI1yppxgZ0"
      },
      "source": [
        "#### * The data contains the conditions of the patients including their individual attributes eg Gender,age,whether they are on medication,their lithium levels etc.\n",
        "#### * The data also has the status of the patients : Whehther they suffer hypothyroidsm or not.\n",
        "#### * The data is relevant for this analysis."
      ]
    },
    {
      "cell_type": "markdown",
      "metadata": {
        "id": "0WtBl7zwxmE-"
      },
      "source": [
        "## 2. Reading the data"
      ]
    },
    {
      "cell_type": "markdown",
      "metadata": {
        "id": "udkaQ7JlxohK"
      },
      "source": [
        "#### Importing all the necessary libraries"
      ]
    },
    {
      "cell_type": "code",
      "metadata": {
        "id": "6JB5nYXMTnKB"
      },
      "source": [
        "# Import the libraries\n",
        "import pandas as pd\n",
        "import numpy as np\n",
        "import matplotlib.pyplot as plt\n",
        "import seaborn as sns\n",
        "# Tree libraries\n",
        "from sklearn.tree import DecisionTreeClassifier\n",
        "from sklearn.ensemble import AdaBoostClassifier,GradientBoostingClassifier\n",
        "from sklearn.ensemble import RandomForestClassifier\n",
        "from sklearn.tree import export_graphviz\n",
        "# Other ML Libraries\n",
        "from sklearn.model_selection import train_test_split\n",
        "from sklearn.model_selection import GridSearchCV\n",
        "from sklearn.metrics import accuracy_score,confusion_matrix,classification_report\n",
        "from sklearn.preprocessing import LabelEncoder\n",
        "from sklearn.preprocessing import StandardScaler\n",
        "from statsmodels.stats.outliers_influence import variance_inflation_factor\n",
        "from sklearn.svm import SVC\n",
        "# Function to diable warnings\n",
        "import warnings\n",
        "warnings.filterwarnings(\"ignore\")"
      ],
      "execution_count": 142,
      "outputs": []
    },
    {
      "cell_type": "code",
      "metadata": {
        "id": "qKmCLkxzP62y"
      },
      "source": [
        "# A function to read the dataset\n",
        "# url=http://bit.ly/hypothyroid_data\n",
        "def Dataframe(data):\n",
        "  df=pd.read_csv(data)\n",
        "  return df\n"
      ],
      "execution_count": 2,
      "outputs": []
    },
    {
      "cell_type": "code",
      "metadata": {
        "id": "BlauXg1hxyGw"
      },
      "source": [
        "# Reading the data\n",
        "df=Dataframe('http://bit.ly/hypothyroid_data')"
      ],
      "execution_count": 3,
      "outputs": []
    },
    {
      "cell_type": "markdown",
      "metadata": {
        "id": "xtkfjKNixutC"
      },
      "source": [
        "## 3. Checking the data"
      ]
    },
    {
      "cell_type": "code",
      "metadata": {
        "colab": {
          "base_uri": "https://localhost:8080/",
          "height": 224
        },
        "id": "LkIe2IVweVuW",
        "outputId": "b2d890e2-a067-45e2-a948-b73b48cd8adc"
      },
      "source": [
        "# Checking the head of the data\n",
        "df.head()"
      ],
      "execution_count": 4,
      "outputs": [
        {
          "output_type": "execute_result",
          "data": {
            "text/html": [
              "<div>\n",
              "<style scoped>\n",
              "    .dataframe tbody tr th:only-of-type {\n",
              "        vertical-align: middle;\n",
              "    }\n",
              "\n",
              "    .dataframe tbody tr th {\n",
              "        vertical-align: top;\n",
              "    }\n",
              "\n",
              "    .dataframe thead th {\n",
              "        text-align: right;\n",
              "    }\n",
              "</style>\n",
              "<table border=\"1\" class=\"dataframe\">\n",
              "  <thead>\n",
              "    <tr style=\"text-align: right;\">\n",
              "      <th></th>\n",
              "      <th>status</th>\n",
              "      <th>age</th>\n",
              "      <th>sex</th>\n",
              "      <th>on_thyroxine</th>\n",
              "      <th>query_on_thyroxine</th>\n",
              "      <th>on_antithyroid_medication</th>\n",
              "      <th>thyroid_surgery</th>\n",
              "      <th>query_hypothyroid</th>\n",
              "      <th>query_hyperthyroid</th>\n",
              "      <th>pregnant</th>\n",
              "      <th>sick</th>\n",
              "      <th>tumor</th>\n",
              "      <th>lithium</th>\n",
              "      <th>goitre</th>\n",
              "      <th>TSH_measured</th>\n",
              "      <th>TSH</th>\n",
              "      <th>T3_measured</th>\n",
              "      <th>T3</th>\n",
              "      <th>TT4_measured</th>\n",
              "      <th>TT4</th>\n",
              "      <th>T4U_measured</th>\n",
              "      <th>T4U</th>\n",
              "      <th>FTI_measured</th>\n",
              "      <th>FTI</th>\n",
              "      <th>TBG_measured</th>\n",
              "      <th>TBG</th>\n",
              "    </tr>\n",
              "  </thead>\n",
              "  <tbody>\n",
              "    <tr>\n",
              "      <th>0</th>\n",
              "      <td>hypothyroid</td>\n",
              "      <td>72</td>\n",
              "      <td>M</td>\n",
              "      <td>f</td>\n",
              "      <td>f</td>\n",
              "      <td>f</td>\n",
              "      <td>f</td>\n",
              "      <td>f</td>\n",
              "      <td>f</td>\n",
              "      <td>f</td>\n",
              "      <td>f</td>\n",
              "      <td>f</td>\n",
              "      <td>f</td>\n",
              "      <td>f</td>\n",
              "      <td>y</td>\n",
              "      <td>30</td>\n",
              "      <td>y</td>\n",
              "      <td>0.60</td>\n",
              "      <td>y</td>\n",
              "      <td>15</td>\n",
              "      <td>y</td>\n",
              "      <td>1.48</td>\n",
              "      <td>y</td>\n",
              "      <td>10</td>\n",
              "      <td>n</td>\n",
              "      <td>?</td>\n",
              "    </tr>\n",
              "    <tr>\n",
              "      <th>1</th>\n",
              "      <td>hypothyroid</td>\n",
              "      <td>15</td>\n",
              "      <td>F</td>\n",
              "      <td>t</td>\n",
              "      <td>f</td>\n",
              "      <td>f</td>\n",
              "      <td>f</td>\n",
              "      <td>f</td>\n",
              "      <td>f</td>\n",
              "      <td>f</td>\n",
              "      <td>f</td>\n",
              "      <td>f</td>\n",
              "      <td>f</td>\n",
              "      <td>f</td>\n",
              "      <td>y</td>\n",
              "      <td>145</td>\n",
              "      <td>y</td>\n",
              "      <td>1.70</td>\n",
              "      <td>y</td>\n",
              "      <td>19</td>\n",
              "      <td>y</td>\n",
              "      <td>1.13</td>\n",
              "      <td>y</td>\n",
              "      <td>17</td>\n",
              "      <td>n</td>\n",
              "      <td>?</td>\n",
              "    </tr>\n",
              "    <tr>\n",
              "      <th>2</th>\n",
              "      <td>hypothyroid</td>\n",
              "      <td>24</td>\n",
              "      <td>M</td>\n",
              "      <td>f</td>\n",
              "      <td>f</td>\n",
              "      <td>f</td>\n",
              "      <td>f</td>\n",
              "      <td>f</td>\n",
              "      <td>f</td>\n",
              "      <td>f</td>\n",
              "      <td>f</td>\n",
              "      <td>f</td>\n",
              "      <td>f</td>\n",
              "      <td>f</td>\n",
              "      <td>y</td>\n",
              "      <td>0</td>\n",
              "      <td>y</td>\n",
              "      <td>0.20</td>\n",
              "      <td>y</td>\n",
              "      <td>4</td>\n",
              "      <td>y</td>\n",
              "      <td>1</td>\n",
              "      <td>y</td>\n",
              "      <td>0</td>\n",
              "      <td>n</td>\n",
              "      <td>?</td>\n",
              "    </tr>\n",
              "    <tr>\n",
              "      <th>3</th>\n",
              "      <td>hypothyroid</td>\n",
              "      <td>24</td>\n",
              "      <td>F</td>\n",
              "      <td>f</td>\n",
              "      <td>f</td>\n",
              "      <td>f</td>\n",
              "      <td>f</td>\n",
              "      <td>f</td>\n",
              "      <td>f</td>\n",
              "      <td>f</td>\n",
              "      <td>f</td>\n",
              "      <td>f</td>\n",
              "      <td>f</td>\n",
              "      <td>f</td>\n",
              "      <td>y</td>\n",
              "      <td>430</td>\n",
              "      <td>y</td>\n",
              "      <td>0.40</td>\n",
              "      <td>y</td>\n",
              "      <td>6</td>\n",
              "      <td>y</td>\n",
              "      <td>1.04</td>\n",
              "      <td>y</td>\n",
              "      <td>6</td>\n",
              "      <td>n</td>\n",
              "      <td>?</td>\n",
              "    </tr>\n",
              "    <tr>\n",
              "      <th>4</th>\n",
              "      <td>hypothyroid</td>\n",
              "      <td>77</td>\n",
              "      <td>M</td>\n",
              "      <td>f</td>\n",
              "      <td>f</td>\n",
              "      <td>f</td>\n",
              "      <td>f</td>\n",
              "      <td>f</td>\n",
              "      <td>f</td>\n",
              "      <td>f</td>\n",
              "      <td>f</td>\n",
              "      <td>f</td>\n",
              "      <td>f</td>\n",
              "      <td>f</td>\n",
              "      <td>y</td>\n",
              "      <td>7.30</td>\n",
              "      <td>y</td>\n",
              "      <td>1.20</td>\n",
              "      <td>y</td>\n",
              "      <td>57</td>\n",
              "      <td>y</td>\n",
              "      <td>1.28</td>\n",
              "      <td>y</td>\n",
              "      <td>44</td>\n",
              "      <td>n</td>\n",
              "      <td>?</td>\n",
              "    </tr>\n",
              "  </tbody>\n",
              "</table>\n",
              "</div>"
            ],
            "text/plain": [
              "        status age sex on_thyroxine  ... FTI_measured FTI TBG_measured TBG\n",
              "0  hypothyroid  72   M            f  ...            y  10            n   ?\n",
              "1  hypothyroid  15   F            t  ...            y  17            n   ?\n",
              "2  hypothyroid  24   M            f  ...            y   0            n   ?\n",
              "3  hypothyroid  24   F            f  ...            y   6            n   ?\n",
              "4  hypothyroid  77   M            f  ...            y  44            n   ?\n",
              "\n",
              "[5 rows x 26 columns]"
            ]
          },
          "metadata": {},
          "execution_count": 4
        }
      ]
    },
    {
      "cell_type": "code",
      "metadata": {
        "colab": {
          "base_uri": "https://localhost:8080/",
          "height": 224
        },
        "id": "PNDEix62egl_",
        "outputId": "ca323890-95db-4a59-9572-b2e0276d80a5"
      },
      "source": [
        "# Checking the extreemities of the data\n",
        "df.tail()"
      ],
      "execution_count": 5,
      "outputs": [
        {
          "output_type": "execute_result",
          "data": {
            "text/html": [
              "<div>\n",
              "<style scoped>\n",
              "    .dataframe tbody tr th:only-of-type {\n",
              "        vertical-align: middle;\n",
              "    }\n",
              "\n",
              "    .dataframe tbody tr th {\n",
              "        vertical-align: top;\n",
              "    }\n",
              "\n",
              "    .dataframe thead th {\n",
              "        text-align: right;\n",
              "    }\n",
              "</style>\n",
              "<table border=\"1\" class=\"dataframe\">\n",
              "  <thead>\n",
              "    <tr style=\"text-align: right;\">\n",
              "      <th></th>\n",
              "      <th>status</th>\n",
              "      <th>age</th>\n",
              "      <th>sex</th>\n",
              "      <th>on_thyroxine</th>\n",
              "      <th>query_on_thyroxine</th>\n",
              "      <th>on_antithyroid_medication</th>\n",
              "      <th>thyroid_surgery</th>\n",
              "      <th>query_hypothyroid</th>\n",
              "      <th>query_hyperthyroid</th>\n",
              "      <th>pregnant</th>\n",
              "      <th>sick</th>\n",
              "      <th>tumor</th>\n",
              "      <th>lithium</th>\n",
              "      <th>goitre</th>\n",
              "      <th>TSH_measured</th>\n",
              "      <th>TSH</th>\n",
              "      <th>T3_measured</th>\n",
              "      <th>T3</th>\n",
              "      <th>TT4_measured</th>\n",
              "      <th>TT4</th>\n",
              "      <th>T4U_measured</th>\n",
              "      <th>T4U</th>\n",
              "      <th>FTI_measured</th>\n",
              "      <th>FTI</th>\n",
              "      <th>TBG_measured</th>\n",
              "      <th>TBG</th>\n",
              "    </tr>\n",
              "  </thead>\n",
              "  <tbody>\n",
              "    <tr>\n",
              "      <th>3158</th>\n",
              "      <td>negative</td>\n",
              "      <td>58</td>\n",
              "      <td>F</td>\n",
              "      <td>f</td>\n",
              "      <td>f</td>\n",
              "      <td>f</td>\n",
              "      <td>f</td>\n",
              "      <td>f</td>\n",
              "      <td>f</td>\n",
              "      <td>f</td>\n",
              "      <td>f</td>\n",
              "      <td>f</td>\n",
              "      <td>f</td>\n",
              "      <td>f</td>\n",
              "      <td>y</td>\n",
              "      <td>5.80</td>\n",
              "      <td>y</td>\n",
              "      <td>1.70</td>\n",
              "      <td>y</td>\n",
              "      <td>86</td>\n",
              "      <td>y</td>\n",
              "      <td>0.91</td>\n",
              "      <td>y</td>\n",
              "      <td>95</td>\n",
              "      <td>n</td>\n",
              "      <td>?</td>\n",
              "    </tr>\n",
              "    <tr>\n",
              "      <th>3159</th>\n",
              "      <td>negative</td>\n",
              "      <td>29</td>\n",
              "      <td>F</td>\n",
              "      <td>f</td>\n",
              "      <td>f</td>\n",
              "      <td>f</td>\n",
              "      <td>f</td>\n",
              "      <td>f</td>\n",
              "      <td>f</td>\n",
              "      <td>f</td>\n",
              "      <td>f</td>\n",
              "      <td>f</td>\n",
              "      <td>f</td>\n",
              "      <td>f</td>\n",
              "      <td>y</td>\n",
              "      <td>0.80</td>\n",
              "      <td>y</td>\n",
              "      <td>1.80</td>\n",
              "      <td>y</td>\n",
              "      <td>99</td>\n",
              "      <td>y</td>\n",
              "      <td>1.01</td>\n",
              "      <td>y</td>\n",
              "      <td>98</td>\n",
              "      <td>n</td>\n",
              "      <td>?</td>\n",
              "    </tr>\n",
              "    <tr>\n",
              "      <th>3160</th>\n",
              "      <td>negative</td>\n",
              "      <td>77</td>\n",
              "      <td>M</td>\n",
              "      <td>f</td>\n",
              "      <td>f</td>\n",
              "      <td>f</td>\n",
              "      <td>f</td>\n",
              "      <td>f</td>\n",
              "      <td>f</td>\n",
              "      <td>f</td>\n",
              "      <td>f</td>\n",
              "      <td>f</td>\n",
              "      <td>f</td>\n",
              "      <td>f</td>\n",
              "      <td>y</td>\n",
              "      <td>1.20</td>\n",
              "      <td>y</td>\n",
              "      <td>0.60</td>\n",
              "      <td>y</td>\n",
              "      <td>71</td>\n",
              "      <td>y</td>\n",
              "      <td>0.68</td>\n",
              "      <td>y</td>\n",
              "      <td>104</td>\n",
              "      <td>n</td>\n",
              "      <td>?</td>\n",
              "    </tr>\n",
              "    <tr>\n",
              "      <th>3161</th>\n",
              "      <td>negative</td>\n",
              "      <td>74</td>\n",
              "      <td>F</td>\n",
              "      <td>f</td>\n",
              "      <td>f</td>\n",
              "      <td>f</td>\n",
              "      <td>f</td>\n",
              "      <td>f</td>\n",
              "      <td>f</td>\n",
              "      <td>f</td>\n",
              "      <td>f</td>\n",
              "      <td>f</td>\n",
              "      <td>f</td>\n",
              "      <td>f</td>\n",
              "      <td>y</td>\n",
              "      <td>1.30</td>\n",
              "      <td>y</td>\n",
              "      <td>0.10</td>\n",
              "      <td>y</td>\n",
              "      <td>65</td>\n",
              "      <td>y</td>\n",
              "      <td>0.48</td>\n",
              "      <td>y</td>\n",
              "      <td>137</td>\n",
              "      <td>n</td>\n",
              "      <td>?</td>\n",
              "    </tr>\n",
              "    <tr>\n",
              "      <th>3162</th>\n",
              "      <td>negative</td>\n",
              "      <td>56</td>\n",
              "      <td>F</td>\n",
              "      <td>t</td>\n",
              "      <td>f</td>\n",
              "      <td>f</td>\n",
              "      <td>f</td>\n",
              "      <td>f</td>\n",
              "      <td>f</td>\n",
              "      <td>f</td>\n",
              "      <td>f</td>\n",
              "      <td>f</td>\n",
              "      <td>f</td>\n",
              "      <td>f</td>\n",
              "      <td>y</td>\n",
              "      <td>0</td>\n",
              "      <td>y</td>\n",
              "      <td>1.80</td>\n",
              "      <td>y</td>\n",
              "      <td>139</td>\n",
              "      <td>y</td>\n",
              "      <td>0.97</td>\n",
              "      <td>y</td>\n",
              "      <td>143</td>\n",
              "      <td>n</td>\n",
              "      <td>?</td>\n",
              "    </tr>\n",
              "  </tbody>\n",
              "</table>\n",
              "</div>"
            ],
            "text/plain": [
              "        status age sex on_thyroxine  ... FTI_measured  FTI TBG_measured TBG\n",
              "3158  negative  58   F            f  ...            y   95            n   ?\n",
              "3159  negative  29   F            f  ...            y   98            n   ?\n",
              "3160  negative  77   M            f  ...            y  104            n   ?\n",
              "3161  negative  74   F            f  ...            y  137            n   ?\n",
              "3162  negative  56   F            t  ...            y  143            n   ?\n",
              "\n",
              "[5 rows x 26 columns]"
            ]
          },
          "metadata": {},
          "execution_count": 5
        }
      ]
    },
    {
      "cell_type": "code",
      "metadata": {
        "colab": {
          "base_uri": "https://localhost:8080/"
        },
        "id": "9eFd7jFGet7U",
        "outputId": "405610d2-ee74-4a07-c0f0-a30896bbb74e"
      },
      "source": [
        "# Checking the structure of my dataset\n",
        "print('My dataset has ',df.shape[0],'rows and ',df.shape[1],' Columns')"
      ],
      "execution_count": 6,
      "outputs": [
        {
          "output_type": "stream",
          "name": "stdout",
          "text": [
            "My dataset has  3163 rows and  26  Columns\n"
          ]
        }
      ]
    },
    {
      "cell_type": "code",
      "metadata": {
        "colab": {
          "base_uri": "https://localhost:8080/"
        },
        "id": "Vib52jgYyIpZ",
        "outputId": "6b64be62-11bb-4ac7-94c8-e67bafb1120a"
      },
      "source": [
        "# Checking my datatypes to assess the mode of analysis\n",
        "df.dtypes\n",
        "# All my datapoints are objects"
      ],
      "execution_count": 7,
      "outputs": [
        {
          "output_type": "execute_result",
          "data": {
            "text/plain": [
              "status                       object\n",
              "age                          object\n",
              "sex                          object\n",
              "on_thyroxine                 object\n",
              "query_on_thyroxine           object\n",
              "on_antithyroid_medication    object\n",
              "thyroid_surgery              object\n",
              "query_hypothyroid            object\n",
              "query_hyperthyroid           object\n",
              "pregnant                     object\n",
              "sick                         object\n",
              "tumor                        object\n",
              "lithium                      object\n",
              "goitre                       object\n",
              "TSH_measured                 object\n",
              "TSH                          object\n",
              "T3_measured                  object\n",
              "T3                           object\n",
              "TT4_measured                 object\n",
              "TT4                          object\n",
              "T4U_measured                 object\n",
              "T4U                          object\n",
              "FTI_measured                 object\n",
              "FTI                          object\n",
              "TBG_measured                 object\n",
              "TBG                          object\n",
              "dtype: object"
            ]
          },
          "metadata": {},
          "execution_count": 7
        }
      ]
    },
    {
      "cell_type": "markdown",
      "metadata": {
        "id": "a_bi6wQlyQF6"
      },
      "source": [
        "## 4. External Dataset Validation"
      ]
    },
    {
      "cell_type": "markdown",
      "metadata": {
        "id": "3fnGjgfIyV7j"
      },
      "source": [
        "####  Validation: The components in the data indeed are associated with hyper and hypothyroidsm. This the dataset is valid for analysis. All the definitions can be found on the this link:https://glowm.com/resources/glowm/cd/pages/resources/Lab/Thyroid_Function_Tests.htm"
      ]
    },
    {
      "cell_type": "markdown",
      "metadata": {
        "id": "dFV50GcbyX9a"
      },
      "source": [
        "## 5. Cleaning the dataset"
      ]
    },
    {
      "cell_type": "markdown",
      "metadata": {
        "id": "xWif1OcFzWV5"
      },
      "source": [
        "Column review"
      ]
    },
    {
      "cell_type": "code",
      "metadata": {
        "colab": {
          "base_uri": "https://localhost:8080/"
        },
        "id": "zaUwalOCgn6G",
        "outputId": "b90a0e7a-9039-426c-e5f3-bea0936c59d4"
      },
      "source": [
        "# Converting the numerical datypes to integers and floats\n",
        "df[['age','TSH','T3','TT4','T4U','FTI','TBG']]=df[['age','TSH','T3','TT4','T4U','FTI','TBG']].apply(pd.to_numeric,errors='coerce')\n",
        "df.dtypes\n"
      ],
      "execution_count": 8,
      "outputs": [
        {
          "output_type": "execute_result",
          "data": {
            "text/plain": [
              "status                        object\n",
              "age                          float64\n",
              "sex                           object\n",
              "on_thyroxine                  object\n",
              "query_on_thyroxine            object\n",
              "on_antithyroid_medication     object\n",
              "thyroid_surgery               object\n",
              "query_hypothyroid             object\n",
              "query_hyperthyroid            object\n",
              "pregnant                      object\n",
              "sick                          object\n",
              "tumor                         object\n",
              "lithium                       object\n",
              "goitre                        object\n",
              "TSH_measured                  object\n",
              "TSH                          float64\n",
              "T3_measured                   object\n",
              "T3                           float64\n",
              "TT4_measured                  object\n",
              "TT4                          float64\n",
              "T4U_measured                  object\n",
              "T4U                          float64\n",
              "FTI_measured                  object\n",
              "FTI                          float64\n",
              "TBG_measured                  object\n",
              "TBG                          float64\n",
              "dtype: object"
            ]
          },
          "metadata": {},
          "execution_count": 8
        }
      ]
    },
    {
      "cell_type": "markdown",
      "metadata": {
        "id": "eCPxIhNszavj"
      },
      "source": [
        "Missing values"
      ]
    },
    {
      "cell_type": "code",
      "metadata": {
        "colab": {
          "base_uri": "https://localhost:8080/",
          "height": 404
        },
        "id": "p4cyVRT2m1XR",
        "outputId": "e2c8cca3-4b97-4637-905f-d0f5a9ad721e"
      },
      "source": [
        "#Checking for missing values\n",
        "plt.figure(figsize=(12,4))\n",
        "sns.heatmap(df.isnull(),cbar=False,cmap='cividis',yticklabels=False)\n",
        "plt.title('Missing values in the dataset');\n",
        "# There are missing values in the Age,TSH,T3,TT4,T4U,FF1,and the most missing values are found in the TBG column"
      ],
      "execution_count": 9,
      "outputs": [
        {
          "output_type": "display_data",
          "data": {
            "image/png": "[encoded data removed]",
            "text/plain": [
              "<Figure size 864x288 with 1 Axes>"
            ]
          },
          "metadata": {
            "needs_background": "light"
          }
        }
      ]
    },
    {
      "cell_type": "code",
      "metadata": {
        "colab": {
          "base_uri": "https://localhost:8080/"
        },
        "id": "-cyoFkaf6oKf",
        "outputId": "0f8f15bc-b7cd-41ed-de88-c1d17feefe00"
      },
      "source": [
        "#Checking the percentage of null values\n",
        "def missing_percentage(data):\n",
        "    p_miss=((data.isnull().sum() / len(data))*100)\n",
        "    missing_value_df=pd.DataFrame({'percent_missing': p_miss},index=data.columns)\n",
        "    return missing_value_df\n",
        "print(missing_percentage(df))\n",
        "print(df.shape)"
      ],
      "execution_count": 10,
      "outputs": [
        {
          "output_type": "stream",
          "name": "stdout",
          "text": [
            "                           percent_missing\n",
            "status                            0.000000\n",
            "age                              14.100537\n",
            "sex                               0.000000\n",
            "on_thyroxine                      0.000000\n",
            "query_on_thyroxine                0.000000\n",
            "on_antithyroid_medication         0.000000\n",
            "thyroid_surgery                   0.000000\n",
            "query_hypothyroid                 0.000000\n",
            "query_hyperthyroid                0.000000\n",
            "pregnant                          0.000000\n",
            "sick                              0.000000\n",
            "tumor                             0.000000\n",
            "lithium                           0.000000\n",
            "goitre                            0.000000\n",
            "TSH_measured                      0.000000\n",
            "TSH                              14.796080\n",
            "T3_measured                       0.000000\n",
            "T3                               21.972811\n",
            "TT4_measured                      0.000000\n",
            "TT4                               7.872273\n",
            "T4U_measured                      0.000000\n",
            "T4U                               7.840658\n",
            "FTI_measured                      0.000000\n",
            "FTI                               7.809042\n",
            "TBG_measured                      0.000000\n",
            "TBG                              91.779956\n",
            "(3163, 26)\n"
          ]
        }
      ]
    },
    {
      "cell_type": "code",
      "metadata": {
        "colab": {
          "base_uri": "https://localhost:8080/"
        },
        "id": "5bJkTxC_zqJr",
        "outputId": "6662eec5-f451-4d72-cdc3-94bc471ecee5"
      },
      "source": [
        "# Dealing with missing values\n",
        "def max_min(data,column):\n",
        "  df1=data[column].max()\n",
        "  df2=data[column].min()\n",
        "  # df3=data[column].mode()\n",
        "  df3=data[column].mean()\n",
        "  print(df1,df2,df3)\n",
        "max_min(df,'age')\n",
        "max_min(df,'TSH')\n",
        "max_min(df,'T3')\n",
        "max_min(df,'TT4')\n",
        "max_min(df,'FTI')\n",
        "max_min(df,'TBG')"
      ],
      "execution_count": 11,
      "outputs": [
        {
          "output_type": "stream",
          "name": "stdout",
          "text": [
            "98.0 1.0 51.154214206845786\n",
            "530.0 0.0 5.923179962894247\n",
            "10.2 0.0 1.9397487844408425\n",
            "450.0 2.0 108.85000000000001\n",
            "881.0 0.0 115.39777091906723\n",
            "122.0 0.0 31.28307692307692\n"
          ]
        }
      ]
    },
    {
      "cell_type": "code",
      "metadata": {
        "id": "_H4hmjQc6Syv"
      },
      "source": [
        "# Filling the null values in the age,TSH,T3,TT4,T4U and FT1 column with the mean \n",
        "def missing_val(data,col):\n",
        "  df=data[col].fillna(data[col].mean(),inplace=True)\n",
        "  return df\n",
        "missing_val(df,'age')\n",
        "missing_val(df,'TSH')\n",
        "missing_val(df,'T3')\n",
        "missing_val(df,'TT4')\n",
        "missing_val(df,'T4U')\n",
        "missing_val(df,'FTI')"
      ],
      "execution_count": 12,
      "outputs": []
    },
    {
      "cell_type": "markdown",
      "metadata": {
        "id": "tPgU3QJ4oNZE"
      },
      "source": [
        "The main reason for this action is that and dropping the null values would warrant 14 and 21%  loss in the T3,TSH and about 7% of TT4 and FTI thus i have filled them with the mean for ease in analysis.\n",
        "The 14% missing values in the age column were filled with the mean as it has the highest frequency and suits the distrubution of ages as will be seen in analysis."
      ]
    },
    {
      "cell_type": "code",
      "metadata": {
        "colab": {
          "base_uri": "https://localhost:8080/",
          "height": 404
        },
        "id": "-X_5-3Y80-CR",
        "outputId": "20c8b27b-7043-4ece-fa93-b118ae1b472c"
      },
      "source": [
        "plt.figure(figsize=(12,4))\n",
        "sns.heatmap(df.isnull(),cbar=False,cmap='cividis',yticklabels=False)\n",
        "plt.title('Missing values in the dataset'); \n",
        "# We have successfully filled the age column.thus will not be affected by fillna"
      ],
      "execution_count": 13,
      "outputs": [
        {
          "output_type": "display_data",
          "data": {
            "image/png": "[encoded data removed]",
            "text/plain": [
              "<Figure size 864x288 with 1 Axes>"
            ]
          },
          "metadata": {
            "needs_background": "light"
          }
        }
      ]
    },
    {
      "cell_type": "markdown",
      "metadata": {
        "id": "7hsS2A2Wou5H"
      },
      "source": [
        "91% is too much of a shift when filled with the mean thus the column will be dropped completely."
      ]
    },
    {
      "cell_type": "code",
      "metadata": {
        "colab": {
          "base_uri": "https://localhost:8080/"
        },
        "id": "HuNSJHmbEqwE",
        "outputId": "e1817453-606f-4f36-9d44-8519e918a01c"
      },
      "source": [
        "# Seeing that missing values \n",
        "# Filling the missing values with zero at the risk of skewing the TBG to the left this is for the purpose of analysis only\n",
        "# Giving the dataset without missing values a variable to avoid confusion during misclassification\n",
        "df1=df.drop(columns=['TBG'],axis=1)\n",
        "df1.isnull().any()"
      ],
      "execution_count": 14,
      "outputs": [
        {
          "output_type": "execute_result",
          "data": {
            "text/plain": [
              "status                       False\n",
              "age                          False\n",
              "sex                          False\n",
              "on_thyroxine                 False\n",
              "query_on_thyroxine           False\n",
              "on_antithyroid_medication    False\n",
              "thyroid_surgery              False\n",
              "query_hypothyroid            False\n",
              "query_hyperthyroid           False\n",
              "pregnant                     False\n",
              "sick                         False\n",
              "tumor                        False\n",
              "lithium                      False\n",
              "goitre                       False\n",
              "TSH_measured                 False\n",
              "TSH                          False\n",
              "T3_measured                  False\n",
              "T3                           False\n",
              "TT4_measured                 False\n",
              "TT4                          False\n",
              "T4U_measured                 False\n",
              "T4U                          False\n",
              "FTI_measured                 False\n",
              "FTI                          False\n",
              "TBG_measured                 False\n",
              "dtype: bool"
            ]
          },
          "metadata": {},
          "execution_count": 14
        }
      ]
    },
    {
      "cell_type": "code",
      "metadata": {
        "colab": {
          "base_uri": "https://localhost:8080/"
        },
        "id": "i8taIE52dS7l",
        "outputId": "e0ccaaf9-c931-4b6b-a450-29f3620c778f"
      },
      "source": [
        "print('My dataset has ',df1.shape[0],'rows and ',df1.shape[1],' Columns')"
      ],
      "execution_count": 15,
      "outputs": [
        {
          "output_type": "stream",
          "name": "stdout",
          "text": [
            "My dataset has  3163 rows and  25  Columns\n"
          ]
        }
      ]
    },
    {
      "cell_type": "markdown",
      "metadata": {
        "id": "QFbRWWtHGr0L"
      },
      "source": [
        "It is important to note that inputting a real number would affect my analysis and dropping the null values would warrant 21% and above loss in the T3,TSH and about 7% of TT4 and FTI thus i have filled them with zero for ease in analysis.\n",
        "The 14% missing values in the age column were filled with the mean as it has the highest frequency and suits the distrubution of ages as will be seen in analysis."
      ]
    },
    {
      "cell_type": "markdown",
      "metadata": {
        "id": "kOMjLuHFHeIS"
      },
      "source": [
        "Duplicates"
      ]
    },
    {
      "cell_type": "code",
      "metadata": {
        "colab": {
          "base_uri": "https://localhost:8080/"
        },
        "id": "x8lD7gS7HgmA",
        "outputId": "7571a03d-ea69-4d13-db3d-7c1dc0e88f50"
      },
      "source": [
        "# Checking for duplicated data\n",
        "df1.duplicated().any().sum()\n",
        "# Dropping the duplicated\n",
        "df1.drop_duplicates(inplace=True)\n",
        "# Confirming the operation\n",
        "df1.duplicated().any().sum()"
      ],
      "execution_count": 16,
      "outputs": [
        {
          "output_type": "execute_result",
          "data": {
            "text/plain": [
              "0"
            ]
          },
          "metadata": {},
          "execution_count": 16
        }
      ]
    },
    {
      "cell_type": "markdown",
      "metadata": {
        "id": "Zng7xO3GH6_b"
      },
      "source": [
        "Anomalies and Outliers in categorical columns"
      ]
    },
    {
      "cell_type": "code",
      "metadata": {
        "id": "IRihHp7PH6iq"
      },
      "source": [
        "# Checking for anomalies in my set begining with categorical columns\n",
        "def value_counts(data,col):\n",
        "  counts=data[col].value_counts()\n",
        "  frame=pd.DataFrame({'counts':counts})\n",
        "  print(frame)"
      ],
      "execution_count": 17,
      "outputs": []
    },
    {
      "cell_type": "code",
      "metadata": {
        "colab": {
          "base_uri": "https://localhost:8080/"
        },
        "id": "QFgXa6q4Ko0Q",
        "outputId": "5d19c42a-b466-407f-9166-0ab580e1c17d"
      },
      "source": [
        "# Checking for anomalies in status\n",
        "value_counts(df1,'status')\n",
        "df['status'].unique()\n",
        "# No anomalies detected in status column"
      ],
      "execution_count": 18,
      "outputs": [
        {
          "output_type": "stream",
          "name": "stdout",
          "text": [
            "             counts\n",
            "negative       2870\n",
            "hypothyroid     141\n"
          ]
        },
        {
          "output_type": "execute_result",
          "data": {
            "text/plain": [
              "array(['hypothyroid', 'negative'], dtype=object)"
            ]
          },
          "metadata": {},
          "execution_count": 18
        }
      ]
    },
    {
      "cell_type": "code",
      "metadata": {
        "colab": {
          "base_uri": "https://localhost:8080/"
        },
        "id": "qD2BK8qpJiUt",
        "outputId": "a11e8378-86e6-4243-aba4-dbadaec812b4"
      },
      "source": [
        "# # Checking for anomalies in sex\n",
        "value_counts(df1,'sex')\n",
        "# There is an anomaly in sex with an unclassified gender\n",
        "df['sex'].unique()"
      ],
      "execution_count": 19,
      "outputs": [
        {
          "output_type": "stream",
          "name": "stdout",
          "text": [
            "   counts\n",
            "F    2049\n",
            "M     889\n",
            "?      73\n"
          ]
        },
        {
          "output_type": "execute_result",
          "data": {
            "text/plain": [
              "array(['M', 'F', '?'], dtype=object)"
            ]
          },
          "metadata": {},
          "execution_count": 19
        }
      ]
    },
    {
      "cell_type": "code",
      "metadata": {
        "colab": {
          "base_uri": "https://localhost:8080/"
        },
        "id": "XY1lxjngPxov",
        "outputId": "02ab750d-0f27-4b99-ba9b-f32adab71844"
      },
      "source": [
        "# # Using lambda function to replace the value ? with F/M to avoid loosing the rest of the data\n",
        "df1['sex']=df1['sex'].apply(lambda x:'F/M' if x=='?' else('M' if x=='M' else 'F'))\n",
        "df1['sex'].unique()"
      ],
      "execution_count": 20,
      "outputs": [
        {
          "output_type": "execute_result",
          "data": {
            "text/plain": [
              "array(['M', 'F', 'F/M'], dtype=object)"
            ]
          },
          "metadata": {},
          "execution_count": 20
        }
      ]
    },
    {
      "cell_type": "code",
      "metadata": {
        "colab": {
          "base_uri": "https://localhost:8080/"
        },
        "id": "SGoWnNiAPxbk",
        "outputId": "9402a7fa-bdca-42ab-a150-38b6d0e8c405"
      },
      "source": [
        "# Checking for anomalies in on thyroxine column\n",
        "value_counts(df1,'on_thyroxine')\n",
        "# No anomalies detected in onthyroxine column"
      ],
      "execution_count": 21,
      "outputs": [
        {
          "output_type": "stream",
          "name": "stdout",
          "text": [
            "   counts\n",
            "f    2565\n",
            "t     446\n"
          ]
        }
      ]
    },
    {
      "cell_type": "code",
      "metadata": {
        "colab": {
          "base_uri": "https://localhost:8080/"
        },
        "id": "NQFrdIFsQhzX",
        "outputId": "4fd7d233-1da8-4364-ff7e-0b88a921d15b"
      },
      "source": [
        "# anomalies in query on thyroxine column\n",
        "value_counts(df1,'query_on_thyroxine')\n",
        "# No anomalies detected in that column"
      ],
      "execution_count": 22,
      "outputs": [
        {
          "output_type": "stream",
          "name": "stdout",
          "text": [
            "   counts\n",
            "f    2956\n",
            "t      55\n"
          ]
        }
      ]
    },
    {
      "cell_type": "code",
      "metadata": {
        "colab": {
          "base_uri": "https://localhost:8080/"
        },
        "id": "gDwX1kxkRCay",
        "outputId": "f06db477-4cca-4c4a-f941-3f835e503e1b"
      },
      "source": [
        "# Checking for anomalies and outliers in on thyroid medication column.\n",
        "value_counts(df1,'on_antithyroid_medication')\n",
        "# No anomalies detected on that column/This applies to outliers"
      ],
      "execution_count": 23,
      "outputs": [
        {
          "output_type": "stream",
          "name": "stdout",
          "text": [
            "   counts\n",
            "f    2969\n",
            "t      42\n"
          ]
        }
      ]
    },
    {
      "cell_type": "code",
      "metadata": {
        "colab": {
          "base_uri": "https://localhost:8080/"
        },
        "id": "ik5UccfoRRND",
        "outputId": "a547f745-7168-46b3-a12b-f12121f224af"
      },
      "source": [
        "# anomalies in thyroid surgery column\n",
        "value_counts(df1,'thyroid_surgery')\n",
        "# No anomalies detected on this column"
      ],
      "execution_count": 24,
      "outputs": [
        {
          "output_type": "stream",
          "name": "stdout",
          "text": [
            "   counts\n",
            "f    2908\n",
            "t     103\n"
          ]
        }
      ]
    },
    {
      "cell_type": "code",
      "metadata": {
        "colab": {
          "base_uri": "https://localhost:8080/"
        },
        "id": "ERxPEXY4RuQG",
        "outputId": "23e67d0c-7f14-4300-b113-16439599c961"
      },
      "source": [
        "# The Query hypothyroid column\n",
        "value_counts(df1,'query_hypothyroid')\n",
        "# No anomalies detected and the total fit the number of rows in our column\n"
      ],
      "execution_count": 25,
      "outputs": [
        {
          "output_type": "stream",
          "name": "stdout",
          "text": [
            "   counts\n",
            "f    2776\n",
            "t     235\n"
          ]
        }
      ]
    },
    {
      "cell_type": "code",
      "metadata": {
        "colab": {
          "base_uri": "https://localhost:8080/"
        },
        "id": "1aRf4v35SNkf",
        "outputId": "c6720975-02a6-422a-9bca-097ca07f35ba"
      },
      "source": [
        "# Pregnant\n",
        "value_counts(df1,'pregnant')\n",
        "# No anomaly or outlier present"
      ],
      "execution_count": 26,
      "outputs": [
        {
          "output_type": "stream",
          "name": "stdout",
          "text": [
            "   counts\n",
            "f    2950\n",
            "t      61\n"
          ]
        }
      ]
    },
    {
      "cell_type": "code",
      "metadata": {
        "colab": {
          "base_uri": "https://localhost:8080/"
        },
        "id": "5RCAOkYISlBh",
        "outputId": "71587fc5-c9b4-421f-cbc1-524dc0092e27"
      },
      "source": [
        "#sick                                     \n",
        "value_counts(df1,'sick')\n",
        "# No outliers present in the sick column"
      ],
      "execution_count": 27,
      "outputs": [
        {
          "output_type": "stream",
          "name": "stdout",
          "text": [
            "   counts\n",
            "f    2914\n",
            "t      97\n"
          ]
        }
      ]
    },
    {
      "cell_type": "code",
      "metadata": {
        "colab": {
          "base_uri": "https://localhost:8080/"
        },
        "id": "c_GRmeK2S-eu",
        "outputId": "2eaa48c6-9f7e-4ed2-a3f1-df8ec02dd6a5"
      },
      "source": [
        "# With tumor\n",
        "value_counts(df1,'tumor')\n",
        "# No anomalies detected"
      ],
      "execution_count": 28,
      "outputs": [
        {
          "output_type": "stream",
          "name": "stdout",
          "text": [
            "   counts\n",
            "f    2971\n",
            "t      40\n"
          ]
        }
      ]
    },
    {
      "cell_type": "code",
      "metadata": {
        "colab": {
          "base_uri": "https://localhost:8080/"
        },
        "id": "myqyYdqkTIcz",
        "outputId": "ac4cca12-31af-46b0-e205-f370ed715db0"
      },
      "source": [
        "# Lithium\n",
        "value_counts(df1,'lithium')\n",
        "# No anomalies detected in the lithium volumn"
      ],
      "execution_count": 29,
      "outputs": [
        {
          "output_type": "stream",
          "name": "stdout",
          "text": [
            "   counts\n",
            "f    3009\n",
            "t       2\n"
          ]
        }
      ]
    },
    {
      "cell_type": "code",
      "metadata": {
        "colab": {
          "base_uri": "https://localhost:8080/"
        },
        "id": "3hjmXLmzTTHW",
        "outputId": "8475f716-85fd-491c-9a16-0fbc2a260993"
      },
      "source": [
        "# Goitre\n",
        "value_counts(df1,'goitre')\n",
        "# No anomalies detected"
      ],
      "execution_count": 30,
      "outputs": [
        {
          "output_type": "stream",
          "name": "stdout",
          "text": [
            "   counts\n",
            "f    2915\n",
            "t      96\n"
          ]
        }
      ]
    },
    {
      "cell_type": "code",
      "metadata": {
        "colab": {
          "base_uri": "https://localhost:8080/"
        },
        "id": "haMst7H6TaTM",
        "outputId": "e4531edf-96b2-4cdf-f138-651269dbd307"
      },
      "source": [
        "# looking for anomalies and ourliers in TSH column\n",
        "value_counts(df1,'TSH_measured')"
      ],
      "execution_count": 31,
      "outputs": [
        {
          "output_type": "stream",
          "name": "stdout",
          "text": [
            "   counts\n",
            "y    2631\n",
            "n     380\n"
          ]
        }
      ]
    },
    {
      "cell_type": "code",
      "metadata": {
        "colab": {
          "base_uri": "https://localhost:8080/"
        },
        "id": "Pcp4XdweT0Si",
        "outputId": "f605570a-3937-4d38-80ba-b5cfe5e8ecc7"
      },
      "source": [
        "value_counts(df1,'T3_measured')"
      ],
      "execution_count": 32,
      "outputs": [
        {
          "output_type": "stream",
          "name": "stdout",
          "text": [
            "   counts\n",
            "y    2406\n",
            "n     605\n"
          ]
        }
      ]
    },
    {
      "cell_type": "code",
      "metadata": {
        "colab": {
          "base_uri": "https://localhost:8080/"
        },
        "id": "BUH1DEScT3Mv",
        "outputId": "b433824c-aab4-48d1-87ed-8381b30a0edb"
      },
      "source": [
        "value_counts(df1,'TT4_measured')"
      ],
      "execution_count": 33,
      "outputs": [
        {
          "output_type": "stream",
          "name": "stdout",
          "text": [
            "   counts\n",
            "y    2846\n",
            "n     165\n"
          ]
        }
      ]
    },
    {
      "cell_type": "code",
      "metadata": {
        "colab": {
          "base_uri": "https://localhost:8080/"
        },
        "id": "PMmO0uhJUNYL",
        "outputId": "d4367206-4ecc-4b84-86f6-5c29d945c779"
      },
      "source": [
        "value_counts(df1,'T4U_measured')"
      ],
      "execution_count": 34,
      "outputs": [
        {
          "output_type": "stream",
          "name": "stdout",
          "text": [
            "   counts\n",
            "y    2847\n",
            "n     164\n"
          ]
        }
      ]
    },
    {
      "cell_type": "code",
      "metadata": {
        "colab": {
          "base_uri": "https://localhost:8080/"
        },
        "id": "mgkCpEFiT8Pj",
        "outputId": "f275d623-291c-4c8c-d897-d3c18ef8bec2"
      },
      "source": [
        "value_counts(df1,'FTI_measured')"
      ],
      "execution_count": 35,
      "outputs": [
        {
          "output_type": "stream",
          "name": "stdout",
          "text": [
            "   counts\n",
            "y    2848\n",
            "n     163\n"
          ]
        }
      ]
    },
    {
      "cell_type": "code",
      "metadata": {
        "colab": {
          "base_uri": "https://localhost:8080/"
        },
        "id": "QO0NhTRbUTSg",
        "outputId": "364d4595-092f-4dbc-9d2a-dd4b4e2aa507"
      },
      "source": [
        "value_counts(df1,'TBG_measured')"
      ],
      "execution_count": 36,
      "outputs": [
        {
          "output_type": "stream",
          "name": "stdout",
          "text": [
            "   counts\n",
            "n    2835\n",
            "y     176\n"
          ]
        }
      ]
    },
    {
      "cell_type": "markdown",
      "metadata": {
        "id": "FMUhzfjlUW_4"
      },
      "source": [
        "No anomalies detected in the aforementioned columns "
      ]
    },
    {
      "cell_type": "markdown",
      "metadata": {
        "id": "15LHkFxBUeLC"
      },
      "source": [
        "Anomalies and outliers in the continous variables"
      ]
    },
    {
      "cell_type": "code",
      "metadata": {
        "colab": {
          "base_uri": "https://localhost:8080/",
          "height": 1000
        },
        "id": "XqQ2KHKNXm4X",
        "outputId": "0ffecf5d-d06d-40a4-913b-b9fd4e74bdee"
      },
      "source": [
        "# Checking for outliers in the age column\n",
        "cols=['age','TSH','T3','TT4','T4U','FTI']\n",
        "fig,ax=plt.subplots(len(cols),figsize=(10,49))\n",
        "for i,col_vals in enumerate(cols):\n",
        "  sns.boxplot(x=df1[col_vals],ax=ax[i])\n",
        "  ax[i].set_title('A box plot of '+format(col_vals),fontsize=10)\n",
        "  ax[i].set_ylabel('Values')\n",
        "plt.show"
      ],
      "execution_count": 37,
      "outputs": [
        {
          "output_type": "execute_result",
          "data": {
            "text/plain": [
              "<function matplotlib.pyplot.show>"
            ]
          },
          "metadata": {},
          "execution_count": 37
        },
        {
          "output_type": "display_data",
          "data": {
            "image/png": "[encoded data removed]",
            "text/plain": [
              "<Figure size 720x3528 with 6 Axes>"
            ]
          },
          "metadata": {
            "needs_background": "light"
          }
        }
      ]
    },
    {
      "cell_type": "markdown",
      "metadata": {
        "id": "uFDrY6uRYVJi"
      },
      "source": [
        "From this we can see that there are no outliers in the age column. It is to be noted that replacing null values with zero contributed to other values being regarded as outliers . This will be remedied by a less stringent outlier removal tool that will not chuck off all the outliers. Some outliers will be treated as genuine measurement by checking the range of hormonal count that can be gotten in a test from an external validation\n"
      ]
    },
    {
      "cell_type": "code",
      "metadata": {
        "colab": {
          "base_uri": "https://localhost:8080/"
        },
        "id": "a5sojrvkYU10",
        "outputId": "7dad4bf0-c4a6-4699-8dc1-77a8b491714e"
      },
      "source": [
        "# Using the zscore to asess my outlier count\n",
        "from scipy import stats\n",
        "z=np.abs(stats.zscore(df1[['age','TSH','T3','TT4','T4U','FTI']]))\n",
        "# print(z)\n",
        "# Setting a threshold of 3 to remove the values with a zscore value greater than 3\n",
        "thresh=3\n",
        "Clean_df=df1[(z<3).all(axis=1)]\n",
        "print(Clean_df.shape)\n",
        "print(Clean_df.isnull().any().sum())"
      ],
      "execution_count": 38,
      "outputs": [
        {
          "output_type": "stream",
          "name": "stdout",
          "text": [
            "(2819, 25)\n",
            "0\n"
          ]
        }
      ]
    },
    {
      "cell_type": "markdown",
      "metadata": {
        "id": "c8KWr8wbejqz"
      },
      "source": [
        "It is to be noted that df is the dataset with missing values(exept for age and outliers (It will be used for desicion trees as they are quite robust to outliers.\n",
        "Clean_df on the other hand is devoid of outliers and missing values and will be used for decision trees.\n",
        "df1 will be used for analysis as the missing values have been filled with zero."
      ]
    },
    {
      "cell_type": "code",
      "metadata": {
        "colab": {
          "base_uri": "https://localhost:8080/"
        },
        "id": "nL1l0RfAeWpe",
        "outputId": "ddaad10a-3967-4a90-ac7b-5af920a25482"
      },
      "source": [
        "print(df.isnull().any().sum())# This has no null values appart from TBG column. Thus will be used for the desicion trees as the null values have been filled with the mean\n",
        "print(df1.isnull().any().sum())# This set has TBG dropped as it 91 % of the set was made up of missing values.\n",
        "print(Clean_df.isnull().any().sum())# Used for SVM since its clean and devoid of outliers.Trees are robust to outliers thus df1 will be used for trees."
      ],
      "execution_count": 39,
      "outputs": [
        {
          "output_type": "stream",
          "name": "stdout",
          "text": [
            "1\n",
            "0\n",
            "0\n"
          ]
        }
      ]
    },
    {
      "cell_type": "markdown",
      "metadata": {
        "id": "fUJ1alhCybw5"
      },
      "source": [
        "## 6. Exploratory Data Analysis"
      ]
    },
    {
      "cell_type": "markdown",
      "metadata": {
        "id": "WOP9iEDdy49Y"
      },
      "source": [
        "### a.) Univariate Analysis"
      ]
    },
    {
      "cell_type": "code",
      "metadata": {
        "colab": {
          "base_uri": "https://localhost:8080/"
        },
        "id": "cSSGaL9FrXNY",
        "outputId": "ebf7db80-fdc2-4753-f9d3-1e9e8c24b68c"
      },
      "source": [
        "df1.columns"
      ],
      "execution_count": 40,
      "outputs": [
        {
          "output_type": "execute_result",
          "data": {
            "text/plain": [
              "Index(['status', 'age', 'sex', 'on_thyroxine', 'query_on_thyroxine',\n",
              "       'on_antithyroid_medication', 'thyroid_surgery', 'query_hypothyroid',\n",
              "       'query_hyperthyroid', 'pregnant', 'sick', 'tumor', 'lithium', 'goitre',\n",
              "       'TSH_measured', 'TSH', 'T3_measured', 'T3', 'TT4_measured', 'TT4',\n",
              "       'T4U_measured', 'T4U', 'FTI_measured', 'FTI', 'TBG_measured'],\n",
              "      dtype='object')"
            ]
          },
          "metadata": {},
          "execution_count": 40
        }
      ]
    },
    {
      "cell_type": "markdown",
      "metadata": {
        "id": "0TWWYilCtLnf"
      },
      "source": [
        "Columns with continous data"
      ]
    },
    {
      "cell_type": "code",
      "metadata": {
        "colab": {
          "base_uri": "https://localhost:8080/",
          "height": 1000
        },
        "id": "tUMtKdgctLBq",
        "outputId": "461a8bc2-fe66-4789-e02c-cccbc9e441de"
      },
      "source": [
        "cont_col=[ 'age','TSH','T3','TT4','T4U','FTI']\n",
        "fig,ax=plt.subplots(len(cont_col),figsize=(10,42))\n",
        "for i,cols in enumerate(cont_col):\n",
        "  sns.distplot(df1[cols],ax=ax[i]) \n",
        "  ax[i].set_title('The distribution of '+format(cols))"
      ],
      "execution_count": 41,
      "outputs": [
        {
          "output_type": "display_data",
          "data": {
            "image/png": "[encoded data removed]",
            "text/plain": [
              "<Figure size 720x3024 with 6 Axes>"
            ]
          },
          "metadata": {
            "needs_background": "light"
          }
        }
      ]
    },
    {
      "cell_type": "markdown",
      "metadata": {
        "id": "RiBqd69xrE2o"
      },
      "source": [
        "#### Categorical columns"
      ]
    },
    {
      "cell_type": "code",
      "metadata": {
        "colab": {
          "base_uri": "https://localhost:8080/",
          "height": 1000
        },
        "id": "grIRZ17mrLyH",
        "outputId": "684ab937-b1e2-4ac3-80a2-13f3fa68f24d"
      },
      "source": [
        "cats=['status', 'sex', 'on_thyroxine', 'query_on_thyroxine',\n",
        "       'on_antithyroid_medication', 'thyroid_surgery', 'query_hypothyroid',\n",
        "       'query_hyperthyroid']\n",
        "fig,ax=plt.subplots(len(cats),figsize=(10,42))\n",
        "for i,cols in enumerate(cats):\n",
        "  sns.countplot(df1[cols],order=df1[cols].value_counts().index,ax=ax[i]) \n",
        "  ax[i].set_title('The value counts for '+format(cols))"
      ],
      "execution_count": 42,
      "outputs": [
        {
          "output_type": "display_data",
          "data": {
            "image/png": "[encoded data removed]",
            "text/plain": [
              "<Figure size 720x3024 with 8 Axes>"
            ]
          },
          "metadata": {
            "needs_background": "light"
          }
        }
      ]
    },
    {
      "cell_type": "code",
      "metadata": {
        "colab": {
          "base_uri": "https://localhost:8080/",
          "height": 1000
        },
        "id": "bvVNbzzDsUNz",
        "outputId": "af293035-182c-4d5f-ef28-14ce7f7ebbaa"
      },
      "source": [
        "cats=['pregnant', 'sick', 'tumor', 'lithium', 'goitre','TSH_measured', 'T3_measured', 'TT4_measured','T4U_measured', 'FTI_measured', 'TBG_measured']\n",
        "fig,ax=plt.subplots(len(cats),figsize=(10,60))\n",
        "for i,cols in enumerate(cats):\n",
        "  sns.countplot(df1[cols],order=df1[cols].value_counts().index,ax=ax[i]) \n",
        "  ax[i].set_title('The unique values for '+format(cols))"
      ],
      "execution_count": 43,
      "outputs": [
        {
          "output_type": "display_data",
          "data": {
            "image/png": "[encoded data removed]",
            "text/plain": [
              "<Figure size 720x4320 with 11 Axes>"
            ]
          },
          "metadata": {
            "needs_background": "light"
          }
        }
      ]
    },
    {
      "cell_type": "markdown",
      "metadata": {
        "id": "7KTscv3qzcIq"
      },
      "source": [
        "#### Outcomes Continous and categorical columns"
      ]
    },
    {
      "cell_type": "markdown",
      "metadata": {
        "id": "8v4mhH6JuVD3"
      },
      "source": [
        "From the analysis above its is safe to note that:\n",
        "\n",
        "* The age is normally distributed with the mode being equal to the mean this means that the most people in the set had their ages at the middle. This is also evident in the analysis prior to checking for missing values.\n",
        "\n",
        "* TSH and T3 is positively skewed, This could be attributed to most values having a low count of the thyroid stimulating hormone and triiodothyromine hormone.\n",
        "\n",
        "* TT4 (Thyroxine) distribution is slightly positively skewed with outliers measuring up t0 500.\n",
        "\n",
        "* T4U is normally distributed while FT1 seems to be skewed with most values concentrated on the lower quantile.\n",
        "\n"
      ]
    },
    {
      "cell_type": "markdown",
      "metadata": {
        "id": "IBDIM4l3wxV9"
      },
      "source": [
        "For the categorical columns it is safe to note that:\n",
        "* From the population at large, most people tested negative for hypothyroidism\n",
        "* The propotion of women was greater than that of men in this study.\n",
        "* Thyroxine drug is not commonly takes as 'f' represents false\n",
        "* There are not as much queries about the thyroxine drugs since the count of queries is low.\n",
        "* There are not as many people on antithyroid medicine.\n",
        "* There are no much queries on hypothyroidism as well as hyperthyroidism as false is taking the lead in counts\n",
        "* The population which is pregnant,sick,has a tumor and has goitre is less than that which is not.\n",
        "* The patients who have taken TSH,T3,TT4,T4U ,FTI and TBG were more than those who havent."
      ]
    },
    {
      "cell_type": "markdown",
      "metadata": {
        "id": "NPWZ2fWAy9TB"
      },
      "source": [
        "### b.) Bivariate analysis"
      ]
    },
    {
      "cell_type": "code",
      "metadata": {
        "colab": {
          "base_uri": "https://localhost:8080/",
          "height": 487
        },
        "id": "0Mxjlf1gOwAd",
        "outputId": "89b2fb4c-e941-4260-f3a4-bb5d6b8afa82"
      },
      "source": [
        " # Slicing the numericalcolumns\n",
        " numerical = df1.select_dtypes(include=['int64','float64','Int64'])[:]\n",
        " numerical\n",
        " correlation=numerical.corr()\n",
        " # Checking the correlation in the set\n",
        " plt.figure(figsize=(10,8))\n",
        "sns.heatmap(correlation, cmap=\"afmhot\", annot=True)\n",
        "plt.show() "
      ],
      "execution_count": 44,
      "outputs": [
        {
          "output_type": "display_data",
          "data": {
            "image/png": "[encoded data removed]",
            "text/plain": [
              "<Figure size 720x576 with 2 Axes>"
            ]
          },
          "metadata": {
            "needs_background": "light"
          }
        }
      ]
    },
    {
      "cell_type": "markdown",
      "metadata": {
        "id": "09lV4oHOTjSl"
      },
      "source": [
        "There is a moderatately fair postive correlation between TT4 na FTI measurements.(thyroxine and free thyroxine hormones)\n",
        "There is a negative corelation between TSH and T4U measurement ,age and T4U etc"
      ]
    },
    {
      "cell_type": "code",
      "metadata": {
        "colab": {
          "base_uri": "https://localhost:8080/",
          "height": 224
        },
        "id": "wZxoY78KVIJB",
        "outputId": "6538cd6c-c553-4746-fd11-bfbd29abe464"
      },
      "source": [
        "df1.head()"
      ],
      "execution_count": 45,
      "outputs": [
        {
          "output_type": "execute_result",
          "data": {
            "text/html": [
              "<div>\n",
              "<style scoped>\n",
              "    .dataframe tbody tr th:only-of-type {\n",
              "        vertical-align: middle;\n",
              "    }\n",
              "\n",
              "    .dataframe tbody tr th {\n",
              "        vertical-align: top;\n",
              "    }\n",
              "\n",
              "    .dataframe thead th {\n",
              "        text-align: right;\n",
              "    }\n",
              "</style>\n",
              "<table border=\"1\" class=\"dataframe\">\n",
              "  <thead>\n",
              "    <tr style=\"text-align: right;\">\n",
              "      <th></th>\n",
              "      <th>status</th>\n",
              "      <th>age</th>\n",
              "      <th>sex</th>\n",
              "      <th>on_thyroxine</th>\n",
              "      <th>query_on_thyroxine</th>\n",
              "      <th>on_antithyroid_medication</th>\n",
              "      <th>thyroid_surgery</th>\n",
              "      <th>query_hypothyroid</th>\n",
              "      <th>query_hyperthyroid</th>\n",
              "      <th>pregnant</th>\n",
              "      <th>sick</th>\n",
              "      <th>tumor</th>\n",
              "      <th>lithium</th>\n",
              "      <th>goitre</th>\n",
              "      <th>TSH_measured</th>\n",
              "      <th>TSH</th>\n",
              "      <th>T3_measured</th>\n",
              "      <th>T3</th>\n",
              "      <th>TT4_measured</th>\n",
              "      <th>TT4</th>\n",
              "      <th>T4U_measured</th>\n",
              "      <th>T4U</th>\n",
              "      <th>FTI_measured</th>\n",
              "      <th>FTI</th>\n",
              "      <th>TBG_measured</th>\n",
              "    </tr>\n",
              "  </thead>\n",
              "  <tbody>\n",
              "    <tr>\n",
              "      <th>0</th>\n",
              "      <td>hypothyroid</td>\n",
              "      <td>72.0</td>\n",
              "      <td>M</td>\n",
              "      <td>f</td>\n",
              "      <td>f</td>\n",
              "      <td>f</td>\n",
              "      <td>f</td>\n",
              "      <td>f</td>\n",
              "      <td>f</td>\n",
              "      <td>f</td>\n",
              "      <td>f</td>\n",
              "      <td>f</td>\n",
              "      <td>f</td>\n",
              "      <td>f</td>\n",
              "      <td>y</td>\n",
              "      <td>30.0</td>\n",
              "      <td>y</td>\n",
              "      <td>0.6</td>\n",
              "      <td>y</td>\n",
              "      <td>15.0</td>\n",
              "      <td>y</td>\n",
              "      <td>1.48</td>\n",
              "      <td>y</td>\n",
              "      <td>10.0</td>\n",
              "      <td>n</td>\n",
              "    </tr>\n",
              "    <tr>\n",
              "      <th>1</th>\n",
              "      <td>hypothyroid</td>\n",
              "      <td>15.0</td>\n",
              "      <td>F</td>\n",
              "      <td>t</td>\n",
              "      <td>f</td>\n",
              "      <td>f</td>\n",
              "      <td>f</td>\n",
              "      <td>f</td>\n",
              "      <td>f</td>\n",
              "      <td>f</td>\n",
              "      <td>f</td>\n",
              "      <td>f</td>\n",
              "      <td>f</td>\n",
              "      <td>f</td>\n",
              "      <td>y</td>\n",
              "      <td>145.0</td>\n",
              "      <td>y</td>\n",
              "      <td>1.7</td>\n",
              "      <td>y</td>\n",
              "      <td>19.0</td>\n",
              "      <td>y</td>\n",
              "      <td>1.13</td>\n",
              "      <td>y</td>\n",
              "      <td>17.0</td>\n",
              "      <td>n</td>\n",
              "    </tr>\n",
              "    <tr>\n",
              "      <th>2</th>\n",
              "      <td>hypothyroid</td>\n",
              "      <td>24.0</td>\n",
              "      <td>M</td>\n",
              "      <td>f</td>\n",
              "      <td>f</td>\n",
              "      <td>f</td>\n",
              "      <td>f</td>\n",
              "      <td>f</td>\n",
              "      <td>f</td>\n",
              "      <td>f</td>\n",
              "      <td>f</td>\n",
              "      <td>f</td>\n",
              "      <td>f</td>\n",
              "      <td>f</td>\n",
              "      <td>y</td>\n",
              "      <td>0.0</td>\n",
              "      <td>y</td>\n",
              "      <td>0.2</td>\n",
              "      <td>y</td>\n",
              "      <td>4.0</td>\n",
              "      <td>y</td>\n",
              "      <td>1.00</td>\n",
              "      <td>y</td>\n",
              "      <td>0.0</td>\n",
              "      <td>n</td>\n",
              "    </tr>\n",
              "    <tr>\n",
              "      <th>3</th>\n",
              "      <td>hypothyroid</td>\n",
              "      <td>24.0</td>\n",
              "      <td>F</td>\n",
              "      <td>f</td>\n",
              "      <td>f</td>\n",
              "      <td>f</td>\n",
              "      <td>f</td>\n",
              "      <td>f</td>\n",
              "      <td>f</td>\n",
              "      <td>f</td>\n",
              "      <td>f</td>\n",
              "      <td>f</td>\n",
              "      <td>f</td>\n",
              "      <td>f</td>\n",
              "      <td>y</td>\n",
              "      <td>430.0</td>\n",
              "      <td>y</td>\n",
              "      <td>0.4</td>\n",
              "      <td>y</td>\n",
              "      <td>6.0</td>\n",
              "      <td>y</td>\n",
              "      <td>1.04</td>\n",
              "      <td>y</td>\n",
              "      <td>6.0</td>\n",
              "      <td>n</td>\n",
              "    </tr>\n",
              "    <tr>\n",
              "      <th>4</th>\n",
              "      <td>hypothyroid</td>\n",
              "      <td>77.0</td>\n",
              "      <td>M</td>\n",
              "      <td>f</td>\n",
              "      <td>f</td>\n",
              "      <td>f</td>\n",
              "      <td>f</td>\n",
              "      <td>f</td>\n",
              "      <td>f</td>\n",
              "      <td>f</td>\n",
              "      <td>f</td>\n",
              "      <td>f</td>\n",
              "      <td>f</td>\n",
              "      <td>f</td>\n",
              "      <td>y</td>\n",
              "      <td>7.3</td>\n",
              "      <td>y</td>\n",
              "      <td>1.2</td>\n",
              "      <td>y</td>\n",
              "      <td>57.0</td>\n",
              "      <td>y</td>\n",
              "      <td>1.28</td>\n",
              "      <td>y</td>\n",
              "      <td>44.0</td>\n",
              "      <td>n</td>\n",
              "    </tr>\n",
              "  </tbody>\n",
              "</table>\n",
              "</div>"
            ],
            "text/plain": [
              "        status   age sex on_thyroxine  ...   T4U FTI_measured   FTI TBG_measured\n",
              "0  hypothyroid  72.0   M            f  ...  1.48            y  10.0            n\n",
              "1  hypothyroid  15.0   F            t  ...  1.13            y  17.0            n\n",
              "2  hypothyroid  24.0   M            f  ...  1.00            y   0.0            n\n",
              "3  hypothyroid  24.0   F            f  ...  1.04            y   6.0            n\n",
              "4  hypothyroid  77.0   M            f  ...  1.28            y  44.0            n\n",
              "\n",
              "[5 rows x 25 columns]"
            ]
          },
          "metadata": {},
          "execution_count": 45
        }
      ]
    },
    {
      "cell_type": "code",
      "metadata": {
        "id": "R4OvWAl7U4Zc"
      },
      "source": [
        "def barplots(data,col1,col2):\n",
        "  plt.figure(figsize=(10,6))\n",
        "  sns.barplot(x=col1, y=col2,data=data, palette='Oranges_r')\n",
        "  plt.title('The relationship between '+str(col1)+' and '+str(col2),fontsize=15)\n",
        "  plt.show()"
      ],
      "execution_count": 46,
      "outputs": []
    },
    {
      "cell_type": "code",
      "metadata": {
        "colab": {
          "base_uri": "https://localhost:8080/",
          "height": 406
        },
        "id": "7ecINdbMVGdH",
        "outputId": "2a33202a-4fce-4cbd-81bc-9c4081d3afbf"
      },
      "source": [
        "barplots(df1,'age','status')\n",
        "# The age above 50 yrs suffers hypothyroidism at a higher rate."
      ],
      "execution_count": 47,
      "outputs": [
        {
          "output_type": "display_data",
          "data": {
            "image/png": "[encoded data removed]",
            "text/plain": [
              "<Figure size 720x432 with 1 Axes>"
            ]
          },
          "metadata": {
            "needs_background": "light"
          }
        }
      ]
    },
    {
      "cell_type": "code",
      "metadata": {
        "colab": {
          "base_uri": "https://localhost:8080/",
          "height": 406
        },
        "id": "EgXKe6scV28_",
        "outputId": "1715e8d6-9770-44ff-e06d-302df1015751"
      },
      "source": [
        "barplots(df1,'TSH','status')\n",
        "# People with Higher Thyroid Stumulating hormones suffer from hypothyroidism."
      ],
      "execution_count": 48,
      "outputs": [
        {
          "output_type": "display_data",
          "data": {
            "image/png": "[encoded data removed]",
            "text/plain": [
              "<Figure size 720x432 with 1 Axes>"
            ]
          },
          "metadata": {
            "needs_background": "light"
          }
        }
      ]
    },
    {
      "cell_type": "code",
      "metadata": {
        "colab": {
          "base_uri": "https://localhost:8080/",
          "height": 406
        },
        "id": "9eJBtQlJXAY1",
        "outputId": "6f8b91bd-2884-41ff-9f59-ba334b7687d0"
      },
      "source": [
        "barplots(df1,'T3','status')\n",
        "# People with higher tridothyronine dont suffer hypothyroidism.\n",
        "# It is safe therefore to say that higher levels stimulate overeactive thyroid(HYPER-thyroidism)"
      ],
      "execution_count": 49,
      "outputs": [
        {
          "output_type": "display_data",
          "data": {
            "image/png": "[encoded data removed]",
            "text/plain": [
              "<Figure size 720x432 with 1 Axes>"
            ]
          },
          "metadata": {
            "needs_background": "light"
          }
        }
      ]
    },
    {
      "cell_type": "code",
      "metadata": {
        "colab": {
          "base_uri": "https://localhost:8080/",
          "height": 406
        },
        "id": "leKEpafUXp-7",
        "outputId": "3e6f5fc1-f862-4519-821c-932c45333cf1"
      },
      "source": [
        "barplots(df1,'TT4','status')\n",
        "# Higher levels of thyroxine indicate overactive thyroid what is called HYPER-thyroidism our data concentrates with the opposite of that.  \n",
        "# It is clear that patients with higher levels of thyroxine dont suffer from HYPO-thyroidism."
      ],
      "execution_count": 50,
      "outputs": [
        {
          "output_type": "display_data",
          "data": {
            "image/png": "[encoded data removed]",
            "text/plain": [
              "<Figure size 720x432 with 1 Axes>"
            ]
          },
          "metadata": {
            "needs_background": "light"
          }
        }
      ]
    },
    {
      "cell_type": "code",
      "metadata": {
        "colab": {
          "base_uri": "https://localhost:8080/",
          "height": 406
        },
        "id": "FUf6vCmtYY9D",
        "outputId": "311bb4a6-25f3-4c02-df6f-2c3ed014a3b6"
      },
      "source": [
        "barplots(df1,'FTI','status')\n",
        "# with Higher levels of Free thyroxine Index the test is negative. Meaning people with high FTI dont suffer hypothyrodism . "
      ],
      "execution_count": 51,
      "outputs": [
        {
          "output_type": "display_data",
          "data": {
            "image/png": "[encoded data removed]",
            "text/plain": [
              "<Figure size 720x432 with 1 Axes>"
            ]
          },
          "metadata": {
            "needs_background": "light"
          }
        }
      ]
    },
    {
      "cell_type": "markdown",
      "metadata": {
        "id": "yS4D1pYOgL23"
      },
      "source": [
        "Categorical categorical columns"
      ]
    },
    {
      "cell_type": "code",
      "metadata": {
        "id": "iHPnbNuzgIjB"
      },
      "source": [
        "def bar_cat(data,col1,hue):\n",
        "  plt.figure(figsize=(10,6))\n",
        "  sns.catplot(y=col1,hue=hue,kind='count',palette='inferno_r',data=data,orient='h')\n",
        "  plt.title('The relationship between '+format(col1)+' and '+format(hue),fontsize=15)\n",
        "  plt.show()"
      ],
      "execution_count": 52,
      "outputs": []
    },
    {
      "cell_type": "code",
      "metadata": {
        "colab": {
          "base_uri": "https://localhost:8080/",
          "height": 404
        },
        "id": "9Y6HZ6_2hQt5",
        "outputId": "8a5ec508-b1fe-4ce6-91e3-2c7fc24af423"
      },
      "source": [
        "bar_cat(df1,'status','sex')\n",
        "# Females suffer more from hypothyroidism as compared to males.\n",
        "# The count of females without hyothiroidism is also greater than that of males"
      ],
      "execution_count": 53,
      "outputs": [
        {
          "output_type": "display_data",
          "data": {
            "text/plain": [
              "<Figure size 720x432 with 0 Axes>"
            ]
          },
          "metadata": {}
        },
        {
          "output_type": "display_data",
          "data": {
            "image/png": "[encoded data removed]",
            "text/plain": [
              "<Figure size 413.75x360 with 1 Axes>"
            ]
          },
          "metadata": {
            "needs_background": "light"
          }
        }
      ]
    },
    {
      "cell_type": "code",
      "metadata": {
        "colab": {
          "base_uri": "https://localhost:8080/",
          "height": 404
        },
        "id": "hq6Oge6inUeh",
        "outputId": "29e136e6-8aaf-4598-f209-2e19beac795c"
      },
      "source": [
        "bar_cat(df1,'sex','status')\n",
        "# while most people dont suffer from hypothyroidism female count is larger than male\n",
        "# The unclassified gender is mostly negative"
      ],
      "execution_count": 54,
      "outputs": [
        {
          "output_type": "display_data",
          "data": {
            "text/plain": [
              "<Figure size 720x432 with 0 Axes>"
            ]
          },
          "metadata": {}
        },
        {
          "output_type": "display_data",
          "data": {
            "image/png": "[encoded data removed]",
            "text/plain": [
              "<Figure size 455.75x360 with 1 Axes>"
            ]
          },
          "metadata": {
            "needs_background": "light"
          }
        }
      ]
    },
    {
      "cell_type": "code",
      "metadata": {
        "colab": {
          "base_uri": "https://localhost:8080/",
          "height": 404
        },
        "id": "mh3MxZc3n_Jf",
        "outputId": "63ee1afd-7d2d-4c8c-af73-9abad82c399e"
      },
      "source": [
        "bar_cat(df1,'on_thyroxine','status')\n",
        "# People on thyroxine medication don't suffer hypothyroidism\n",
        "# However among the patients who are on thyroxine medication the smaller percentage suffers from hypothyroidism."
      ],
      "execution_count": 55,
      "outputs": [
        {
          "output_type": "display_data",
          "data": {
            "text/plain": [
              "<Figure size 720x432 with 0 Axes>"
            ]
          },
          "metadata": {}
        },
        {
          "output_type": "display_data",
          "data": {
            "image/png": "[encoded data removed]",
            "text/plain": [
              "<Figure size 455.75x360 with 1 Axes>"
            ]
          },
          "metadata": {
            "needs_background": "light"
          }
        }
      ]
    },
    {
      "cell_type": "code",
      "metadata": {
        "colab": {
          "base_uri": "https://localhost:8080/",
          "height": 404
        },
        "id": "7OQuWmNEpD9p",
        "outputId": "c4a5d1f0-693b-42c2-afaf-02268072cc8b"
      },
      "source": [
        "bar_cat(df1,'on_antithyroid_medication','status')\n",
        "# T indicating true and f ,false, it is safe enough to note that patients who are on antithyroid medication dont suffer from hypothyroidism \n",
        "# In fact i would tend to think they take the antithyroid medicine because they suffer from HYPER-thyroidism (over reactive thyroid)\n",
        "# The patients who infact are not on the antithyroid medication dont suffer from hypothyroidism either. Avery smmall nummber of them suffer form hypothyroidism"
      ],
      "execution_count": 56,
      "outputs": [
        {
          "output_type": "display_data",
          "data": {
            "text/plain": [
              "<Figure size 720x432 with 0 Axes>"
            ]
          },
          "metadata": {}
        },
        {
          "output_type": "display_data",
          "data": {
            "image/png": "[encoded data removed]",
            "text/plain": [
              "<Figure size 455.75x360 with 1 Axes>"
            ]
          },
          "metadata": {
            "needs_background": "light"
          }
        }
      ]
    },
    {
      "cell_type": "code",
      "metadata": {
        "colab": {
          "base_uri": "https://localhost:8080/",
          "height": 404
        },
        "id": "M4traHFOrMGm",
        "outputId": "88e2474a-896a-401b-f1d2-7daa6907a30b"
      },
      "source": [
        "bar_cat(df1,'thyroid_surgery','status')\n",
        "# The most patients that have undergone thyroid surgery do not suffer from hypothyroidism and those who have undergone,very few also seem to test negative .\n",
        "# no patient who's undergone hyroid surgery tested positive for hypothyroidism"
      ],
      "execution_count": 57,
      "outputs": [
        {
          "output_type": "display_data",
          "data": {
            "text/plain": [
              "<Figure size 720x432 with 0 Axes>"
            ]
          },
          "metadata": {}
        },
        {
          "output_type": "display_data",
          "data": {
            "image/png": "[encoded data removed]",
            "text/plain": [
              "<Figure size 455.75x360 with 1 Axes>"
            ]
          },
          "metadata": {
            "needs_background": "light"
          }
        }
      ]
    },
    {
      "cell_type": "code",
      "metadata": {
        "colab": {
          "base_uri": "https://localhost:8080/"
        },
        "id": "eH-5zLagraof",
        "outputId": "8f70840f-4766-4e6d-a80d-4d42d6627353"
      },
      "source": [
        "df1.columns"
      ],
      "execution_count": 58,
      "outputs": [
        {
          "output_type": "execute_result",
          "data": {
            "text/plain": [
              "Index(['status', 'age', 'sex', 'on_thyroxine', 'query_on_thyroxine',\n",
              "       'on_antithyroid_medication', 'thyroid_surgery', 'query_hypothyroid',\n",
              "       'query_hyperthyroid', 'pregnant', 'sick', 'tumor', 'lithium', 'goitre',\n",
              "       'TSH_measured', 'TSH', 'T3_measured', 'T3', 'TT4_measured', 'TT4',\n",
              "       'T4U_measured', 'T4U', 'FTI_measured', 'FTI', 'TBG_measured'],\n",
              "      dtype='object')"
            ]
          },
          "metadata": {},
          "execution_count": 58
        }
      ]
    },
    {
      "cell_type": "code",
      "metadata": {
        "colab": {
          "base_uri": "https://localhost:8080/",
          "height": 404
        },
        "id": "rqewzMgOrVIL",
        "outputId": "6cf4d9d5-4afc-4706-aece-d2cc175ae9fe"
      },
      "source": [
        "bar_cat(df1,'pregnant','status')\n",
        "# There are very few pregnant patients and the pregnant ones seem to be populated around negative diagnosis for hypothyroidsm"
      ],
      "execution_count": 59,
      "outputs": [
        {
          "output_type": "display_data",
          "data": {
            "text/plain": [
              "<Figure size 720x432 with 0 Axes>"
            ]
          },
          "metadata": {}
        },
        {
          "output_type": "display_data",
          "data": {
            "image/png": "[encoded data removed]",
            "text/plain": [
              "<Figure size 455.75x360 with 1 Axes>"
            ]
          },
          "metadata": {
            "needs_background": "light"
          }
        }
      ]
    },
    {
      "cell_type": "code",
      "metadata": {
        "colab": {
          "base_uri": "https://localhost:8080/",
          "height": 404
        },
        "id": "4v9af0mirjk9",
        "outputId": "823dfa65-8a1c-4362-f35a-a15e72043244"
      },
      "source": [
        "bar_cat(df1,'sick','status')\n",
        "# Very few poeple who were not sick tested positive for hypothyroidism\n",
        "# For the sick , most tested negative for hypothyroidism."
      ],
      "execution_count": 60,
      "outputs": [
        {
          "output_type": "display_data",
          "data": {
            "text/plain": [
              "<Figure size 720x432 with 0 Axes>"
            ]
          },
          "metadata": {}
        },
        {
          "output_type": "display_data",
          "data": {
            "image/png": "[encoded data removed]",
            "text/plain": [
              "<Figure size 455.75x360 with 1 Axes>"
            ]
          },
          "metadata": {
            "needs_background": "light"
          }
        }
      ]
    },
    {
      "cell_type": "code",
      "metadata": {
        "colab": {
          "base_uri": "https://localhost:8080/",
          "height": 404
        },
        "id": "8fR2Bhg8rrwx",
        "outputId": "13bd398a-79c1-4626-f32f-8bcfc99ebfdd"
      },
      "source": [
        "bar_cat(df1,'tumor','status')\n",
        "# Most Patients with tumors tested negative for hypothyroidsm while those with no tumors were populated around negative diagnosis."
      ],
      "execution_count": 61,
      "outputs": [
        {
          "output_type": "display_data",
          "data": {
            "text/plain": [
              "<Figure size 720x432 with 0 Axes>"
            ]
          },
          "metadata": {}
        },
        {
          "output_type": "display_data",
          "data": {
            "image/png": "[encoded data removed]",
            "text/plain": [
              "<Figure size 455.75x360 with 1 Axes>"
            ]
          },
          "metadata": {
            "needs_background": "light"
          }
        }
      ]
    },
    {
      "cell_type": "code",
      "metadata": {
        "colab": {
          "base_uri": "https://localhost:8080/",
          "height": 404
        },
        "id": "onbuPVHMrwRJ",
        "outputId": "b6745dbd-d732-4603-ac3c-a716160bd951"
      },
      "source": [
        "bar_cat(df1,'lithium','status')\n",
        "# neither positive or positive diagnosis was seen in patients on lithium and those who were not on lithium were populated around negative diagnosis"
      ],
      "execution_count": 62,
      "outputs": [
        {
          "output_type": "display_data",
          "data": {
            "text/plain": [
              "<Figure size 720x432 with 0 Axes>"
            ]
          },
          "metadata": {}
        },
        {
          "output_type": "display_data",
          "data": {
            "image/png": "[encoded data removed]",
            "text/plain": [
              "<Figure size 455.75x360 with 1 Axes>"
            ]
          },
          "metadata": {
            "needs_background": "light"
          }
        }
      ]
    },
    {
      "cell_type": "code",
      "metadata": {
        "colab": {
          "base_uri": "https://localhost:8080/",
          "height": 404
        },
        "id": "XZklG-lxr6sM",
        "outputId": "10d51276-2abe-4a53-d243-1cf06ca0d10d"
      },
      "source": [
        "bar_cat(df1,'goitre','status')"
      ],
      "execution_count": 63,
      "outputs": [
        {
          "output_type": "display_data",
          "data": {
            "text/plain": [
              "<Figure size 720x432 with 0 Axes>"
            ]
          },
          "metadata": {}
        },
        {
          "output_type": "display_data",
          "data": {
            "image/png": "[encoded data removed]",
            "text/plain": [
              "<Figure size 455.75x360 with 1 Axes>"
            ]
          },
          "metadata": {
            "needs_background": "light"
          }
        }
      ]
    },
    {
      "cell_type": "markdown",
      "metadata": {
        "id": "XrkO57cLzeKm"
      },
      "source": [
        "#### Outcomes"
      ]
    },
    {
      "cell_type": "markdown",
      "metadata": {
        "id": "FIlI8HnLsFWj"
      },
      "source": [
        "From the relationship between the different columns it is safe to note that:"
      ]
    },
    {
      "cell_type": "markdown",
      "metadata": {
        "id": "eQdF7fKFzCDk"
      },
      "source": [
        "### c.) Multivariate analysis"
      ]
    },
    {
      "cell_type": "code",
      "metadata": {
        "id": "EYYa2bZHzPIW"
      },
      "source": [
        "def barplots(data,col1,col2,col3):\n",
        "  plt.figure(figsize=(10,6))\n",
        "  sns.barplot(x=col1, y=col2,data=data,hue=col3,palette='Greens_r')\n",
        "  plt.title('The relationship between '+str(col1) +' , '+ str(col2) +' and '+str(col3),fontsize=15)\n",
        "  plt.show()"
      ],
      "execution_count": 64,
      "outputs": []
    },
    {
      "cell_type": "code",
      "metadata": {
        "colab": {
          "base_uri": "https://localhost:8080/",
          "height": 406
        },
        "id": "g_E53U7os0ML",
        "outputId": "2f0ce49c-b07f-42fc-9050-3e8c3f5af89d"
      },
      "source": [
        "barplots(df1,'sex','age','status')"
      ],
      "execution_count": 65,
      "outputs": [
        {
          "output_type": "display_data",
          "data": {
            "image/png": "[encoded data removed]",
            "text/plain": [
              "<Figure size 720x432 with 1 Axes>"
            ]
          },
          "metadata": {
            "needs_background": "light"
          }
        }
      ]
    },
    {
      "cell_type": "markdown",
      "metadata": {
        "id": "JpDkIgTOzryh"
      },
      "source": [
        "## 7. Feature Engineering"
      ]
    },
    {
      "cell_type": "markdown",
      "metadata": {
        "id": "1INC-Oj5yTGS"
      },
      "source": [
        "Encoding and reduction techniques"
      ]
    },
    {
      "cell_type": "code",
      "metadata": {
        "colab": {
          "base_uri": "https://localhost:8080/"
        },
        "id": "9LgbOzKCySYt",
        "outputId": "a5fb1d30-4d90-4c70-da5b-3ef27c4220e3"
      },
      "source": [
        "# Encoding the categorical columns to prepare them for analysis\n",
        "le=LabelEncoder()\n",
        "Cols=['status', 'sex', 'on_thyroxine', 'query_on_thyroxine',\n",
        "       'on_antithyroid_medication', 'thyroid_surgery', 'query_hypothyroid',\n",
        "       'query_hyperthyroid', 'pregnant', 'sick', 'tumor', 'lithium', 'goitre',\n",
        "       'TSH_measured', 'T3_measured', 'TT4_measured','T4U_measured', 'FTI_measured', 'TBG_measured']\n",
        "for i in Cols:\n",
        "  le.fit(df1[i])\n",
        "  df1[i]=le.transform(df1[i])\n",
        "df1\n",
        "df1.dtypes\n",
        "# Label w=enciding them all at once was because they didnt have numerous classes thus true is given a value of 1 and false 0 ,yes is given a value one and no 0 while male and female are given 0 and one respectively."
      ],
      "execution_count": 66,
      "outputs": [
        {
          "output_type": "execute_result",
          "data": {
            "text/plain": [
              "status                         int64\n",
              "age                          float64\n",
              "sex                            int64\n",
              "on_thyroxine                   int64\n",
              "query_on_thyroxine             int64\n",
              "on_antithyroid_medication      int64\n",
              "thyroid_surgery                int64\n",
              "query_hypothyroid              int64\n",
              "query_hyperthyroid             int64\n",
              "pregnant                       int64\n",
              "sick                           int64\n",
              "tumor                          int64\n",
              "lithium                        int64\n",
              "goitre                         int64\n",
              "TSH_measured                   int64\n",
              "TSH                          float64\n",
              "T3_measured                    int64\n",
              "T3                           float64\n",
              "TT4_measured                   int64\n",
              "TT4                          float64\n",
              "T4U_measured                   int64\n",
              "T4U                          float64\n",
              "FTI_measured                   int64\n",
              "FTI                          float64\n",
              "TBG_measured                   int64\n",
              "dtype: object"
            ]
          },
          "metadata": {},
          "execution_count": 66
        }
      ]
    },
    {
      "cell_type": "code",
      "metadata": {
        "colab": {
          "base_uri": "https://localhost:8080/",
          "height": 224
        },
        "id": "3F3UanLOvuaP",
        "outputId": "7739b774-bb49-484c-8b14-19488e0c09dd"
      },
      "source": [
        "# Data preparation for modeling\n",
        "df1.head()\n",
        "# Confirmed and readi for preprocessing"
      ],
      "execution_count": 67,
      "outputs": [
        {
          "output_type": "execute_result",
          "data": {
            "text/html": [
              "<div>\n",
              "<style scoped>\n",
              "    .dataframe tbody tr th:only-of-type {\n",
              "        vertical-align: middle;\n",
              "    }\n",
              "\n",
              "    .dataframe tbody tr th {\n",
              "        vertical-align: top;\n",
              "    }\n",
              "\n",
              "    .dataframe thead th {\n",
              "        text-align: right;\n",
              "    }\n",
              "</style>\n",
              "<table border=\"1\" class=\"dataframe\">\n",
              "  <thead>\n",
              "    <tr style=\"text-align: right;\">\n",
              "      <th></th>\n",
              "      <th>status</th>\n",
              "      <th>age</th>\n",
              "      <th>sex</th>\n",
              "      <th>on_thyroxine</th>\n",
              "      <th>query_on_thyroxine</th>\n",
              "      <th>on_antithyroid_medication</th>\n",
              "      <th>thyroid_surgery</th>\n",
              "      <th>query_hypothyroid</th>\n",
              "      <th>query_hyperthyroid</th>\n",
              "      <th>pregnant</th>\n",
              "      <th>sick</th>\n",
              "      <th>tumor</th>\n",
              "      <th>lithium</th>\n",
              "      <th>goitre</th>\n",
              "      <th>TSH_measured</th>\n",
              "      <th>TSH</th>\n",
              "      <th>T3_measured</th>\n",
              "      <th>T3</th>\n",
              "      <th>TT4_measured</th>\n",
              "      <th>TT4</th>\n",
              "      <th>T4U_measured</th>\n",
              "      <th>T4U</th>\n",
              "      <th>FTI_measured</th>\n",
              "      <th>FTI</th>\n",
              "      <th>TBG_measured</th>\n",
              "    </tr>\n",
              "  </thead>\n",
              "  <tbody>\n",
              "    <tr>\n",
              "      <th>0</th>\n",
              "      <td>0</td>\n",
              "      <td>72.0</td>\n",
              "      <td>2</td>\n",
              "      <td>0</td>\n",
              "      <td>0</td>\n",
              "      <td>0</td>\n",
              "      <td>0</td>\n",
              "      <td>0</td>\n",
              "      <td>0</td>\n",
              "      <td>0</td>\n",
              "      <td>0</td>\n",
              "      <td>0</td>\n",
              "      <td>0</td>\n",
              "      <td>0</td>\n",
              "      <td>1</td>\n",
              "      <td>30.0</td>\n",
              "      <td>1</td>\n",
              "      <td>0.6</td>\n",
              "      <td>1</td>\n",
              "      <td>15.0</td>\n",
              "      <td>1</td>\n",
              "      <td>1.48</td>\n",
              "      <td>1</td>\n",
              "      <td>10.0</td>\n",
              "      <td>0</td>\n",
              "    </tr>\n",
              "    <tr>\n",
              "      <th>1</th>\n",
              "      <td>0</td>\n",
              "      <td>15.0</td>\n",
              "      <td>0</td>\n",
              "      <td>1</td>\n",
              "      <td>0</td>\n",
              "      <td>0</td>\n",
              "      <td>0</td>\n",
              "      <td>0</td>\n",
              "      <td>0</td>\n",
              "      <td>0</td>\n",
              "      <td>0</td>\n",
              "      <td>0</td>\n",
              "      <td>0</td>\n",
              "      <td>0</td>\n",
              "      <td>1</td>\n",
              "      <td>145.0</td>\n",
              "      <td>1</td>\n",
              "      <td>1.7</td>\n",
              "      <td>1</td>\n",
              "      <td>19.0</td>\n",
              "      <td>1</td>\n",
              "      <td>1.13</td>\n",
              "      <td>1</td>\n",
              "      <td>17.0</td>\n",
              "      <td>0</td>\n",
              "    </tr>\n",
              "    <tr>\n",
              "      <th>2</th>\n",
              "      <td>0</td>\n",
              "      <td>24.0</td>\n",
              "      <td>2</td>\n",
              "      <td>0</td>\n",
              "      <td>0</td>\n",
              "      <td>0</td>\n",
              "      <td>0</td>\n",
              "      <td>0</td>\n",
              "      <td>0</td>\n",
              "      <td>0</td>\n",
              "      <td>0</td>\n",
              "      <td>0</td>\n",
              "      <td>0</td>\n",
              "      <td>0</td>\n",
              "      <td>1</td>\n",
              "      <td>0.0</td>\n",
              "      <td>1</td>\n",
              "      <td>0.2</td>\n",
              "      <td>1</td>\n",
              "      <td>4.0</td>\n",
              "      <td>1</td>\n",
              "      <td>1.00</td>\n",
              "      <td>1</td>\n",
              "      <td>0.0</td>\n",
              "      <td>0</td>\n",
              "    </tr>\n",
              "    <tr>\n",
              "      <th>3</th>\n",
              "      <td>0</td>\n",
              "      <td>24.0</td>\n",
              "      <td>0</td>\n",
              "      <td>0</td>\n",
              "      <td>0</td>\n",
              "      <td>0</td>\n",
              "      <td>0</td>\n",
              "      <td>0</td>\n",
              "      <td>0</td>\n",
              "      <td>0</td>\n",
              "      <td>0</td>\n",
              "      <td>0</td>\n",
              "      <td>0</td>\n",
              "      <td>0</td>\n",
              "      <td>1</td>\n",
              "      <td>430.0</td>\n",
              "      <td>1</td>\n",
              "      <td>0.4</td>\n",
              "      <td>1</td>\n",
              "      <td>6.0</td>\n",
              "      <td>1</td>\n",
              "      <td>1.04</td>\n",
              "      <td>1</td>\n",
              "      <td>6.0</td>\n",
              "      <td>0</td>\n",
              "    </tr>\n",
              "    <tr>\n",
              "      <th>4</th>\n",
              "      <td>0</td>\n",
              "      <td>77.0</td>\n",
              "      <td>2</td>\n",
              "      <td>0</td>\n",
              "      <td>0</td>\n",
              "      <td>0</td>\n",
              "      <td>0</td>\n",
              "      <td>0</td>\n",
              "      <td>0</td>\n",
              "      <td>0</td>\n",
              "      <td>0</td>\n",
              "      <td>0</td>\n",
              "      <td>0</td>\n",
              "      <td>0</td>\n",
              "      <td>1</td>\n",
              "      <td>7.3</td>\n",
              "      <td>1</td>\n",
              "      <td>1.2</td>\n",
              "      <td>1</td>\n",
              "      <td>57.0</td>\n",
              "      <td>1</td>\n",
              "      <td>1.28</td>\n",
              "      <td>1</td>\n",
              "      <td>44.0</td>\n",
              "      <td>0</td>\n",
              "    </tr>\n",
              "  </tbody>\n",
              "</table>\n",
              "</div>"
            ],
            "text/plain": [
              "   status   age  sex  on_thyroxine  ...   T4U  FTI_measured   FTI  TBG_measured\n",
              "0       0  72.0    2             0  ...  1.48             1  10.0             0\n",
              "1       0  15.0    0             1  ...  1.13             1  17.0             0\n",
              "2       0  24.0    2             0  ...  1.00             1   0.0             0\n",
              "3       0  24.0    0             0  ...  1.04             1   6.0             0\n",
              "4       0  77.0    2             0  ...  1.28             1  44.0             0\n",
              "\n",
              "[5 rows x 25 columns]"
            ]
          },
          "metadata": {},
          "execution_count": 67
        }
      ]
    },
    {
      "cell_type": "markdown",
      "metadata": {
        "id": "d7wNwIZ4z4j7"
      },
      "source": [
        "## 8. Implementing the solution"
      ]
    },
    {
      "cell_type": "markdown",
      "metadata": {
        "id": "VTNhPo6VPsPg"
      },
      "source": [
        "#### Checking for multicorlinearlity"
      ]
    },
    {
      "cell_type": "code",
      "metadata": {
        "colab": {
          "base_uri": "https://localhost:8080/",
          "height": 793
        },
        "id": "Ce81Q9hIP09s",
        "outputId": "10c7f541-e38d-48d0-bde6-0d2d5c9c80ba"
      },
      "source": [
        "# Data preparation\n",
        "# Features to be used in predictions as predictors\n",
        "X_feat=df1.drop(columns=['status'],axis=1)\n",
        "# X_feat will be used whien checcking the specific columns used in the trees\n",
        "X=X_feat.values\n",
        "X\n",
        "# Extracting the target variable\n",
        "Y_label=df1['status']\n",
        "Y=Y_label.values\n",
        "Y\n",
        "# Calculating the Variance inflation factor of the specific columns\n",
        "vif = pd.DataFrame()\n",
        "vif[\"VIF Factor\"] = [variance_inflation_factor(X_feat.values, i) for i in range(X_feat.shape[1])]\n",
        "vif[\"features\"] = X_feat.columns\n",
        "vif\n"
      ],
      "execution_count": 68,
      "outputs": [
        {
          "output_type": "execute_result",
          "data": {
            "text/html": [
              "<div>\n",
              "<style scoped>\n",
              "    .dataframe tbody tr th:only-of-type {\n",
              "        vertical-align: middle;\n",
              "    }\n",
              "\n",
              "    .dataframe tbody tr th {\n",
              "        vertical-align: top;\n",
              "    }\n",
              "\n",
              "    .dataframe thead th {\n",
              "        text-align: right;\n",
              "    }\n",
              "</style>\n",
              "<table border=\"1\" class=\"dataframe\">\n",
              "  <thead>\n",
              "    <tr style=\"text-align: right;\">\n",
              "      <th></th>\n",
              "      <th>VIF Factor</th>\n",
              "      <th>features</th>\n",
              "    </tr>\n",
              "  </thead>\n",
              "  <tbody>\n",
              "    <tr>\n",
              "      <th>0</th>\n",
              "      <td>10.396948</td>\n",
              "      <td>age</td>\n",
              "    </tr>\n",
              "    <tr>\n",
              "      <th>1</th>\n",
              "      <td>1.605894</td>\n",
              "      <td>sex</td>\n",
              "    </tr>\n",
              "    <tr>\n",
              "      <th>2</th>\n",
              "      <td>1.386858</td>\n",
              "      <td>on_thyroxine</td>\n",
              "    </tr>\n",
              "    <tr>\n",
              "      <th>3</th>\n",
              "      <td>1.070623</td>\n",
              "      <td>query_on_thyroxine</td>\n",
              "    </tr>\n",
              "    <tr>\n",
              "      <th>4</th>\n",
              "      <td>1.044035</td>\n",
              "      <td>on_antithyroid_medication</td>\n",
              "    </tr>\n",
              "    <tr>\n",
              "      <th>5</th>\n",
              "      <td>1.046933</td>\n",
              "      <td>thyroid_surgery</td>\n",
              "    </tr>\n",
              "    <tr>\n",
              "      <th>6</th>\n",
              "      <td>1.116168</td>\n",
              "      <td>query_hypothyroid</td>\n",
              "    </tr>\n",
              "    <tr>\n",
              "      <th>7</th>\n",
              "      <td>1.188514</td>\n",
              "      <td>query_hyperthyroid</td>\n",
              "    </tr>\n",
              "    <tr>\n",
              "      <th>8</th>\n",
              "      <td>1.175280</td>\n",
              "      <td>pregnant</td>\n",
              "    </tr>\n",
              "    <tr>\n",
              "      <th>9</th>\n",
              "      <td>1.062140</td>\n",
              "      <td>sick</td>\n",
              "    </tr>\n",
              "    <tr>\n",
              "      <th>10</th>\n",
              "      <td>1.056331</td>\n",
              "      <td>tumor</td>\n",
              "    </tr>\n",
              "    <tr>\n",
              "      <th>11</th>\n",
              "      <td>1.005712</td>\n",
              "      <td>lithium</td>\n",
              "    </tr>\n",
              "    <tr>\n",
              "      <th>12</th>\n",
              "      <td>1.077018</td>\n",
              "      <td>goitre</td>\n",
              "    </tr>\n",
              "    <tr>\n",
              "      <th>13</th>\n",
              "      <td>17.607692</td>\n",
              "      <td>TSH_measured</td>\n",
              "    </tr>\n",
              "    <tr>\n",
              "      <th>14</th>\n",
              "      <td>1.273330</td>\n",
              "      <td>TSH</td>\n",
              "    </tr>\n",
              "    <tr>\n",
              "      <th>15</th>\n",
              "      <td>8.787541</td>\n",
              "      <td>T3_measured</td>\n",
              "    </tr>\n",
              "    <tr>\n",
              "      <th>16</th>\n",
              "      <td>9.951141</td>\n",
              "      <td>T3</td>\n",
              "    </tr>\n",
              "    <tr>\n",
              "      <th>17</th>\n",
              "      <td>2865.778362</td>\n",
              "      <td>TT4_measured</td>\n",
              "    </tr>\n",
              "    <tr>\n",
              "      <th>18</th>\n",
              "      <td>33.978273</td>\n",
              "      <td>TT4</td>\n",
              "    </tr>\n",
              "    <tr>\n",
              "      <th>19</th>\n",
              "      <td>5798.765599</td>\n",
              "      <td>T4U_measured</td>\n",
              "    </tr>\n",
              "    <tr>\n",
              "      <th>20</th>\n",
              "      <td>54.190781</td>\n",
              "      <td>T4U</td>\n",
              "    </tr>\n",
              "    <tr>\n",
              "      <th>21</th>\n",
              "      <td>2984.902618</td>\n",
              "      <td>FTI_measured</td>\n",
              "    </tr>\n",
              "    <tr>\n",
              "      <th>22</th>\n",
              "      <td>18.861130</td>\n",
              "      <td>FTI</td>\n",
              "    </tr>\n",
              "    <tr>\n",
              "      <th>23</th>\n",
              "      <td>3.568382</td>\n",
              "      <td>TBG_measured</td>\n",
              "    </tr>\n",
              "  </tbody>\n",
              "</table>\n",
              "</div>"
            ],
            "text/plain": [
              "     VIF Factor                   features\n",
              "0     10.396948                        age\n",
              "1      1.605894                        sex\n",
              "2      1.386858               on_thyroxine\n",
              "3      1.070623         query_on_thyroxine\n",
              "4      1.044035  on_antithyroid_medication\n",
              "5      1.046933            thyroid_surgery\n",
              "6      1.116168          query_hypothyroid\n",
              "7      1.188514         query_hyperthyroid\n",
              "8      1.175280                   pregnant\n",
              "9      1.062140                       sick\n",
              "10     1.056331                      tumor\n",
              "11     1.005712                    lithium\n",
              "12     1.077018                     goitre\n",
              "13    17.607692               TSH_measured\n",
              "14     1.273330                        TSH\n",
              "15     8.787541                T3_measured\n",
              "16     9.951141                         T3\n",
              "17  2865.778362               TT4_measured\n",
              "18    33.978273                        TT4\n",
              "19  5798.765599               T4U_measured\n",
              "20    54.190781                        T4U\n",
              "21  2984.902618               FTI_measured\n",
              "22    18.861130                        FTI\n",
              "23     3.568382               TBG_measured"
            ]
          },
          "metadata": {},
          "execution_count": 68
        }
      ]
    },
    {
      "cell_type": "markdown",
      "metadata": {
        "id": "CihbX9lLULdH"
      },
      "source": [
        "As expected and seen in the corlinearlity check, Thyroxine (T4U) and Free thyroxine index (FTI) have a high vif because they seem to explain similar variance within the dataset. on the removal of one of the column we will see the change in the vif of the set to avoid an instance of multicorlinearlity in training."
      ]
    },
    {
      "cell_type": "markdown",
      "metadata": {
        "id": "lDuEEi-UZt24"
      },
      "source": [
        "#####  Will drop the columns until most features have a VIF of below 10"
      ]
    },
    {
      "cell_type": "code",
      "metadata": {
        "colab": {
          "base_uri": "https://localhost:8080/",
          "height": 607
        },
        "id": "kVMKgRAHUKEb",
        "outputId": "fad9cd4d-4ac2-4cd4-b80f-ac5976016f81"
      },
      "source": [
        "# Removing measurements exhibiting high vif as they explain the same variance within the set\n",
        "X_feat2=X_feat.drop(columns=['T4U_measured','T4U_measured','TT4_measured','TSH_measured','FTI_measured','TT4','T4U'],axis=1)\n",
        "X_feat2\n",
        "# Recheking the vif of the same set.\n",
        "X1=X_feat2.values\n",
        "X1\n",
        "vif = pd.DataFrame()\n",
        "vif[\"VIF Factor\"] = [variance_inflation_factor(X_feat2.values, i) for i in range(X_feat2.shape[1])]\n",
        "vif[\"features\"] = X_feat2.columns\n",
        "vif"
      ],
      "execution_count": 69,
      "outputs": [
        {
          "output_type": "execute_result",
          "data": {
            "text/html": [
              "<div>\n",
              "<style scoped>\n",
              "    .dataframe tbody tr th:only-of-type {\n",
              "        vertical-align: middle;\n",
              "    }\n",
              "\n",
              "    .dataframe tbody tr th {\n",
              "        vertical-align: top;\n",
              "    }\n",
              "\n",
              "    .dataframe thead th {\n",
              "        text-align: right;\n",
              "    }\n",
              "</style>\n",
              "<table border=\"1\" class=\"dataframe\">\n",
              "  <thead>\n",
              "    <tr style=\"text-align: right;\">\n",
              "      <th></th>\n",
              "      <th>VIF Factor</th>\n",
              "      <th>features</th>\n",
              "    </tr>\n",
              "  </thead>\n",
              "  <tbody>\n",
              "    <tr>\n",
              "      <th>0</th>\n",
              "      <td>6.627495</td>\n",
              "      <td>age</td>\n",
              "    </tr>\n",
              "    <tr>\n",
              "      <th>1</th>\n",
              "      <td>1.490597</td>\n",
              "      <td>sex</td>\n",
              "    </tr>\n",
              "    <tr>\n",
              "      <th>2</th>\n",
              "      <td>1.266622</td>\n",
              "      <td>on_thyroxine</td>\n",
              "    </tr>\n",
              "    <tr>\n",
              "      <th>3</th>\n",
              "      <td>1.036459</td>\n",
              "      <td>query_on_thyroxine</td>\n",
              "    </tr>\n",
              "    <tr>\n",
              "      <th>4</th>\n",
              "      <td>1.041629</td>\n",
              "      <td>on_antithyroid_medication</td>\n",
              "    </tr>\n",
              "    <tr>\n",
              "      <th>5</th>\n",
              "      <td>1.040295</td>\n",
              "      <td>thyroid_surgery</td>\n",
              "    </tr>\n",
              "    <tr>\n",
              "      <th>6</th>\n",
              "      <td>1.105400</td>\n",
              "      <td>query_hypothyroid</td>\n",
              "    </tr>\n",
              "    <tr>\n",
              "      <th>7</th>\n",
              "      <td>1.166300</td>\n",
              "      <td>query_hyperthyroid</td>\n",
              "    </tr>\n",
              "    <tr>\n",
              "      <th>8</th>\n",
              "      <td>1.098066</td>\n",
              "      <td>pregnant</td>\n",
              "    </tr>\n",
              "    <tr>\n",
              "      <th>9</th>\n",
              "      <td>1.058501</td>\n",
              "      <td>sick</td>\n",
              "    </tr>\n",
              "    <tr>\n",
              "      <th>10</th>\n",
              "      <td>1.021113</td>\n",
              "      <td>tumor</td>\n",
              "    </tr>\n",
              "    <tr>\n",
              "      <th>11</th>\n",
              "      <td>1.004202</td>\n",
              "      <td>lithium</td>\n",
              "    </tr>\n",
              "    <tr>\n",
              "      <th>12</th>\n",
              "      <td>1.075893</td>\n",
              "      <td>goitre</td>\n",
              "    </tr>\n",
              "    <tr>\n",
              "      <th>13</th>\n",
              "      <td>1.105376</td>\n",
              "      <td>TSH</td>\n",
              "    </tr>\n",
              "    <tr>\n",
              "      <th>14</th>\n",
              "      <td>5.993470</td>\n",
              "      <td>T3_measured</td>\n",
              "    </tr>\n",
              "    <tr>\n",
              "      <th>15</th>\n",
              "      <td>5.705368</td>\n",
              "      <td>T3</td>\n",
              "    </tr>\n",
              "    <tr>\n",
              "      <th>16</th>\n",
              "      <td>5.372977</td>\n",
              "      <td>FTI</td>\n",
              "    </tr>\n",
              "    <tr>\n",
              "      <th>17</th>\n",
              "      <td>1.315306</td>\n",
              "      <td>TBG_measured</td>\n",
              "    </tr>\n",
              "  </tbody>\n",
              "</table>\n",
              "</div>"
            ],
            "text/plain": [
              "    VIF Factor                   features\n",
              "0     6.627495                        age\n",
              "1     1.490597                        sex\n",
              "2     1.266622               on_thyroxine\n",
              "3     1.036459         query_on_thyroxine\n",
              "4     1.041629  on_antithyroid_medication\n",
              "5     1.040295            thyroid_surgery\n",
              "6     1.105400          query_hypothyroid\n",
              "7     1.166300         query_hyperthyroid\n",
              "8     1.098066                   pregnant\n",
              "9     1.058501                       sick\n",
              "10    1.021113                      tumor\n",
              "11    1.004202                    lithium\n",
              "12    1.075893                     goitre\n",
              "13    1.105376                        TSH\n",
              "14    5.993470                T3_measured\n",
              "15    5.705368                         T3\n",
              "16    5.372977                        FTI\n",
              "17    1.315306               TBG_measured"
            ]
          },
          "metadata": {},
          "execution_count": 69
        }
      ]
    },
    {
      "cell_type": "markdown",
      "metadata": {
        "id": "-V0xyNXcDMqD"
      },
      "source": [
        "Logistic Regression and Tree based algorithms such as Decision Tree, Random forest and gradient boosting, are not sensitive to the magnitude of variables. So standardization is not needed before fitting this kind of models"
      ]
    },
    {
      "cell_type": "markdown",
      "metadata": {
        "id": "DfmX_ISfz_Vs"
      },
      "source": [
        "### Model"
      ]
    },
    {
      "cell_type": "markdown",
      "metadata": {
        "id": "Ej49yr490Era"
      },
      "source": [
        "#### Baseline model:"
      ]
    },
    {
      "cell_type": "markdown",
      "metadata": {
        "id": "hIgXMFzMDfVe"
      },
      "source": [
        "1.Random Forest"
      ]
    },
    {
      "cell_type": "code",
      "metadata": {
        "colab": {
          "base_uri": "https://localhost:8080/"
        },
        "id": "OJjQdtnfz-gE",
        "outputId": "847cabdc-543f-4ef1-eb17-df87a28d6293"
      },
      "source": [
        "#Using random forests as my baseline model\n",
        "X_train,X_test,Y_train,Y_test=train_test_split(X1,Y, test_size=0.2,random_state=1)\n",
        "#Instantiating my model\n",
        "forest=RandomForestClassifier(n_estimators=100,random_state=42,max_depth=6)\n",
        "#Fitting my model\n",
        "forest=forest.fit(X_train,Y_train)\n",
        "# Predicting the results of my model\n",
        "Y_forest_pred=forest.predict(X_test)\n",
        "# Evaluating the model using accuracy score\n",
        "ac=accuracy_score(Y_test,Y_forest_pred)\n",
        "cm=confusion_matrix(Y_test,Y_forest_pred)\n",
        "cr=classification_report(Y_test,Y_forest_pred)\n",
        "# Printing the evaluations\n",
        "print(ac)\n",
        "print(cm)\n",
        "print(cr)"
      ],
      "execution_count": 79,
      "outputs": [
        {
          "output_type": "stream",
          "name": "stdout",
          "text": [
            "0.9751243781094527\n",
            "[[ 20  11]\n",
            " [  4 568]]\n",
            "              precision    recall  f1-score   support\n",
            "\n",
            "           0       0.83      0.65      0.73        31\n",
            "           1       0.98      0.99      0.99       572\n",
            "\n",
            "    accuracy                           0.98       603\n",
            "   macro avg       0.91      0.82      0.86       603\n",
            "weighted avg       0.97      0.98      0.97       603\n",
            "\n"
          ]
        }
      ]
    },
    {
      "cell_type": "markdown",
      "metadata": {
        "id": "YiEw6YxrMoW7"
      },
      "source": [
        "My model attained 97% accuracy , with 20 true positives and 568 true negative, this can be attributed to the influx in non-hypothyroidic patients in our samples. WE can not ignore the fact that there were still 11 false negatives and 4 false positive and an accuracy of 97% indicates a case of over fitting.\n",
        "With a presicion of 98 % for diagnosing hypothyroidism i will optimize my model using (hyperparameter tuning) to ensure the parameters used are fit for the  model."
      ]
    },
    {
      "cell_type": "markdown",
      "metadata": {
        "id": "ZieI-_8EOT76"
      },
      "source": [
        "### Hyperparameter Tuning"
      ]
    },
    {
      "cell_type": "code",
      "metadata": {
        "colab": {
          "base_uri": "https://localhost:8080/"
        },
        "id": "QAT1r0nJOXyJ",
        "outputId": "33c6e4ba-f3d1-4975-8111-ede685f41d68"
      },
      "source": [
        "# Using Grid search to obtain the besst params to have the best performing model.\n",
        "# Obtaining the parameters that need to be tuned\n",
        "forest.get_params()"
      ],
      "execution_count": 80,
      "outputs": [
        {
          "output_type": "execute_result",
          "data": {
            "text/plain": [
              "{'bootstrap': True,\n",
              " 'ccp_alpha': 0.0,\n",
              " 'class_weight': None,\n",
              " 'criterion': 'gini',\n",
              " 'max_depth': 6,\n",
              " 'max_features': 'auto',\n",
              " 'max_leaf_nodes': None,\n",
              " 'max_samples': None,\n",
              " 'min_impurity_decrease': 0.0,\n",
              " 'min_impurity_split': None,\n",
              " 'min_samples_leaf': 1,\n",
              " 'min_samples_split': 2,\n",
              " 'min_weight_fraction_leaf': 0.0,\n",
              " 'n_estimators': 100,\n",
              " 'n_jobs': None,\n",
              " 'oob_score': False,\n",
              " 'random_state': 42,\n",
              " 'verbose': 0,\n",
              " 'warm_start': False}"
            ]
          },
          "metadata": {},
          "execution_count": 80
        }
      ]
    },
    {
      "cell_type": "code",
      "metadata": {
        "id": "t6emDTnlX8FG"
      },
      "source": [
        "# Using Grid search to obtain the best parameters to perform tuning\n",
        "\n",
        "# Create a based model\n",
        "\n",
        "rf = RandomForestClassifier()\n",
        "#Obtaining the param grig\n",
        "param_grid = {\n",
        "    'bootstrap': [True],\n",
        "    'max_depth': [3, 5, 10, 15],\n",
        "    'max_features': [2, 3],\n",
        "    'min_samples_leaf': [3, 4, 5],\n",
        "    'min_samples_split': [8, 10, 12],\n",
        "    'n_estimators': [100, 200, 300]}\n",
        "\n",
        "# Using ROC_AUC score to check the performance of the model and its ability to distringuish between classes since they are binary\n",
        "forest_search=GridSearchCV(estimator=rf,\n",
        "                           param_grid=param_grid,\n",
        "                           scoring='accuracy',\n",
        "                           n_jobs=1,cv=3)\n",
        "# Fitting the model\n",
        "forest_search.fit(X_train,Y_train)\n",
        "# # Obtaining the best model/estimator\n",
        "best_model=forest_search.best_estimator_\n",
        "# Making predictions using the best model\n",
        "Y_search_pred=best_model.predict(X_test)\n"
      ],
      "execution_count": 109,
      "outputs": []
    },
    {
      "cell_type": "code",
      "metadata": {
        "colab": {
          "base_uri": "https://localhost:8080/"
        },
        "id": "MdAEw-PmfPzX",
        "outputId": "904a1a3b-3bd4-46a1-9b9c-e4534f8932d9"
      },
      "source": [
        "# # Getting the accuracy score\n",
        "ac_search=accuracy_score(Y_test, Y_search_pred)\n",
        "cm_search=confusion_matrix(Y_test,Y_search_pred)\n",
        "cr_search=classification_report(Y_test,Y_search_pred)\n",
        "# Printing the evaluations\n",
        "print(ac_search)\n",
        "print(cm_search)\n",
        "print(cr_search)"
      ],
      "execution_count": 114,
      "outputs": [
        {
          "output_type": "stream",
          "name": "stdout",
          "text": [
            "0.978441127694859\n",
            "[[ 22   9]\n",
            " [  4 568]]\n",
            "              precision    recall  f1-score   support\n",
            "\n",
            "           0       0.85      0.71      0.77        31\n",
            "           1       0.98      0.99      0.99       572\n",
            "\n",
            "    accuracy                           0.98       603\n",
            "   macro avg       0.92      0.85      0.88       603\n",
            "weighted avg       0.98      0.98      0.98       603\n",
            "\n"
          ]
        }
      ]
    },
    {
      "cell_type": "markdown",
      "metadata": {
        "id": "FO8ygrJSkKLd"
      },
      "source": [
        "My model attained approximately 98% accuracy , with 22 true positives and 568 true negatives, this can be attributed to the influx in non-hypothyroidic patients in our samples. It is important to note that the number of false negatives reduced from the 11 in the random forest to 9 the number of false positives is the same as the random forests and that kind of accuracy is an alart, for over fitting.\n",
        "The precision for predicting positives is greater than that of negatives . This model is performing much better than the random forest. "
      ]
    },
    {
      "cell_type": "markdown",
      "metadata": {
        "id": "U8q3gGC3moMa"
      },
      "source": [
        "Feature Importance"
      ]
    },
    {
      "cell_type": "code",
      "metadata": {
        "colab": {
          "base_uri": "https://localhost:8080/",
          "height": 298
        },
        "id": "JveZV_NFmsnW",
        "outputId": "acf13f93-d417-46df-e2a0-9a81535ace59"
      },
      "source": [
        "# Obtaining thr features used for prediction\n",
        "importance_rf=pd.Series(best_model.feature_importances_,index=X_feat2.columns)\n",
        "# Sorting the features\n",
        "sorted=importance_rf.sort_values()\n",
        "#Plotting the features with their importances\n",
        "sorted.plot(kind='barh')\n",
        "plt.title('A plot of the features used for classification ')"
      ],
      "execution_count": 122,
      "outputs": [
        {
          "output_type": "execute_result",
          "data": {
            "text/plain": [
              "Text(0.5, 1.0, 'A plot of the features used for classification ')"
            ]
          },
          "metadata": {},
          "execution_count": 122
        },
        {
          "output_type": "display_data",
          "data": {
            "image/png": "[encoded data removed]",
            "text/plain": [
              "<Figure size 432x288 with 1 Axes>"
            ]
          },
          "metadata": {
            "needs_background": "light"
          }
        }
      ]
    },
    {
      "cell_type": "markdown",
      "metadata": {
        "id": "7Ra2Vw5cqz6m"
      },
      "source": [
        "Only FTI,TSH,T3,age,query on hypothyroid,on thyroxine,measured T3 and sex were used for classification."
      ]
    },
    {
      "cell_type": "markdown",
      "metadata": {
        "id": "g83-OMhXkD0u"
      },
      "source": [
        "#### Gradient Boosting"
      ]
    },
    {
      "cell_type": "code",
      "metadata": {
        "colab": {
          "base_uri": "https://localhost:8080/"
        },
        "id": "eC8Cxku-eXLx",
        "outputId": "4e1eaa52-c561-458f-f2d4-6a0b18a8dc8a"
      },
      "source": [
        "# Using gradient boost to classify our set\n",
        "grad_class=GradientBoostingClassifier(n_estimators=100,learning_rate=0.1,max_depth=10)\n",
        "# Fitting our training set\n",
        "grad_class.fit(X_train,Y_train)\n",
        "# predicting the diagnosis\n",
        "Y_grad_pred=grad_class.predict(X_test)\n",
        "# Measuring the accuracy of our model\n",
        "ac_grad=accuracy_score(Y_test,Y_grad_pred)\n",
        "cm_grad=confusion_matrix(Y_test,Y_grad_pred)\n",
        "cr_grad=classification_report(Y_test,Y_grad_pred)\n",
        "# Printing the accuracy score and classification report\n",
        "print(ac_grad)\n",
        "print(cm_grad)\n",
        "print(cr_grad)"
      ],
      "execution_count": 108,
      "outputs": [
        {
          "output_type": "stream",
          "name": "stdout",
          "text": [
            "0.988391376451078\n",
            "[[ 28   3]\n",
            " [  4 568]]\n",
            "              precision    recall  f1-score   support\n",
            "\n",
            "           0       0.88      0.90      0.89        31\n",
            "           1       0.99      0.99      0.99       572\n",
            "\n",
            "    accuracy                           0.99       603\n",
            "   macro avg       0.93      0.95      0.94       603\n",
            "weighted avg       0.99      0.99      0.99       603\n",
            "\n"
          ]
        }
      ]
    },
    {
      "cell_type": "markdown",
      "metadata": {
        "id": "yogZu9u0haG3"
      },
      "source": [
        "My model attained 99% accuracy , with 28 true positives and 568 true negatives, this can be attributed to the influx in non-hypothyroidic patients in our samples. It is important to note that the number of false negatives reduced from the 11 in the random forest the number of false positives is the same as the random forests and that kind of accuracy is an alar, for over fitting.\n",
        "The precision for predicting positives is greater than that of negatives . This model is performing much better than the random forest. We will use hyper parameters to get the right model to perform an exelent job at predicting the status of patients."
      ]
    },
    {
      "cell_type": "code",
      "metadata": {
        "colab": {
          "base_uri": "https://localhost:8080/"
        },
        "id": "a1FxHHU5jIos",
        "outputId": "485b3e49-0cfd-4a8e-a75c-31c20508a1a7"
      },
      "source": [
        "# Getting the parameters used in gradient boost\n",
        "grad_class.get_params()"
      ],
      "execution_count": 110,
      "outputs": [
        {
          "output_type": "execute_result",
          "data": {
            "text/plain": [
              "{'ccp_alpha': 0.0,\n",
              " 'criterion': 'friedman_mse',\n",
              " 'init': None,\n",
              " 'learning_rate': 0.1,\n",
              " 'loss': 'deviance',\n",
              " 'max_depth': 10,\n",
              " 'max_features': None,\n",
              " 'max_leaf_nodes': None,\n",
              " 'min_impurity_decrease': 0.0,\n",
              " 'min_impurity_split': None,\n",
              " 'min_samples_leaf': 1,\n",
              " 'min_samples_split': 2,\n",
              " 'min_weight_fraction_leaf': 0.0,\n",
              " 'n_estimators': 100,\n",
              " 'n_iter_no_change': None,\n",
              " 'presort': 'deprecated',\n",
              " 'random_state': None,\n",
              " 'subsample': 1.0,\n",
              " 'tol': 0.0001,\n",
              " 'validation_fraction': 0.1,\n",
              " 'verbose': 0,\n",
              " 'warm_start': False}"
            ]
          },
          "metadata": {},
          "execution_count": 110
        }
      ]
    },
    {
      "cell_type": "markdown",
      "metadata": {
        "id": "WqqX1lQMmIF2"
      },
      "source": [
        "Hyperparameter Tuning for the grarient boosting parameters"
      ]
    },
    {
      "cell_type": "code",
      "metadata": {
        "id": "uRgHJuMrbW08"
      },
      "source": [
        "gb = GradientBoostingClassifier()\n",
        "# Obtaining the param grig\n",
        "param_grid_grad = {'max_depth': [3, 5, 10, 15],\n",
        "                    'max_features': [2, 3, 5 ],\n",
        "                    'min_samples_leaf': [3, 4, 5, 8],\n",
        "                    'min_samples_split': [8, 10, 12, 18, 20],\n",
        "                    'n_estimators': [100, 200, 300]}\n",
        "\n",
        "gradient_search=GridSearchCV(estimator=gb,\n",
        "                           param_grid=param_grid_grad,\n",
        "                           scoring='accuracy',\n",
        "                           n_jobs=1,cv=5,verbose=1)\n"
      ],
      "execution_count": 116,
      "outputs": []
    },
    {
      "cell_type": "code",
      "metadata": {
        "colab": {
          "base_uri": "https://localhost:8080/"
        },
        "id": "WKjOfY3yl4k3",
        "outputId": "4f4ec7aa-49d5-4a96-ddd9-1bbb91ce8984"
      },
      "source": [
        "# Fitting the model\n",
        "gradient_search.fit(X_train,Y_train)\n",
        "# # Obtaining the best model/estimator\n",
        "best_model_grad=gradient_search.best_estimator_\n",
        "# Making predictions using the best model\n",
        "Y_search_pred_grad=best_model_grad.predict(X_test)"
      ],
      "execution_count": 117,
      "outputs": [
        {
          "output_type": "stream",
          "name": "stdout",
          "text": [
            "Fitting 5 folds for each of 720 candidates, totalling 3600 fits\n"
          ]
        },
        {
          "output_type": "stream",
          "name": "stderr",
          "text": [
            "[Parallel(n_jobs=1)]: Using backend SequentialBackend with 1 concurrent workers.\n",
            "[Parallel(n_jobs=1)]: Done 3600 out of 3600 | elapsed: 18.9min finished\n"
          ]
        }
      ]
    },
    {
      "cell_type": "code",
      "metadata": {
        "colab": {
          "base_uri": "https://localhost:8080/"
        },
        "id": "P3OPSIPnmSJG",
        "outputId": "2fd08d71-7ce9-4125-99eb-0f7b757eecd4"
      },
      "source": [
        "# Measuring the accuracy of our model\n",
        "ac_search_grad=accuracy_score(Y_test,Y_search_pred_grad)\n",
        "cm_search_grad=confusion_matrix(Y_test,Y_search_pred_grad)\n",
        "cr_search_grad=classification_report(Y_test,Y_search_pred_grad)\n",
        "# Printing the accuracy score and classification report\n",
        "print(ac_search_grad)\n",
        "print(cm_search_grad)\n",
        "print(cr_search_grad)"
      ],
      "execution_count": 123,
      "outputs": [
        {
          "output_type": "stream",
          "name": "stdout",
          "text": [
            "0.9900497512437811\n",
            "[[ 29   2]\n",
            " [  4 568]]\n",
            "              precision    recall  f1-score   support\n",
            "\n",
            "           0       0.88      0.94      0.91        31\n",
            "           1       1.00      0.99      0.99       572\n",
            "\n",
            "    accuracy                           0.99       603\n",
            "   macro avg       0.94      0.96      0.95       603\n",
            "weighted avg       0.99      0.99      0.99       603\n",
            "\n"
          ]
        }
      ]
    },
    {
      "cell_type": "markdown",
      "metadata": {
        "id": "k9QmbE1W0hFj"
      },
      "source": [
        "## 9. Challenging the solution"
      ]
    },
    {
      "cell_type": "markdown",
      "metadata": {
        "id": "a6pYqmWlpMD0"
      },
      "source": [
        "Challenging the solution using the Support Vector Machine model"
      ]
    },
    {
      "cell_type": "code",
      "metadata": {
        "colab": {
          "base_uri": "https://localhost:8080/",
          "height": 224
        },
        "id": "lUH9Slhj0kdu",
        "outputId": "ce7b2b68-a1ff-4af3-bffa-adde5dcdbf02"
      },
      "source": [
        "# Using the data free of outliers and missing values to avoid instances of misclassification\n",
        "Clean_df.head()"
      ],
      "execution_count": 125,
      "outputs": [
        {
          "output_type": "execute_result",
          "data": {
            "text/html": [
              "<div>\n",
              "<style scoped>\n",
              "    .dataframe tbody tr th:only-of-type {\n",
              "        vertical-align: middle;\n",
              "    }\n",
              "\n",
              "    .dataframe tbody tr th {\n",
              "        vertical-align: top;\n",
              "    }\n",
              "\n",
              "    .dataframe thead th {\n",
              "        text-align: right;\n",
              "    }\n",
              "</style>\n",
              "<table border=\"1\" class=\"dataframe\">\n",
              "  <thead>\n",
              "    <tr style=\"text-align: right;\">\n",
              "      <th></th>\n",
              "      <th>status</th>\n",
              "      <th>age</th>\n",
              "      <th>sex</th>\n",
              "      <th>on_thyroxine</th>\n",
              "      <th>query_on_thyroxine</th>\n",
              "      <th>on_antithyroid_medication</th>\n",
              "      <th>thyroid_surgery</th>\n",
              "      <th>query_hypothyroid</th>\n",
              "      <th>query_hyperthyroid</th>\n",
              "      <th>pregnant</th>\n",
              "      <th>sick</th>\n",
              "      <th>tumor</th>\n",
              "      <th>lithium</th>\n",
              "      <th>goitre</th>\n",
              "      <th>TSH_measured</th>\n",
              "      <th>TSH</th>\n",
              "      <th>T3_measured</th>\n",
              "      <th>T3</th>\n",
              "      <th>TT4_measured</th>\n",
              "      <th>TT4</th>\n",
              "      <th>T4U_measured</th>\n",
              "      <th>T4U</th>\n",
              "      <th>FTI_measured</th>\n",
              "      <th>FTI</th>\n",
              "      <th>TBG_measured</th>\n",
              "    </tr>\n",
              "  </thead>\n",
              "  <tbody>\n",
              "    <tr>\n",
              "      <th>0</th>\n",
              "      <td>hypothyroid</td>\n",
              "      <td>72.0</td>\n",
              "      <td>M</td>\n",
              "      <td>f</td>\n",
              "      <td>f</td>\n",
              "      <td>f</td>\n",
              "      <td>f</td>\n",
              "      <td>f</td>\n",
              "      <td>f</td>\n",
              "      <td>f</td>\n",
              "      <td>f</td>\n",
              "      <td>f</td>\n",
              "      <td>f</td>\n",
              "      <td>f</td>\n",
              "      <td>y</td>\n",
              "      <td>30.0</td>\n",
              "      <td>y</td>\n",
              "      <td>0.6</td>\n",
              "      <td>y</td>\n",
              "      <td>15.0</td>\n",
              "      <td>y</td>\n",
              "      <td>1.48</td>\n",
              "      <td>y</td>\n",
              "      <td>10.0</td>\n",
              "      <td>n</td>\n",
              "    </tr>\n",
              "    <tr>\n",
              "      <th>2</th>\n",
              "      <td>hypothyroid</td>\n",
              "      <td>24.0</td>\n",
              "      <td>M</td>\n",
              "      <td>f</td>\n",
              "      <td>f</td>\n",
              "      <td>f</td>\n",
              "      <td>f</td>\n",
              "      <td>f</td>\n",
              "      <td>f</td>\n",
              "      <td>f</td>\n",
              "      <td>f</td>\n",
              "      <td>f</td>\n",
              "      <td>f</td>\n",
              "      <td>f</td>\n",
              "      <td>y</td>\n",
              "      <td>0.0</td>\n",
              "      <td>y</td>\n",
              "      <td>0.2</td>\n",
              "      <td>y</td>\n",
              "      <td>4.0</td>\n",
              "      <td>y</td>\n",
              "      <td>1.00</td>\n",
              "      <td>y</td>\n",
              "      <td>0.0</td>\n",
              "      <td>n</td>\n",
              "    </tr>\n",
              "    <tr>\n",
              "      <th>4</th>\n",
              "      <td>hypothyroid</td>\n",
              "      <td>77.0</td>\n",
              "      <td>M</td>\n",
              "      <td>f</td>\n",
              "      <td>f</td>\n",
              "      <td>f</td>\n",
              "      <td>f</td>\n",
              "      <td>f</td>\n",
              "      <td>f</td>\n",
              "      <td>f</td>\n",
              "      <td>f</td>\n",
              "      <td>f</td>\n",
              "      <td>f</td>\n",
              "      <td>f</td>\n",
              "      <td>y</td>\n",
              "      <td>7.3</td>\n",
              "      <td>y</td>\n",
              "      <td>1.2</td>\n",
              "      <td>y</td>\n",
              "      <td>57.0</td>\n",
              "      <td>y</td>\n",
              "      <td>1.28</td>\n",
              "      <td>y</td>\n",
              "      <td>44.0</td>\n",
              "      <td>n</td>\n",
              "    </tr>\n",
              "    <tr>\n",
              "      <th>6</th>\n",
              "      <td>hypothyroid</td>\n",
              "      <td>64.0</td>\n",
              "      <td>F</td>\n",
              "      <td>f</td>\n",
              "      <td>f</td>\n",
              "      <td>f</td>\n",
              "      <td>t</td>\n",
              "      <td>f</td>\n",
              "      <td>f</td>\n",
              "      <td>f</td>\n",
              "      <td>f</td>\n",
              "      <td>f</td>\n",
              "      <td>f</td>\n",
              "      <td>f</td>\n",
              "      <td>y</td>\n",
              "      <td>7.7</td>\n",
              "      <td>y</td>\n",
              "      <td>1.3</td>\n",
              "      <td>y</td>\n",
              "      <td>54.0</td>\n",
              "      <td>y</td>\n",
              "      <td>0.86</td>\n",
              "      <td>y</td>\n",
              "      <td>63.0</td>\n",
              "      <td>n</td>\n",
              "    </tr>\n",
              "    <tr>\n",
              "      <th>7</th>\n",
              "      <td>hypothyroid</td>\n",
              "      <td>72.0</td>\n",
              "      <td>F</td>\n",
              "      <td>f</td>\n",
              "      <td>f</td>\n",
              "      <td>f</td>\n",
              "      <td>f</td>\n",
              "      <td>f</td>\n",
              "      <td>f</td>\n",
              "      <td>f</td>\n",
              "      <td>f</td>\n",
              "      <td>f</td>\n",
              "      <td>f</td>\n",
              "      <td>f</td>\n",
              "      <td>y</td>\n",
              "      <td>21.0</td>\n",
              "      <td>y</td>\n",
              "      <td>1.9</td>\n",
              "      <td>y</td>\n",
              "      <td>34.0</td>\n",
              "      <td>y</td>\n",
              "      <td>1.05</td>\n",
              "      <td>y</td>\n",
              "      <td>32.0</td>\n",
              "      <td>n</td>\n",
              "    </tr>\n",
              "  </tbody>\n",
              "</table>\n",
              "</div>"
            ],
            "text/plain": [
              "        status   age sex on_thyroxine  ...   T4U FTI_measured   FTI TBG_measured\n",
              "0  hypothyroid  72.0   M            f  ...  1.48            y  10.0            n\n",
              "2  hypothyroid  24.0   M            f  ...  1.00            y   0.0            n\n",
              "4  hypothyroid  77.0   M            f  ...  1.28            y  44.0            n\n",
              "6  hypothyroid  64.0   F            f  ...  0.86            y  63.0            n\n",
              "7  hypothyroid  72.0   F            f  ...  1.05            y  32.0            n\n",
              "\n",
              "[5 rows x 25 columns]"
            ]
          },
          "metadata": {},
          "execution_count": 125
        }
      ]
    },
    {
      "cell_type": "code",
      "metadata": {
        "colab": {
          "base_uri": "https://localhost:8080/"
        },
        "id": "ZHpXOXpItfPa",
        "outputId": "897ebb9b-30d4-4261-a615-1b6a9cfd10ba"
      },
      "source": [
        "# Data Preparation\n",
        "# Encoding the categorical columns to prepare them for analysis\n",
        "le=LabelEncoder()\n",
        "Cols=['status', 'sex', 'on_thyroxine', 'query_on_thyroxine',\n",
        "       'on_antithyroid_medication', 'thyroid_surgery', 'query_hypothyroid',\n",
        "       'query_hyperthyroid', 'pregnant', 'sick', 'tumor', 'lithium', 'goitre',\n",
        "       'TSH_measured', 'T3_measured', 'TT4_measured','T4U_measured', 'FTI_measured', 'TBG_measured']\n",
        "for i in Cols:\n",
        "  le.fit(Clean_df[i])\n",
        "  Clean_df[i]=le.transform(Clean_df[i])\n",
        "Clean_df.dtypes\n"
      ],
      "execution_count": 126,
      "outputs": [
        {
          "output_type": "execute_result",
          "data": {
            "text/plain": [
              "status                         int64\n",
              "age                          float64\n",
              "sex                            int64\n",
              "on_thyroxine                   int64\n",
              "query_on_thyroxine             int64\n",
              "on_antithyroid_medication      int64\n",
              "thyroid_surgery                int64\n",
              "query_hypothyroid              int64\n",
              "query_hyperthyroid             int64\n",
              "pregnant                       int64\n",
              "sick                           int64\n",
              "tumor                          int64\n",
              "lithium                        int64\n",
              "goitre                         int64\n",
              "TSH_measured                   int64\n",
              "TSH                          float64\n",
              "T3_measured                    int64\n",
              "T3                           float64\n",
              "TT4_measured                   int64\n",
              "TT4                          float64\n",
              "T4U_measured                   int64\n",
              "T4U                          float64\n",
              "FTI_measured                   int64\n",
              "FTI                          float64\n",
              "TBG_measured                   int64\n",
              "dtype: object"
            ]
          },
          "metadata": {},
          "execution_count": 126
        }
      ]
    },
    {
      "cell_type": "code",
      "metadata": {
        "colab": {
          "base_uri": "https://localhost:8080/",
          "height": 793
        },
        "id": "yDxQT3_3uFfb",
        "outputId": "d3ea6ab2-7b94-4030-fcee-9501737edb5b"
      },
      "source": [
        "# Data preparation\n",
        "# Features to be used in predictions as predictors\n",
        "X1_feat=Clean_df.drop(columns=['status'],axis=1)\n",
        "# X_feat will be used whien checcking the specific columns used in the trees\n",
        "X2=X1_feat.values\n",
        "X2\n",
        "# Extracting the target variable\n",
        "Y1_label=Clean_df['status']\n",
        "Y1=Y1_label.values\n",
        "Y1\n",
        "# Calculating the Variance inflation factor of the specific columns\n",
        "vif = pd.DataFrame()\n",
        "vif[\"VIF Factor\"] = [variance_inflation_factor(X1_feat.values, i) for i in range(X1_feat.shape[1])]\n",
        "vif[\"features\"] = X1_feat.columns\n",
        "vif"
      ],
      "execution_count": 136,
      "outputs": [
        {
          "output_type": "execute_result",
          "data": {
            "text/html": [
              "<div>\n",
              "<style scoped>\n",
              "    .dataframe tbody tr th:only-of-type {\n",
              "        vertical-align: middle;\n",
              "    }\n",
              "\n",
              "    .dataframe tbody tr th {\n",
              "        vertical-align: top;\n",
              "    }\n",
              "\n",
              "    .dataframe thead th {\n",
              "        text-align: right;\n",
              "    }\n",
              "</style>\n",
              "<table border=\"1\" class=\"dataframe\">\n",
              "  <thead>\n",
              "    <tr style=\"text-align: right;\">\n",
              "      <th></th>\n",
              "      <th>VIF Factor</th>\n",
              "      <th>features</th>\n",
              "    </tr>\n",
              "  </thead>\n",
              "  <tbody>\n",
              "    <tr>\n",
              "      <th>0</th>\n",
              "      <td>10.771849</td>\n",
              "      <td>age</td>\n",
              "    </tr>\n",
              "    <tr>\n",
              "      <th>1</th>\n",
              "      <td>1.624511</td>\n",
              "      <td>sex</td>\n",
              "    </tr>\n",
              "    <tr>\n",
              "      <th>2</th>\n",
              "      <td>1.440665</td>\n",
              "      <td>on_thyroxine</td>\n",
              "    </tr>\n",
              "    <tr>\n",
              "      <th>3</th>\n",
              "      <td>1.076101</td>\n",
              "      <td>query_on_thyroxine</td>\n",
              "    </tr>\n",
              "    <tr>\n",
              "      <th>4</th>\n",
              "      <td>1.047465</td>\n",
              "      <td>on_antithyroid_medication</td>\n",
              "    </tr>\n",
              "    <tr>\n",
              "      <th>5</th>\n",
              "      <td>1.049871</td>\n",
              "      <td>thyroid_surgery</td>\n",
              "    </tr>\n",
              "    <tr>\n",
              "      <th>6</th>\n",
              "      <td>1.111624</td>\n",
              "      <td>query_hypothyroid</td>\n",
              "    </tr>\n",
              "    <tr>\n",
              "      <th>7</th>\n",
              "      <td>1.153477</td>\n",
              "      <td>query_hyperthyroid</td>\n",
              "    </tr>\n",
              "    <tr>\n",
              "      <th>8</th>\n",
              "      <td>1.078633</td>\n",
              "      <td>pregnant</td>\n",
              "    </tr>\n",
              "    <tr>\n",
              "      <th>9</th>\n",
              "      <td>1.069006</td>\n",
              "      <td>sick</td>\n",
              "    </tr>\n",
              "    <tr>\n",
              "      <th>10</th>\n",
              "      <td>1.060088</td>\n",
              "      <td>tumor</td>\n",
              "    </tr>\n",
              "    <tr>\n",
              "      <th>11</th>\n",
              "      <td>1.002535</td>\n",
              "      <td>lithium</td>\n",
              "    </tr>\n",
              "    <tr>\n",
              "      <th>12</th>\n",
              "      <td>1.082304</td>\n",
              "      <td>goitre</td>\n",
              "    </tr>\n",
              "    <tr>\n",
              "      <th>13</th>\n",
              "      <td>17.997939</td>\n",
              "      <td>TSH_measured</td>\n",
              "    </tr>\n",
              "    <tr>\n",
              "      <th>14</th>\n",
              "      <td>1.620542</td>\n",
              "      <td>TSH</td>\n",
              "    </tr>\n",
              "    <tr>\n",
              "      <th>15</th>\n",
              "      <td>8.681367</td>\n",
              "      <td>T3_measured</td>\n",
              "    </tr>\n",
              "    <tr>\n",
              "      <th>16</th>\n",
              "      <td>14.382276</td>\n",
              "      <td>T3</td>\n",
              "    </tr>\n",
              "    <tr>\n",
              "      <th>17</th>\n",
              "      <td>2673.950501</td>\n",
              "      <td>TT4_measured</td>\n",
              "    </tr>\n",
              "    <tr>\n",
              "      <th>18</th>\n",
              "      <td>139.109071</td>\n",
              "      <td>TT4</td>\n",
              "    </tr>\n",
              "    <tr>\n",
              "      <th>19</th>\n",
              "      <td>5430.098060</td>\n",
              "      <td>T4U_measured</td>\n",
              "    </tr>\n",
              "    <tr>\n",
              "      <th>20</th>\n",
              "      <td>137.459358</td>\n",
              "      <td>T4U</td>\n",
              "    </tr>\n",
              "    <tr>\n",
              "      <th>21</th>\n",
              "      <td>2806.595225</td>\n",
              "      <td>FTI_measured</td>\n",
              "    </tr>\n",
              "    <tr>\n",
              "      <th>22</th>\n",
              "      <td>122.766462</td>\n",
              "      <td>FTI</td>\n",
              "    </tr>\n",
              "    <tr>\n",
              "      <th>23</th>\n",
              "      <td>7.815075</td>\n",
              "      <td>TBG_measured</td>\n",
              "    </tr>\n",
              "  </tbody>\n",
              "</table>\n",
              "</div>"
            ],
            "text/plain": [
              "     VIF Factor                   features\n",
              "0     10.771849                        age\n",
              "1      1.624511                        sex\n",
              "2      1.440665               on_thyroxine\n",
              "3      1.076101         query_on_thyroxine\n",
              "4      1.047465  on_antithyroid_medication\n",
              "5      1.049871            thyroid_surgery\n",
              "6      1.111624          query_hypothyroid\n",
              "7      1.153477         query_hyperthyroid\n",
              "8      1.078633                   pregnant\n",
              "9      1.069006                       sick\n",
              "10     1.060088                      tumor\n",
              "11     1.002535                    lithium\n",
              "12     1.082304                     goitre\n",
              "13    17.997939               TSH_measured\n",
              "14     1.620542                        TSH\n",
              "15     8.681367                T3_measured\n",
              "16    14.382276                         T3\n",
              "17  2673.950501               TT4_measured\n",
              "18   139.109071                        TT4\n",
              "19  5430.098060               T4U_measured\n",
              "20   137.459358                        T4U\n",
              "21  2806.595225               FTI_measured\n",
              "22   122.766462                        FTI\n",
              "23     7.815075               TBG_measured"
            ]
          },
          "metadata": {},
          "execution_count": 136
        }
      ]
    },
    {
      "cell_type": "code",
      "metadata": {
        "colab": {
          "base_uri": "https://localhost:8080/",
          "height": 576
        },
        "id": "fX3TyKbnu-oT",
        "outputId": "9dd906e5-e249-4ff7-cc93-b306b0a6178e"
      },
      "source": [
        "# Dropping all columns explaining the same variance\n",
        "# Removing measurements exhibiting high vif as they explain the same variance within the set\n",
        "X3_feat=X1_feat.drop(columns=['T4U_measured','T4U_measured','TT4_measured','TSH_measured','FTI_measured','TT4','T4U','FTI'],axis=1)\n",
        "X3_feat\n",
        "# Recheking the vif of the same set.\n",
        "X2=X3_feat.values\n",
        "X2\n",
        "vif = pd.DataFrame()\n",
        "vif[\"VIF Factor\"] = [variance_inflation_factor(X3_feat.values, i) for i in range(X3_feat.shape[1])]\n",
        "vif[\"features\"] = X3_feat.columns\n",
        "vif"
      ],
      "execution_count": 137,
      "outputs": [
        {
          "output_type": "execute_result",
          "data": {
            "text/html": [
              "<div>\n",
              "<style scoped>\n",
              "    .dataframe tbody tr th:only-of-type {\n",
              "        vertical-align: middle;\n",
              "    }\n",
              "\n",
              "    .dataframe tbody tr th {\n",
              "        vertical-align: top;\n",
              "    }\n",
              "\n",
              "    .dataframe thead th {\n",
              "        text-align: right;\n",
              "    }\n",
              "</style>\n",
              "<table border=\"1\" class=\"dataframe\">\n",
              "  <thead>\n",
              "    <tr style=\"text-align: right;\">\n",
              "      <th></th>\n",
              "      <th>VIF Factor</th>\n",
              "      <th>features</th>\n",
              "    </tr>\n",
              "  </thead>\n",
              "  <tbody>\n",
              "    <tr>\n",
              "      <th>0</th>\n",
              "      <td>6.463451</td>\n",
              "      <td>age</td>\n",
              "    </tr>\n",
              "    <tr>\n",
              "      <th>1</th>\n",
              "      <td>1.505004</td>\n",
              "      <td>sex</td>\n",
              "    </tr>\n",
              "    <tr>\n",
              "      <th>2</th>\n",
              "      <td>1.259348</td>\n",
              "      <td>on_thyroxine</td>\n",
              "    </tr>\n",
              "    <tr>\n",
              "      <th>3</th>\n",
              "      <td>1.040140</td>\n",
              "      <td>query_on_thyroxine</td>\n",
              "    </tr>\n",
              "    <tr>\n",
              "      <th>4</th>\n",
              "      <td>1.045157</td>\n",
              "      <td>on_antithyroid_medication</td>\n",
              "    </tr>\n",
              "    <tr>\n",
              "      <th>5</th>\n",
              "      <td>1.043426</td>\n",
              "      <td>thyroid_surgery</td>\n",
              "    </tr>\n",
              "    <tr>\n",
              "      <th>6</th>\n",
              "      <td>1.104334</td>\n",
              "      <td>query_hypothyroid</td>\n",
              "    </tr>\n",
              "    <tr>\n",
              "      <th>7</th>\n",
              "      <td>1.139754</td>\n",
              "      <td>query_hyperthyroid</td>\n",
              "    </tr>\n",
              "    <tr>\n",
              "      <th>8</th>\n",
              "      <td>1.059890</td>\n",
              "      <td>pregnant</td>\n",
              "    </tr>\n",
              "    <tr>\n",
              "      <th>9</th>\n",
              "      <td>1.062065</td>\n",
              "      <td>sick</td>\n",
              "    </tr>\n",
              "    <tr>\n",
              "      <th>10</th>\n",
              "      <td>1.023923</td>\n",
              "      <td>tumor</td>\n",
              "    </tr>\n",
              "    <tr>\n",
              "      <th>11</th>\n",
              "      <td>1.001188</td>\n",
              "      <td>lithium</td>\n",
              "    </tr>\n",
              "    <tr>\n",
              "      <th>12</th>\n",
              "      <td>1.081266</td>\n",
              "      <td>goitre</td>\n",
              "    </tr>\n",
              "    <tr>\n",
              "      <th>13</th>\n",
              "      <td>1.212643</td>\n",
              "      <td>TSH</td>\n",
              "    </tr>\n",
              "    <tr>\n",
              "      <th>14</th>\n",
              "      <td>5.974739</td>\n",
              "      <td>T3_measured</td>\n",
              "    </tr>\n",
              "    <tr>\n",
              "      <th>15</th>\n",
              "      <td>5.624957</td>\n",
              "      <td>T3</td>\n",
              "    </tr>\n",
              "    <tr>\n",
              "      <th>16</th>\n",
              "      <td>1.371194</td>\n",
              "      <td>TBG_measured</td>\n",
              "    </tr>\n",
              "  </tbody>\n",
              "</table>\n",
              "</div>"
            ],
            "text/plain": [
              "    VIF Factor                   features\n",
              "0     6.463451                        age\n",
              "1     1.505004                        sex\n",
              "2     1.259348               on_thyroxine\n",
              "3     1.040140         query_on_thyroxine\n",
              "4     1.045157  on_antithyroid_medication\n",
              "5     1.043426            thyroid_surgery\n",
              "6     1.104334          query_hypothyroid\n",
              "7     1.139754         query_hyperthyroid\n",
              "8     1.059890                   pregnant\n",
              "9     1.062065                       sick\n",
              "10    1.023923                      tumor\n",
              "11    1.001188                    lithium\n",
              "12    1.081266                     goitre\n",
              "13    1.212643                        TSH\n",
              "14    5.974739                T3_measured\n",
              "15    5.624957                         T3\n",
              "16    1.371194               TBG_measured"
            ]
          },
          "metadata": {},
          "execution_count": 137
        }
      ]
    },
    {
      "cell_type": "code",
      "metadata": {
        "colab": {
          "base_uri": "https://localhost:8080/"
        },
        "id": "PvaoBXrswIuO",
        "outputId": "35e323a1-f1c2-4212-f081-942193657ae1"
      },
      "source": [
        "print(X2.shape)\n",
        "print(Y1.shape)"
      ],
      "execution_count": 139,
      "outputs": [
        {
          "output_type": "stream",
          "name": "stdout",
          "text": [
            "(2819, 17)\n",
            "(2819,)\n"
          ]
        }
      ]
    },
    {
      "cell_type": "code",
      "metadata": {
        "colab": {
          "base_uri": "https://localhost:8080/"
        },
        "id": "L9-vy12hvru5",
        "outputId": "ce847d6f-82ab-443f-d58e-97e5231bb686"
      },
      "source": [
        "# Spliting the data to train and testing\n",
        "X_train,X_test,Y_train,Y_test=train_test_split(X2,Y1, test_size=0.2,random_state=1)\n",
        "# Instantiating the model\n",
        "model=SVC(kernel='linear')\n",
        "#Fitting our model\n",
        "model=model.fit(X_train,Y_train)\n",
        "# Predicting using the support vectors\n",
        "Y_svm_pred=model.predict(X_test)\n",
        "# Acessing the accuracy of the model\n",
        "# Measuring the accuracy of our model\n",
        "ac_svm=accuracy_score(Y_test,Y_svm_pred)\n",
        "cm_svm=confusion_matrix(Y_test,Y_svm_pred)\n",
        "cr_svm=classification_report(Y_test,Y_svm_pred)\n",
        "# Printing the accuracy score and classification report\n",
        "print(ac_svm)\n",
        "print(cm_svm)\n",
        "print(cr_svm)"
      ],
      "execution_count": 144,
      "outputs": [
        {
          "output_type": "stream",
          "name": "stdout",
          "text": [
            "0.9822695035460993\n",
            "[[ 10   9]\n",
            " [  1 544]]\n",
            "              precision    recall  f1-score   support\n",
            "\n",
            "           0       0.91      0.53      0.67        19\n",
            "           1       0.98      1.00      0.99       545\n",
            "\n",
            "    accuracy                           0.98       564\n",
            "   macro avg       0.95      0.76      0.83       564\n",
            "weighted avg       0.98      0.98      0.98       564\n",
            "\n"
          ]
        }
      ]
    },
    {
      "cell_type": "code",
      "metadata": {
        "colab": {
          "base_uri": "https://localhost:8080/"
        },
        "id": "rCdGrhlmyIrs",
        "outputId": "566da5cb-b7af-4209-9733-193ff7d6c436"
      },
      "source": [
        "# Instantiating the model\n",
        "poly=SVC(kernel='poly',degree=3)\n",
        "#Fitting our model\n",
        "poly=poly.fit(X_train,Y_train)\n",
        "# Predicting using the support vectors\n",
        "Y_poly_pred=poly.predict(X_test)\n",
        "# Acessing the accuracy of the model\n",
        "# Measuring the accuracy of our model\n",
        "ac_svm_poly=accuracy_score(Y_test,Y_poly_pred)\n",
        "cm_svm_poly=confusion_matrix(Y_test,Y_poly_pred)\n",
        "cr_svm_poly=classification_report(Y_test,Y_poly_pred)\n",
        "# Printing the accuracy score and classification report\n",
        "print(ac_svm_poly)\n",
        "print(cm_svm_poly)\n",
        "print(cr_svm_poly)"
      ],
      "execution_count": 146,
      "outputs": [
        {
          "output_type": "stream",
          "name": "stdout",
          "text": [
            "0.9769503546099291\n",
            "[[  7  12]\n",
            " [  1 544]]\n",
            "              precision    recall  f1-score   support\n",
            "\n",
            "           0       0.88      0.37      0.52        19\n",
            "           1       0.98      1.00      0.99       545\n",
            "\n",
            "    accuracy                           0.98       564\n",
            "   macro avg       0.93      0.68      0.75       564\n",
            "weighted avg       0.97      0.98      0.97       564\n",
            "\n"
          ]
        }
      ]
    },
    {
      "cell_type": "code",
      "metadata": {
        "colab": {
          "base_uri": "https://localhost:8080/"
        },
        "id": "D_qIc-gsy_sJ",
        "outputId": "a3e011d1-c0a6-46bc-a43f-3acd0a29cf79"
      },
      "source": [
        "# Instantiating the model\n",
        "rbf=SVC(kernel='rbf')\n",
        "#Fitting our model\n",
        "rbf=rbf.fit(X_train,Y_train)\n",
        "# Predicting using the support vectors\n",
        "Y_rbf_pred=rbf.predict(X_test)\n",
        "# Acessing the accuracy of the model\n",
        "# Measuring the accuracy of our model\n",
        "ac_svm_rbf=accuracy_score(Y_test,Y_rbf_pred)\n",
        "cm_svm_rbf=confusion_matrix(Y_test,Y_rbf_pred)\n",
        "cr_svm_rbf=classification_report(Y_test,Y_rbf_pred)\n",
        "# Printing the accuracy score and classification report\n",
        "print(ac_svm_rbf)\n",
        "print(cm_svm_rbf)\n",
        "print(cr_svm_rbf)"
      ],
      "execution_count": 148,
      "outputs": [
        {
          "output_type": "stream",
          "name": "stdout",
          "text": [
            "0.9769503546099291\n",
            "[[  7  12]\n",
            " [  1 544]]\n",
            "              precision    recall  f1-score   support\n",
            "\n",
            "           0       0.88      0.37      0.52        19\n",
            "           1       0.98      1.00      0.99       545\n",
            "\n",
            "    accuracy                           0.98       564\n",
            "   macro avg       0.93      0.68      0.75       564\n",
            "weighted avg       0.97      0.98      0.97       564\n",
            "\n"
          ]
        }
      ]
    },
    {
      "cell_type": "markdown",
      "metadata": {
        "id": "s2wwcZqvzlFe"
      },
      "source": [
        "Tuning the best performing model"
      ]
    },
    {
      "cell_type": "markdown",
      "metadata": {
        "id": "XsZm_WWK0zcZ"
      },
      "source": [
        "## 10. Follow up questions"
      ]
    },
    {
      "cell_type": "markdown",
      "metadata": {
        "id": "fiZjH3XC0-MQ"
      },
      "source": [
        "### a.) Did we have the right data?"
      ]
    },
    {
      "cell_type": "markdown",
      "metadata": {
        "id": "CauG1UDR1CB5"
      },
      "source": [
        "### b.) Did we need another set of data to answer our question?"
      ]
    },
    {
      "cell_type": "markdown",
      "metadata": {
        "id": "AssPd_iQ1NwH"
      },
      "source": [
        "### c.) Did we have the right question?"
      ]
    },
    {
      "cell_type": "markdown",
      "metadata": {
        "id": "w_VGHbvs1Tvw"
      },
      "source": [
        "## d.) What needs to be re-evaluated"
      ]
    }
  ]
}