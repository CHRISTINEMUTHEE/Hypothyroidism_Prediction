{
  "nbformat": 4,
  "nbformat_minor": 0,
  "metadata": {
    "colab": {
      "name": "Moringa_Data_Science_Core _Module_2_Independent_Project_2021_10_Christine_Muthee.ipynb",
      "provenance": [],
      "collapsed_sections": [],
      "toc_visible": true,
      "authorship_tag": "ABX9TyMxputxbjDRvv1ISDdzlv81",
      "include_colab_link": true
    },
    "kernelspec": {
      "name": "python3",
      "display_name": "Python 3"
    },
    "language_info": {
      "name": "python"
    }
  },
  "cells": [
    {
      "cell_type": "markdown",
      "metadata": {
        "id": "view-in-github",
        "colab_type": "text"
      },
      "source": [
        "<a href=\"https://colab.research.google.com/github/CHRISTINEMUTHEE/Hypothyroidism_Prediction/blob/main/Moringa_Data_Science_Core__Module_2_Independent_Project_2021_10_Christine_Muthee.ipynb\" target=\"_parent\"><img src=\"https://colab.research.google.com/assets/colab-badge.svg\" alt=\"Open In Colab\"/></a>"
      ]
    },
    {
      "cell_type": "markdown",
      "metadata": {
        "id": "NX1pjDIQw1hL"
      },
      "source": [
        "# Supervised Learning:Nairobi Hospital Hypothyroidism prediction"
      ]
    },
    {
      "cell_type": "markdown",
      "metadata": {
        "id": "zObfRbHcw-nh"
      },
      "source": [
        "## 1. Defining the question"
      ]
    },
    {
      "cell_type": "markdown",
      "metadata": {
        "id": "NNFgI4BvxIr3"
      },
      "source": [
        "### The objective is to determine and analyse while predicting whether or not a patient's symptoms indicate that the patient has hypothyroidism"
      ]
    },
    {
      "cell_type": "markdown",
      "metadata": {
        "id": "ls2WQplVxBai"
      },
      "source": [
        "### a.) Specifying the question"
      ]
    },
    {
      "cell_type": "markdown",
      "metadata": {
        "id": "o4GzalBCxJVa"
      },
      "source": [
        "### * What are the symptoms associated with hypothyroidism?\n",
        "### * What is the main predictor of hypothyroidism\n",
        "### * Does a patient haver hypothyroidism or not based on their symptoms?"
      ]
    },
    {
      "cell_type": "markdown",
      "metadata": {
        "id": "QDPZFkbWxMFp"
      },
      "source": [
        "### b.) Defining the metric of success"
      ]
    },
    {
      "cell_type": "markdown",
      "metadata": {
        "id": "fM1wStDWxSQY"
      },
      "source": [
        "#### * What will determine my success is understanding the symptoms associated with hypothyroidism while establishing the cardinal symptoms to determining whether the patient has hypothyroidism or not.\n",
        "#### * This will be achieved by building a machine learning model that predicts the hypothyroidism status upon entry/specification of symptoms."
      ]
    },
    {
      "cell_type": "markdown",
      "metadata": {
        "id": "Let1XKdQxU7w"
      },
      "source": [
        "### c.) Recording experimental design"
      ]
    },
    {
      "cell_type": "markdown",
      "metadata": {
        "id": "9_qUADcYSN5n"
      },
      "source": [
        "#### * This will be achieved by observing the attributes in my data while assesing their relationships.\n",
        "#### * Observing any omission and duplication while getting rid of unnecessary details.\n",
        "#### * Building a model that best predicts whether suffers hypothyroidism or not.\n",
        "#### * Optimizing the model to guage its performance while ensuring it provides optimum results"
      ]
    },
    {
      "cell_type": "markdown",
      "metadata": {
        "id": "gV5mKIwFxaan"
      },
      "source": [
        "### d.) Data relevance"
      ]
    },
    {
      "cell_type": "markdown",
      "metadata": {
        "id": "BLoI1yppxgZ0"
      },
      "source": [
        "#### * The data contains the conditions of the patients including their individual attributes eg Gender,age,whether they are on medication,their lithium levels etc.\n",
        "#### * The data also has the status of the patients : Whehther they suffer hypothyroidsm or not.\n",
        "#### * The data is relevant for this analysis."
      ]
    },
    {
      "cell_type": "markdown",
      "metadata": {
        "id": "0WtBl7zwxmE-"
      },
      "source": [
        "## 2. Reading the data"
      ]
    },
    {
      "cell_type": "markdown",
      "metadata": {
        "id": "udkaQ7JlxohK"
      },
      "source": [
        "#### Importing all the necessary libraries"
      ]
    },
    {
      "cell_type": "code",
      "metadata": {
        "colab": {
          "base_uri": "https://localhost:8080/"
        },
        "id": "6JB5nYXMTnKB",
        "outputId": "77e7a173-330e-4d41-fcd2-e4b0f9fd0707"
      },
      "source": [
        "# Import the libraries\n",
        "import pandas as pd\n",
        "import numpy as np\n",
        "import matplotlib.pyplot as plt\n",
        "import seaborn as sns\n",
        "# Tree libraries\n",
        "from sklearn.tree import DecisionTreeClassifier\n",
        "from sklearn.ensemble import AdaBoostClassifier,GradientBoostingClassifier\n",
        "from sklearn.ensemble import RandomForestClassifier\n",
        "from sklearn.tree import export_graphviz\n",
        "# Other ML Libraries\n",
        "from sklearn.model_selection import train_test_split\n",
        "from sklearn.model_selection import GridSearchCV\n",
        "from sklearn.metrics import accuracy_score,confusion_matrix,classification_report\n",
        "from sklearn.preprocessing import LabelEncoder\n",
        "from sklearn.preprocessing import StandardScaler\n",
        "from statsmodels.stats.outliers_influence import variance_inflation_factor\n",
        "from sklearn.svm import SVC\n",
        "# Function to diable warnings\n",
        "import warnings\n",
        "warnings.filterwarnings(\"ignore\")"
      ],
      "execution_count": 1,
      "outputs": [
        {
          "output_type": "stream",
          "name": "stderr",
          "text": [
            "/usr/local/lib/python3.7/dist-packages/statsmodels/tools/_testing.py:19: FutureWarning: pandas.util.testing is deprecated. Use the functions in the public API at pandas.testing instead.\n",
            "  import pandas.util.testing as tm\n"
          ]
        }
      ]
    },
    {
      "cell_type": "code",
      "metadata": {
        "id": "qKmCLkxzP62y"
      },
      "source": [
        "# A function to read the dataset\n",
        "# url=http://bit.ly/hypothyroid_data\n",
        "def Dataframe(data):\n",
        "  df=pd.read_csv(data)\n",
        "  return df\n"
      ],
      "execution_count": 2,
      "outputs": []
    },
    {
      "cell_type": "code",
      "metadata": {
        "id": "BlauXg1hxyGw"
      },
      "source": [
        "# Reading the data\n",
        "df=Dataframe('http://bit.ly/hypothyroid_data')"
      ],
      "execution_count": 3,
      "outputs": []
    },
    {
      "cell_type": "markdown",
      "metadata": {
        "id": "xtkfjKNixutC"
      },
      "source": [
        "## 3. Checking the data"
      ]
    },
    {
      "cell_type": "code",
      "metadata": {
        "colab": {
          "base_uri": "https://localhost:8080/",
          "height": 224
        },
        "id": "LkIe2IVweVuW",
        "outputId": "32a78185-1299-41dd-de1d-f726dcf48adf"
      },
      "source": [
        "# Checking the head of the data\n",
        "df.head()"
      ],
      "execution_count": 4,
      "outputs": [
        {
          "output_type": "execute_result",
          "data": {
            "text/html": [
              "<div>\n",
              "<style scoped>\n",
              "    .dataframe tbody tr th:only-of-type {\n",
              "        vertical-align: middle;\n",
              "    }\n",
              "\n",
              "    .dataframe tbody tr th {\n",
              "        vertical-align: top;\n",
              "    }\n",
              "\n",
              "    .dataframe thead th {\n",
              "        text-align: right;\n",
              "    }\n",
              "</style>\n",
              "<table border=\"1\" class=\"dataframe\">\n",
              "  <thead>\n",
              "    <tr style=\"text-align: right;\">\n",
              "      <th></th>\n",
              "      <th>status</th>\n",
              "      <th>age</th>\n",
              "      <th>sex</th>\n",
              "      <th>on_thyroxine</th>\n",
              "      <th>query_on_thyroxine</th>\n",
              "      <th>on_antithyroid_medication</th>\n",
              "      <th>thyroid_surgery</th>\n",
              "      <th>query_hypothyroid</th>\n",
              "      <th>query_hyperthyroid</th>\n",
              "      <th>pregnant</th>\n",
              "      <th>sick</th>\n",
              "      <th>tumor</th>\n",
              "      <th>lithium</th>\n",
              "      <th>goitre</th>\n",
              "      <th>TSH_measured</th>\n",
              "      <th>TSH</th>\n",
              "      <th>T3_measured</th>\n",
              "      <th>T3</th>\n",
              "      <th>TT4_measured</th>\n",
              "      <th>TT4</th>\n",
              "      <th>T4U_measured</th>\n",
              "      <th>T4U</th>\n",
              "      <th>FTI_measured</th>\n",
              "      <th>FTI</th>\n",
              "      <th>TBG_measured</th>\n",
              "      <th>TBG</th>\n",
              "    </tr>\n",
              "  </thead>\n",
              "  <tbody>\n",
              "    <tr>\n",
              "      <th>0</th>\n",
              "      <td>hypothyroid</td>\n",
              "      <td>72</td>\n",
              "      <td>M</td>\n",
              "      <td>f</td>\n",
              "      <td>f</td>\n",
              "      <td>f</td>\n",
              "      <td>f</td>\n",
              "      <td>f</td>\n",
              "      <td>f</td>\n",
              "      <td>f</td>\n",
              "      <td>f</td>\n",
              "      <td>f</td>\n",
              "      <td>f</td>\n",
              "      <td>f</td>\n",
              "      <td>y</td>\n",
              "      <td>30</td>\n",
              "      <td>y</td>\n",
              "      <td>0.60</td>\n",
              "      <td>y</td>\n",
              "      <td>15</td>\n",
              "      <td>y</td>\n",
              "      <td>1.48</td>\n",
              "      <td>y</td>\n",
              "      <td>10</td>\n",
              "      <td>n</td>\n",
              "      <td>?</td>\n",
              "    </tr>\n",
              "    <tr>\n",
              "      <th>1</th>\n",
              "      <td>hypothyroid</td>\n",
              "      <td>15</td>\n",
              "      <td>F</td>\n",
              "      <td>t</td>\n",
              "      <td>f</td>\n",
              "      <td>f</td>\n",
              "      <td>f</td>\n",
              "      <td>f</td>\n",
              "      <td>f</td>\n",
              "      <td>f</td>\n",
              "      <td>f</td>\n",
              "      <td>f</td>\n",
              "      <td>f</td>\n",
              "      <td>f</td>\n",
              "      <td>y</td>\n",
              "      <td>145</td>\n",
              "      <td>y</td>\n",
              "      <td>1.70</td>\n",
              "      <td>y</td>\n",
              "      <td>19</td>\n",
              "      <td>y</td>\n",
              "      <td>1.13</td>\n",
              "      <td>y</td>\n",
              "      <td>17</td>\n",
              "      <td>n</td>\n",
              "      <td>?</td>\n",
              "    </tr>\n",
              "    <tr>\n",
              "      <th>2</th>\n",
              "      <td>hypothyroid</td>\n",
              "      <td>24</td>\n",
              "      <td>M</td>\n",
              "      <td>f</td>\n",
              "      <td>f</td>\n",
              "      <td>f</td>\n",
              "      <td>f</td>\n",
              "      <td>f</td>\n",
              "      <td>f</td>\n",
              "      <td>f</td>\n",
              "      <td>f</td>\n",
              "      <td>f</td>\n",
              "      <td>f</td>\n",
              "      <td>f</td>\n",
              "      <td>y</td>\n",
              "      <td>0</td>\n",
              "      <td>y</td>\n",
              "      <td>0.20</td>\n",
              "      <td>y</td>\n",
              "      <td>4</td>\n",
              "      <td>y</td>\n",
              "      <td>1</td>\n",
              "      <td>y</td>\n",
              "      <td>0</td>\n",
              "      <td>n</td>\n",
              "      <td>?</td>\n",
              "    </tr>\n",
              "    <tr>\n",
              "      <th>3</th>\n",
              "      <td>hypothyroid</td>\n",
              "      <td>24</td>\n",
              "      <td>F</td>\n",
              "      <td>f</td>\n",
              "      <td>f</td>\n",
              "      <td>f</td>\n",
              "      <td>f</td>\n",
              "      <td>f</td>\n",
              "      <td>f</td>\n",
              "      <td>f</td>\n",
              "      <td>f</td>\n",
              "      <td>f</td>\n",
              "      <td>f</td>\n",
              "      <td>f</td>\n",
              "      <td>y</td>\n",
              "      <td>430</td>\n",
              "      <td>y</td>\n",
              "      <td>0.40</td>\n",
              "      <td>y</td>\n",
              "      <td>6</td>\n",
              "      <td>y</td>\n",
              "      <td>1.04</td>\n",
              "      <td>y</td>\n",
              "      <td>6</td>\n",
              "      <td>n</td>\n",
              "      <td>?</td>\n",
              "    </tr>\n",
              "    <tr>\n",
              "      <th>4</th>\n",
              "      <td>hypothyroid</td>\n",
              "      <td>77</td>\n",
              "      <td>M</td>\n",
              "      <td>f</td>\n",
              "      <td>f</td>\n",
              "      <td>f</td>\n",
              "      <td>f</td>\n",
              "      <td>f</td>\n",
              "      <td>f</td>\n",
              "      <td>f</td>\n",
              "      <td>f</td>\n",
              "      <td>f</td>\n",
              "      <td>f</td>\n",
              "      <td>f</td>\n",
              "      <td>y</td>\n",
              "      <td>7.30</td>\n",
              "      <td>y</td>\n",
              "      <td>1.20</td>\n",
              "      <td>y</td>\n",
              "      <td>57</td>\n",
              "      <td>y</td>\n",
              "      <td>1.28</td>\n",
              "      <td>y</td>\n",
              "      <td>44</td>\n",
              "      <td>n</td>\n",
              "      <td>?</td>\n",
              "    </tr>\n",
              "  </tbody>\n",
              "</table>\n",
              "</div>"
            ],
            "text/plain": [
              "        status age sex on_thyroxine  ... FTI_measured FTI TBG_measured TBG\n",
              "0  hypothyroid  72   M            f  ...            y  10            n   ?\n",
              "1  hypothyroid  15   F            t  ...            y  17            n   ?\n",
              "2  hypothyroid  24   M            f  ...            y   0            n   ?\n",
              "3  hypothyroid  24   F            f  ...            y   6            n   ?\n",
              "4  hypothyroid  77   M            f  ...            y  44            n   ?\n",
              "\n",
              "[5 rows x 26 columns]"
            ]
          },
          "metadata": {},
          "execution_count": 4
        }
      ]
    },
    {
      "cell_type": "code",
      "metadata": {
        "colab": {
          "base_uri": "https://localhost:8080/",
          "height": 224
        },
        "id": "PNDEix62egl_",
        "outputId": "4b886fd9-e9ab-4235-d5ad-b8ce362626a4"
      },
      "source": [
        "# Checking the extreemities of the data\n",
        "df.tail()"
      ],
      "execution_count": 5,
      "outputs": [
        {
          "output_type": "execute_result",
          "data": {
            "text/html": [
              "<div>\n",
              "<style scoped>\n",
              "    .dataframe tbody tr th:only-of-type {\n",
              "        vertical-align: middle;\n",
              "    }\n",
              "\n",
              "    .dataframe tbody tr th {\n",
              "        vertical-align: top;\n",
              "    }\n",
              "\n",
              "    .dataframe thead th {\n",
              "        text-align: right;\n",
              "    }\n",
              "</style>\n",
              "<table border=\"1\" class=\"dataframe\">\n",
              "  <thead>\n",
              "    <tr style=\"text-align: right;\">\n",
              "      <th></th>\n",
              "      <th>status</th>\n",
              "      <th>age</th>\n",
              "      <th>sex</th>\n",
              "      <th>on_thyroxine</th>\n",
              "      <th>query_on_thyroxine</th>\n",
              "      <th>on_antithyroid_medication</th>\n",
              "      <th>thyroid_surgery</th>\n",
              "      <th>query_hypothyroid</th>\n",
              "      <th>query_hyperthyroid</th>\n",
              "      <th>pregnant</th>\n",
              "      <th>sick</th>\n",
              "      <th>tumor</th>\n",
              "      <th>lithium</th>\n",
              "      <th>goitre</th>\n",
              "      <th>TSH_measured</th>\n",
              "      <th>TSH</th>\n",
              "      <th>T3_measured</th>\n",
              "      <th>T3</th>\n",
              "      <th>TT4_measured</th>\n",
              "      <th>TT4</th>\n",
              "      <th>T4U_measured</th>\n",
              "      <th>T4U</th>\n",
              "      <th>FTI_measured</th>\n",
              "      <th>FTI</th>\n",
              "      <th>TBG_measured</th>\n",
              "      <th>TBG</th>\n",
              "    </tr>\n",
              "  </thead>\n",
              "  <tbody>\n",
              "    <tr>\n",
              "      <th>3158</th>\n",
              "      <td>negative</td>\n",
              "      <td>58</td>\n",
              "      <td>F</td>\n",
              "      <td>f</td>\n",
              "      <td>f</td>\n",
              "      <td>f</td>\n",
              "      <td>f</td>\n",
              "      <td>f</td>\n",
              "      <td>f</td>\n",
              "      <td>f</td>\n",
              "      <td>f</td>\n",
              "      <td>f</td>\n",
              "      <td>f</td>\n",
              "      <td>f</td>\n",
              "      <td>y</td>\n",
              "      <td>5.80</td>\n",
              "      <td>y</td>\n",
              "      <td>1.70</td>\n",
              "      <td>y</td>\n",
              "      <td>86</td>\n",
              "      <td>y</td>\n",
              "      <td>0.91</td>\n",
              "      <td>y</td>\n",
              "      <td>95</td>\n",
              "      <td>n</td>\n",
              "      <td>?</td>\n",
              "    </tr>\n",
              "    <tr>\n",
              "      <th>3159</th>\n",
              "      <td>negative</td>\n",
              "      <td>29</td>\n",
              "      <td>F</td>\n",
              "      <td>f</td>\n",
              "      <td>f</td>\n",
              "      <td>f</td>\n",
              "      <td>f</td>\n",
              "      <td>f</td>\n",
              "      <td>f</td>\n",
              "      <td>f</td>\n",
              "      <td>f</td>\n",
              "      <td>f</td>\n",
              "      <td>f</td>\n",
              "      <td>f</td>\n",
              "      <td>y</td>\n",
              "      <td>0.80</td>\n",
              "      <td>y</td>\n",
              "      <td>1.80</td>\n",
              "      <td>y</td>\n",
              "      <td>99</td>\n",
              "      <td>y</td>\n",
              "      <td>1.01</td>\n",
              "      <td>y</td>\n",
              "      <td>98</td>\n",
              "      <td>n</td>\n",
              "      <td>?</td>\n",
              "    </tr>\n",
              "    <tr>\n",
              "      <th>3160</th>\n",
              "      <td>negative</td>\n",
              "      <td>77</td>\n",
              "      <td>M</td>\n",
              "      <td>f</td>\n",
              "      <td>f</td>\n",
              "      <td>f</td>\n",
              "      <td>f</td>\n",
              "      <td>f</td>\n",
              "      <td>f</td>\n",
              "      <td>f</td>\n",
              "      <td>f</td>\n",
              "      <td>f</td>\n",
              "      <td>f</td>\n",
              "      <td>f</td>\n",
              "      <td>y</td>\n",
              "      <td>1.20</td>\n",
              "      <td>y</td>\n",
              "      <td>0.60</td>\n",
              "      <td>y</td>\n",
              "      <td>71</td>\n",
              "      <td>y</td>\n",
              "      <td>0.68</td>\n",
              "      <td>y</td>\n",
              "      <td>104</td>\n",
              "      <td>n</td>\n",
              "      <td>?</td>\n",
              "    </tr>\n",
              "    <tr>\n",
              "      <th>3161</th>\n",
              "      <td>negative</td>\n",
              "      <td>74</td>\n",
              "      <td>F</td>\n",
              "      <td>f</td>\n",
              "      <td>f</td>\n",
              "      <td>f</td>\n",
              "      <td>f</td>\n",
              "      <td>f</td>\n",
              "      <td>f</td>\n",
              "      <td>f</td>\n",
              "      <td>f</td>\n",
              "      <td>f</td>\n",
              "      <td>f</td>\n",
              "      <td>f</td>\n",
              "      <td>y</td>\n",
              "      <td>1.30</td>\n",
              "      <td>y</td>\n",
              "      <td>0.10</td>\n",
              "      <td>y</td>\n",
              "      <td>65</td>\n",
              "      <td>y</td>\n",
              "      <td>0.48</td>\n",
              "      <td>y</td>\n",
              "      <td>137</td>\n",
              "      <td>n</td>\n",
              "      <td>?</td>\n",
              "    </tr>\n",
              "    <tr>\n",
              "      <th>3162</th>\n",
              "      <td>negative</td>\n",
              "      <td>56</td>\n",
              "      <td>F</td>\n",
              "      <td>t</td>\n",
              "      <td>f</td>\n",
              "      <td>f</td>\n",
              "      <td>f</td>\n",
              "      <td>f</td>\n",
              "      <td>f</td>\n",
              "      <td>f</td>\n",
              "      <td>f</td>\n",
              "      <td>f</td>\n",
              "      <td>f</td>\n",
              "      <td>f</td>\n",
              "      <td>y</td>\n",
              "      <td>0</td>\n",
              "      <td>y</td>\n",
              "      <td>1.80</td>\n",
              "      <td>y</td>\n",
              "      <td>139</td>\n",
              "      <td>y</td>\n",
              "      <td>0.97</td>\n",
              "      <td>y</td>\n",
              "      <td>143</td>\n",
              "      <td>n</td>\n",
              "      <td>?</td>\n",
              "    </tr>\n",
              "  </tbody>\n",
              "</table>\n",
              "</div>"
            ],
            "text/plain": [
              "        status age sex on_thyroxine  ... FTI_measured  FTI TBG_measured TBG\n",
              "3158  negative  58   F            f  ...            y   95            n   ?\n",
              "3159  negative  29   F            f  ...            y   98            n   ?\n",
              "3160  negative  77   M            f  ...            y  104            n   ?\n",
              "3161  negative  74   F            f  ...            y  137            n   ?\n",
              "3162  negative  56   F            t  ...            y  143            n   ?\n",
              "\n",
              "[5 rows x 26 columns]"
            ]
          },
          "metadata": {},
          "execution_count": 5
        }
      ]
    },
    {
      "cell_type": "code",
      "metadata": {
        "colab": {
          "base_uri": "https://localhost:8080/"
        },
        "id": "9eFd7jFGet7U",
        "outputId": "c9b0e2a2-7ede-491d-e209-2fcd403e553f"
      },
      "source": [
        "# Checking the structure of my dataset\n",
        "print('My dataset has ',df.shape[0],'rows and ',df.shape[1],' Columns')"
      ],
      "execution_count": 6,
      "outputs": [
        {
          "output_type": "stream",
          "name": "stdout",
          "text": [
            "My dataset has  3163 rows and  26  Columns\n"
          ]
        }
      ]
    },
    {
      "cell_type": "code",
      "metadata": {
        "colab": {
          "base_uri": "https://localhost:8080/"
        },
        "id": "Vib52jgYyIpZ",
        "outputId": "446c47ce-401d-4367-b05e-dc1eacba98e9"
      },
      "source": [
        "# Checking my datatypes to assess the mode of analysis\n",
        "df.dtypes\n",
        "# All my datapoints are objects"
      ],
      "execution_count": 7,
      "outputs": [
        {
          "output_type": "execute_result",
          "data": {
            "text/plain": [
              "status                       object\n",
              "age                          object\n",
              "sex                          object\n",
              "on_thyroxine                 object\n",
              "query_on_thyroxine           object\n",
              "on_antithyroid_medication    object\n",
              "thyroid_surgery              object\n",
              "query_hypothyroid            object\n",
              "query_hyperthyroid           object\n",
              "pregnant                     object\n",
              "sick                         object\n",
              "tumor                        object\n",
              "lithium                      object\n",
              "goitre                       object\n",
              "TSH_measured                 object\n",
              "TSH                          object\n",
              "T3_measured                  object\n",
              "T3                           object\n",
              "TT4_measured                 object\n",
              "TT4                          object\n",
              "T4U_measured                 object\n",
              "T4U                          object\n",
              "FTI_measured                 object\n",
              "FTI                          object\n",
              "TBG_measured                 object\n",
              "TBG                          object\n",
              "dtype: object"
            ]
          },
          "metadata": {},
          "execution_count": 7
        }
      ]
    },
    {
      "cell_type": "markdown",
      "metadata": {
        "id": "a_bi6wQlyQF6"
      },
      "source": [
        "## 4. External Dataset Validation"
      ]
    },
    {
      "cell_type": "markdown",
      "metadata": {
        "id": "3fnGjgfIyV7j"
      },
      "source": [
        "####  Validation: The components in the data indeed are associated with hyper and hypothyroidsm. This the dataset is valid for analysis. All the definitions can be found on the this link:https://glowm.com/resources/glowm/cd/pages/resources/Lab/Thyroid_Function_Tests.htm"
      ]
    },
    {
      "cell_type": "markdown",
      "metadata": {
        "id": "dFV50GcbyX9a"
      },
      "source": [
        "## 5. Cleaning the dataset"
      ]
    },
    {
      "cell_type": "markdown",
      "metadata": {
        "id": "xWif1OcFzWV5"
      },
      "source": [
        "Column review"
      ]
    },
    {
      "cell_type": "code",
      "metadata": {
        "colab": {
          "base_uri": "https://localhost:8080/"
        },
        "id": "zaUwalOCgn6G",
        "outputId": "f435cda7-02e3-4d16-cc35-3946b362aa78"
      },
      "source": [
        "# Converting the numerical datypes to integers and floats\n",
        "df[['age','TSH','T3','TT4','T4U','FTI','TBG']]=df[['age','TSH','T3','TT4','T4U','FTI','TBG']].apply(pd.to_numeric,errors='coerce')\n",
        "df.dtypes\n"
      ],
      "execution_count": 8,
      "outputs": [
        {
          "output_type": "execute_result",
          "data": {
            "text/plain": [
              "status                        object\n",
              "age                          float64\n",
              "sex                           object\n",
              "on_thyroxine                  object\n",
              "query_on_thyroxine            object\n",
              "on_antithyroid_medication     object\n",
              "thyroid_surgery               object\n",
              "query_hypothyroid             object\n",
              "query_hyperthyroid            object\n",
              "pregnant                      object\n",
              "sick                          object\n",
              "tumor                         object\n",
              "lithium                       object\n",
              "goitre                        object\n",
              "TSH_measured                  object\n",
              "TSH                          float64\n",
              "T3_measured                   object\n",
              "T3                           float64\n",
              "TT4_measured                  object\n",
              "TT4                          float64\n",
              "T4U_measured                  object\n",
              "T4U                          float64\n",
              "FTI_measured                  object\n",
              "FTI                          float64\n",
              "TBG_measured                  object\n",
              "TBG                          float64\n",
              "dtype: object"
            ]
          },
          "metadata": {},
          "execution_count": 8
        }
      ]
    },
    {
      "cell_type": "markdown",
      "metadata": {
        "id": "eCPxIhNszavj"
      },
      "source": [
        "Missing values"
      ]
    },
    {
      "cell_type": "code",
      "metadata": {
        "colab": {
          "base_uri": "https://localhost:8080/",
          "height": 404
        },
        "id": "p4cyVRT2m1XR",
        "outputId": "540cd9a5-10a2-40ff-86da-65f1df235606"
      },
      "source": [
        "#Checking for missing values\n",
        "plt.figure(figsize=(12,4))\n",
        "sns.heatmap(df.isnull(),cbar=False,cmap='cividis',yticklabels=False)\n",
        "plt.title('Missing values in the dataset');\n",
        "# There are missing values in the Age,TSH,T3,TT4,T4U,FF1,and the most missing values are found in the TBG column"
      ],
      "execution_count": 9,
      "outputs": [
        {
          "output_type": "display_data",
          "data": {
            "image/png": "[encoded data removed]",
            "text/plain": [
              "<Figure size 864x288 with 1 Axes>"
            ]
          },
          "metadata": {
            "needs_background": "light"
          }
        }
      ]
    },
    {
      "cell_type": "code",
      "metadata": {
        "colab": {
          "base_uri": "https://localhost:8080/"
        },
        "id": "-cyoFkaf6oKf",
        "outputId": "b8f20abd-54ab-47f4-f844-acb11ce9f8f5"
      },
      "source": [
        "#Checking the percentage of null values\n",
        "def missing_percentage(data):\n",
        "    p_miss=((data.isnull().sum() / len(data))*100)\n",
        "    missing_value_df=pd.DataFrame({'percent_missing': p_miss},index=data.columns)\n",
        "    return missing_value_df\n",
        "print(missing_percentage(df))\n",
        "print(df.shape)"
      ],
      "execution_count": 10,
      "outputs": [
        {
          "output_type": "stream",
          "name": "stdout",
          "text": [
            "                           percent_missing\n",
            "status                            0.000000\n",
            "age                              14.100537\n",
            "sex                               0.000000\n",
            "on_thyroxine                      0.000000\n",
            "query_on_thyroxine                0.000000\n",
            "on_antithyroid_medication         0.000000\n",
            "thyroid_surgery                   0.000000\n",
            "query_hypothyroid                 0.000000\n",
            "query_hyperthyroid                0.000000\n",
            "pregnant                          0.000000\n",
            "sick                              0.000000\n",
            "tumor                             0.000000\n",
            "lithium                           0.000000\n",
            "goitre                            0.000000\n",
            "TSH_measured                      0.000000\n",
            "TSH                              14.796080\n",
            "T3_measured                       0.000000\n",
            "T3                               21.972811\n",
            "TT4_measured                      0.000000\n",
            "TT4                               7.872273\n",
            "T4U_measured                      0.000000\n",
            "T4U                               7.840658\n",
            "FTI_measured                      0.000000\n",
            "FTI                               7.809042\n",
            "TBG_measured                      0.000000\n",
            "TBG                              91.779956\n",
            "(3163, 26)\n"
          ]
        }
      ]
    },
    {
      "cell_type": "code",
      "metadata": {
        "colab": {
          "base_uri": "https://localhost:8080/"
        },
        "id": "5bJkTxC_zqJr",
        "outputId": "8ca8c988-8203-4d89-9488-eb8fe9db1985"
      },
      "source": [
        "# Dealing with missing values\n",
        "def max_min(data,column):\n",
        "  df1=data[column].max()\n",
        "  df2=data[column].min()\n",
        "  # df3=data[column].mode()\n",
        "  df3=data[column].mean()\n",
        "  print(df1,df2,df3)\n",
        "max_min(df,'age')\n",
        "max_min(df,'TSH')\n",
        "max_min(df,'T3')\n",
        "max_min(df,'TT4')\n",
        "max_min(df,'FTI')\n",
        "max_min(df,'TBG')"
      ],
      "execution_count": 11,
      "outputs": [
        {
          "output_type": "stream",
          "name": "stdout",
          "text": [
            "98.0 1.0 51.154214206845786\n",
            "530.0 0.0 5.923179962894247\n",
            "10.2 0.0 1.9397487844408425\n",
            "450.0 2.0 108.85000000000001\n",
            "881.0 0.0 115.39777091906723\n",
            "122.0 0.0 31.28307692307692\n"
          ]
        }
      ]
    },
    {
      "cell_type": "code",
      "metadata": {
        "id": "_H4hmjQc6Syv"
      },
      "source": [
        "# Filling the null values in the age,TSH,T3,TT4,T4U and FT1 column with the mean \n",
        "def missing_val(data,col):\n",
        "  df=data[col].fillna(data[col].mean(),inplace=True)\n",
        "  return df\n",
        "missing_val(df,'age')\n",
        "missing_val(df,'TSH')\n",
        "missing_val(df,'T3')\n",
        "missing_val(df,'TT4')\n",
        "missing_val(df,'T4U')\n",
        "missing_val(df,'FTI')"
      ],
      "execution_count": 12,
      "outputs": []
    },
    {
      "cell_type": "markdown",
      "metadata": {
        "id": "tPgU3QJ4oNZE"
      },
      "source": [
        "The main reason for this action is that and dropping the null values would warrant 14 and 21%  loss in the T3,TSH and about 7% of TT4 and FTI thus i have filled them with the mean for ease in analysis.\n",
        "The 14% missing values in the age column were filled with the mean as it has the highest frequency and suits the distrubution of ages as will be seen in analysis."
      ]
    },
    {
      "cell_type": "code",
      "metadata": {
        "colab": {
          "base_uri": "https://localhost:8080/",
          "height": 404
        },
        "id": "-X_5-3Y80-CR",
        "outputId": "f637f119-aa69-467d-a95c-51f63c83b72c"
      },
      "source": [
        "plt.figure(figsize=(12,4))\n",
        "sns.heatmap(df.isnull(),cbar=False,cmap='cividis',yticklabels=False)\n",
        "plt.title('Missing values in the dataset'); \n",
        "# We have successfully filled the age column.thus will not be affected by fillna"
      ],
      "execution_count": 13,
      "outputs": [
        {
          "output_type": "display_data",
          "data": {
            "image/png": "[encoded data removed]",
            "text/plain": [
              "<Figure size 864x288 with 1 Axes>"
            ]
          },
          "metadata": {
            "needs_background": "light"
          }
        }
      ]
    },
    {
      "cell_type": "markdown",
      "metadata": {
        "id": "7hsS2A2Wou5H"
      },
      "source": [
        "91% is too much of a shift when filled with the mean thus the column will be dropped completely."
      ]
    },
    {
      "cell_type": "code",
      "metadata": {
        "colab": {
          "base_uri": "https://localhost:8080/"
        },
        "id": "HuNSJHmbEqwE",
        "outputId": "0d173705-9b12-4ca8-fc58-e4b5404300b8"
      },
      "source": [
        "# Seeing that missing values \n",
        "# Filling the missing values with zero at the risk of skewing the TBG to the left this is for the purpose of analysis only\n",
        "# Giving the dataset without missing values a variable to avoid confusion during misclassification\n",
        "df1=df.drop(columns=['TBG'],axis=1)\n",
        "df1.isnull().any()"
      ],
      "execution_count": 14,
      "outputs": [
        {
          "output_type": "execute_result",
          "data": {
            "text/plain": [
              "status                       False\n",
              "age                          False\n",
              "sex                          False\n",
              "on_thyroxine                 False\n",
              "query_on_thyroxine           False\n",
              "on_antithyroid_medication    False\n",
              "thyroid_surgery              False\n",
              "query_hypothyroid            False\n",
              "query_hyperthyroid           False\n",
              "pregnant                     False\n",
              "sick                         False\n",
              "tumor                        False\n",
              "lithium                      False\n",
              "goitre                       False\n",
              "TSH_measured                 False\n",
              "TSH                          False\n",
              "T3_measured                  False\n",
              "T3                           False\n",
              "TT4_measured                 False\n",
              "TT4                          False\n",
              "T4U_measured                 False\n",
              "T4U                          False\n",
              "FTI_measured                 False\n",
              "FTI                          False\n",
              "TBG_measured                 False\n",
              "dtype: bool"
            ]
          },
          "metadata": {},
          "execution_count": 14
        }
      ]
    },
    {
      "cell_type": "code",
      "metadata": {
        "colab": {
          "base_uri": "https://localhost:8080/"
        },
        "id": "i8taIE52dS7l",
        "outputId": "8935ba2b-63db-4ffc-c4ec-cae9e4f1e824"
      },
      "source": [
        "print('My dataset has ',df1.shape[0],'rows and ',df1.shape[1],' Columns')"
      ],
      "execution_count": 15,
      "outputs": [
        {
          "output_type": "stream",
          "name": "stdout",
          "text": [
            "My dataset has  3163 rows and  25  Columns\n"
          ]
        }
      ]
    },
    {
      "cell_type": "markdown",
      "metadata": {
        "id": "QFbRWWtHGr0L"
      },
      "source": [
        "It is important to note that inputting a real number would affect my analysis and dropping the null values would warrant 21% and above loss in the T3,TSH and about 7% of TT4 and FTI thus i have filled them with zero for ease in analysis.\n",
        "The 14% missing values in the age column were filled with the mean as it has the highest frequency and suits the distrubution of ages as will be seen in analysis."
      ]
    },
    {
      "cell_type": "markdown",
      "metadata": {
        "id": "kOMjLuHFHeIS"
      },
      "source": [
        "Duplicates"
      ]
    },
    {
      "cell_type": "code",
      "metadata": {
        "colab": {
          "base_uri": "https://localhost:8080/"
        },
        "id": "x8lD7gS7HgmA",
        "outputId": "1b2feee9-4f9e-4a7e-9571-26adcd785e34"
      },
      "source": [
        "# Checking for duplicated data\n",
        "df1.duplicated().any().sum()\n",
        "# Dropping the duplicated\n",
        "df1.drop_duplicates(inplace=True)\n",
        "# Confirming the operation\n",
        "df1.duplicated().any().sum()"
      ],
      "execution_count": 16,
      "outputs": [
        {
          "output_type": "execute_result",
          "data": {
            "text/plain": [
              "0"
            ]
          },
          "metadata": {},
          "execution_count": 16
        }
      ]
    },
    {
      "cell_type": "markdown",
      "metadata": {
        "id": "Zng7xO3GH6_b"
      },
      "source": [
        "Anomalies and Outliers in categorical columns"
      ]
    },
    {
      "cell_type": "code",
      "metadata": {
        "id": "IRihHp7PH6iq"
      },
      "source": [
        "# Checking for anomalies in my set begining with categorical columns\n",
        "def value_counts(data,col):\n",
        "  counts=data[col].value_counts()\n",
        "  frame=pd.DataFrame({'counts':counts})\n",
        "  print(frame)"
      ],
      "execution_count": 17,
      "outputs": []
    },
    {
      "cell_type": "code",
      "metadata": {
        "colab": {
          "base_uri": "https://localhost:8080/"
        },
        "id": "QFgXa6q4Ko0Q",
        "outputId": "9d8c5195-2182-4770-e265-8005726d8677"
      },
      "source": [
        "# Checking for anomalies in status\n",
        "value_counts(df1,'status')\n",
        "df['status'].unique()\n",
        "# No anomalies detected in status column"
      ],
      "execution_count": 18,
      "outputs": [
        {
          "output_type": "stream",
          "name": "stdout",
          "text": [
            "             counts\n",
            "negative       2870\n",
            "hypothyroid     141\n"
          ]
        },
        {
          "output_type": "execute_result",
          "data": {
            "text/plain": [
              "array(['hypothyroid', 'negative'], dtype=object)"
            ]
          },
          "metadata": {},
          "execution_count": 18
        }
      ]
    },
    {
      "cell_type": "code",
      "metadata": {
        "colab": {
          "base_uri": "https://localhost:8080/"
        },
        "id": "qD2BK8qpJiUt",
        "outputId": "5dea1a21-bb77-4124-8097-a8b1a25a6eec"
      },
      "source": [
        "# # Checking for anomalies in sex\n",
        "value_counts(df1,'sex')\n",
        "# There is an anomaly in sex with an unclassified gender\n",
        "df['sex'].unique()"
      ],
      "execution_count": 19,
      "outputs": [
        {
          "output_type": "stream",
          "name": "stdout",
          "text": [
            "   counts\n",
            "F    2049\n",
            "M     889\n",
            "?      73\n"
          ]
        },
        {
          "output_type": "execute_result",
          "data": {
            "text/plain": [
              "array(['M', 'F', '?'], dtype=object)"
            ]
          },
          "metadata": {},
          "execution_count": 19
        }
      ]
    },
    {
      "cell_type": "code",
      "metadata": {
        "colab": {
          "base_uri": "https://localhost:8080/"
        },
        "id": "XY1lxjngPxov",
        "outputId": "665f3141-1c11-416f-df36-a01654a51f14"
      },
      "source": [
        "# # Using lambda function to replace the value ? with F/M to avoid loosing the rest of the data\n",
        "df1['sex']=df1['sex'].apply(lambda x:'F/M' if x=='?' else('M' if x=='M' else 'F'))\n",
        "df1['sex'].unique()"
      ],
      "execution_count": 20,
      "outputs": [
        {
          "output_type": "execute_result",
          "data": {
            "text/plain": [
              "array(['M', 'F', 'F/M'], dtype=object)"
            ]
          },
          "metadata": {},
          "execution_count": 20
        }
      ]
    },
    {
      "cell_type": "code",
      "metadata": {
        "colab": {
          "base_uri": "https://localhost:8080/"
        },
        "id": "SGoWnNiAPxbk",
        "outputId": "3c14ff33-0521-44b8-e40c-13bf29baaa5b"
      },
      "source": [
        "# Checking for anomalies in on thyroxine column\n",
        "value_counts(df1,'on_thyroxine')\n",
        "# No anomalies detected in onthyroxine column"
      ],
      "execution_count": 21,
      "outputs": [
        {
          "output_type": "stream",
          "name": "stdout",
          "text": [
            "   counts\n",
            "f    2565\n",
            "t     446\n"
          ]
        }
      ]
    },
    {
      "cell_type": "code",
      "metadata": {
        "colab": {
          "base_uri": "https://localhost:8080/"
        },
        "id": "NQFrdIFsQhzX",
        "outputId": "6bf25207-a118-4ba9-ad0e-bff526f6f0cc"
      },
      "source": [
        "# anomalies in query on thyroxine column\n",
        "value_counts(df1,'query_on_thyroxine')\n",
        "# No anomalies detected in that column"
      ],
      "execution_count": 22,
      "outputs": [
        {
          "output_type": "stream",
          "name": "stdout",
          "text": [
            "   counts\n",
            "f    2956\n",
            "t      55\n"
          ]
        }
      ]
    },
    {
      "cell_type": "code",
      "metadata": {
        "colab": {
          "base_uri": "https://localhost:8080/"
        },
        "id": "gDwX1kxkRCay",
        "outputId": "1b41fec3-6c45-425a-b87d-b5f680d6d0eb"
      },
      "source": [
        "# Checking for anomalies and outliers in on thyroid medication column.\n",
        "value_counts(df1,'on_antithyroid_medication')\n",
        "# No anomalies detected on that column/This applies to outliers"
      ],
      "execution_count": 23,
      "outputs": [
        {
          "output_type": "stream",
          "name": "stdout",
          "text": [
            "   counts\n",
            "f    2969\n",
            "t      42\n"
          ]
        }
      ]
    },
    {
      "cell_type": "code",
      "metadata": {
        "colab": {
          "base_uri": "https://localhost:8080/"
        },
        "id": "ik5UccfoRRND",
        "outputId": "b676e1e8-5a51-4f60-c587-c8d51c2193f1"
      },
      "source": [
        "# anomalies in thyroid surgery column\n",
        "value_counts(df1,'thyroid_surgery')\n",
        "# No anomalies detected on this column"
      ],
      "execution_count": 24,
      "outputs": [
        {
          "output_type": "stream",
          "name": "stdout",
          "text": [
            "   counts\n",
            "f    2908\n",
            "t     103\n"
          ]
        }
      ]
    },
    {
      "cell_type": "code",
      "metadata": {
        "colab": {
          "base_uri": "https://localhost:8080/"
        },
        "id": "ERxPEXY4RuQG",
        "outputId": "5f0c8387-fea2-4e48-f588-8cb6d02dbfa6"
      },
      "source": [
        "# The Query hypothyroid column\n",
        "value_counts(df1,'query_hypothyroid')\n",
        "# No anomalies detected and the total fit the number of rows in our column\n"
      ],
      "execution_count": 25,
      "outputs": [
        {
          "output_type": "stream",
          "name": "stdout",
          "text": [
            "   counts\n",
            "f    2776\n",
            "t     235\n"
          ]
        }
      ]
    },
    {
      "cell_type": "code",
      "metadata": {
        "colab": {
          "base_uri": "https://localhost:8080/"
        },
        "id": "1aRf4v35SNkf",
        "outputId": "531d13be-56a5-49ae-e00c-eae5b4c101ef"
      },
      "source": [
        "# Pregnant\n",
        "value_counts(df1,'pregnant')\n",
        "# No anomaly or outlier present"
      ],
      "execution_count": 26,
      "outputs": [
        {
          "output_type": "stream",
          "name": "stdout",
          "text": [
            "   counts\n",
            "f    2950\n",
            "t      61\n"
          ]
        }
      ]
    },
    {
      "cell_type": "code",
      "metadata": {
        "colab": {
          "base_uri": "https://localhost:8080/"
        },
        "id": "5RCAOkYISlBh",
        "outputId": "22a97096-2034-4be3-d8ab-face65bce540"
      },
      "source": [
        "#sick                                     \n",
        "value_counts(df1,'sick')\n",
        "# No outliers present in the sick column"
      ],
      "execution_count": 27,
      "outputs": [
        {
          "output_type": "stream",
          "name": "stdout",
          "text": [
            "   counts\n",
            "f    2914\n",
            "t      97\n"
          ]
        }
      ]
    },
    {
      "cell_type": "code",
      "metadata": {
        "colab": {
          "base_uri": "https://localhost:8080/"
        },
        "id": "c_GRmeK2S-eu",
        "outputId": "e9e78870-edef-4919-ef0c-50550e7f28cd"
      },
      "source": [
        "# With tumor\n",
        "value_counts(df1,'tumor')\n",
        "# No anomalies detected"
      ],
      "execution_count": 28,
      "outputs": [
        {
          "output_type": "stream",
          "name": "stdout",
          "text": [
            "   counts\n",
            "f    2971\n",
            "t      40\n"
          ]
        }
      ]
    },
    {
      "cell_type": "code",
      "metadata": {
        "colab": {
          "base_uri": "https://localhost:8080/"
        },
        "id": "myqyYdqkTIcz",
        "outputId": "1b2bb29c-39c8-4d8f-e879-dac2dcfd7706"
      },
      "source": [
        "# Lithium\n",
        "value_counts(df1,'lithium')\n",
        "# No anomalies detected in the lithium volumn"
      ],
      "execution_count": 29,
      "outputs": [
        {
          "output_type": "stream",
          "name": "stdout",
          "text": [
            "   counts\n",
            "f    3009\n",
            "t       2\n"
          ]
        }
      ]
    },
    {
      "cell_type": "code",
      "metadata": {
        "colab": {
          "base_uri": "https://localhost:8080/"
        },
        "id": "3hjmXLmzTTHW",
        "outputId": "37160c53-ab54-4ac4-943c-e975d16fc2d8"
      },
      "source": [
        "# Goitre\n",
        "value_counts(df1,'goitre')\n",
        "# No anomalies detected"
      ],
      "execution_count": 30,
      "outputs": [
        {
          "output_type": "stream",
          "name": "stdout",
          "text": [
            "   counts\n",
            "f    2915\n",
            "t      96\n"
          ]
        }
      ]
    },
    {
      "cell_type": "code",
      "metadata": {
        "colab": {
          "base_uri": "https://localhost:8080/"
        },
        "id": "haMst7H6TaTM",
        "outputId": "ea1fd181-cb3e-4150-bde4-08e234c82615"
      },
      "source": [
        "# looking for anomalies and ourliers in TSH column\n",
        "value_counts(df1,'TSH_measured')"
      ],
      "execution_count": 31,
      "outputs": [
        {
          "output_type": "stream",
          "name": "stdout",
          "text": [
            "   counts\n",
            "y    2631\n",
            "n     380\n"
          ]
        }
      ]
    },
    {
      "cell_type": "code",
      "metadata": {
        "colab": {
          "base_uri": "https://localhost:8080/"
        },
        "id": "Pcp4XdweT0Si",
        "outputId": "915223cc-7b7a-43de-bfbd-b4f874f2bd48"
      },
      "source": [
        "value_counts(df1,'T3_measured')"
      ],
      "execution_count": 32,
      "outputs": [
        {
          "output_type": "stream",
          "name": "stdout",
          "text": [
            "   counts\n",
            "y    2406\n",
            "n     605\n"
          ]
        }
      ]
    },
    {
      "cell_type": "code",
      "metadata": {
        "colab": {
          "base_uri": "https://localhost:8080/"
        },
        "id": "BUH1DEScT3Mv",
        "outputId": "a7183a07-914e-4304-d418-e0e91873cf75"
      },
      "source": [
        "value_counts(df1,'TT4_measured')"
      ],
      "execution_count": 33,
      "outputs": [
        {
          "output_type": "stream",
          "name": "stdout",
          "text": [
            "   counts\n",
            "y    2846\n",
            "n     165\n"
          ]
        }
      ]
    },
    {
      "cell_type": "code",
      "metadata": {
        "colab": {
          "base_uri": "https://localhost:8080/"
        },
        "id": "PMmO0uhJUNYL",
        "outputId": "8a0679a0-ad09-4052-877f-8a6518f8e2d0"
      },
      "source": [
        "value_counts(df1,'T4U_measured')"
      ],
      "execution_count": 34,
      "outputs": [
        {
          "output_type": "stream",
          "name": "stdout",
          "text": [
            "   counts\n",
            "y    2847\n",
            "n     164\n"
          ]
        }
      ]
    },
    {
      "cell_type": "code",
      "metadata": {
        "colab": {
          "base_uri": "https://localhost:8080/"
        },
        "id": "mgkCpEFiT8Pj",
        "outputId": "82218b0a-c157-4cb4-dbae-0c7a42b397e8"
      },
      "source": [
        "value_counts(df1,'FTI_measured')"
      ],
      "execution_count": 35,
      "outputs": [
        {
          "output_type": "stream",
          "name": "stdout",
          "text": [
            "   counts\n",
            "y    2848\n",
            "n     163\n"
          ]
        }
      ]
    },
    {
      "cell_type": "code",
      "metadata": {
        "colab": {
          "base_uri": "https://localhost:8080/"
        },
        "id": "QO0NhTRbUTSg",
        "outputId": "e0231096-b248-489c-910e-1a96d271b3f2"
      },
      "source": [
        "value_counts(df1,'TBG_measured')"
      ],
      "execution_count": 36,
      "outputs": [
        {
          "output_type": "stream",
          "name": "stdout",
          "text": [
            "   counts\n",
            "n    2835\n",
            "y     176\n"
          ]
        }
      ]
    },
    {
      "cell_type": "markdown",
      "metadata": {
        "id": "FMUhzfjlUW_4"
      },
      "source": [
        "No anomalies detected in the aforementioned columns "
      ]
    },
    {
      "cell_type": "markdown",
      "metadata": {
        "id": "15LHkFxBUeLC"
      },
      "source": [
        "Anomalies and outliers in the continous variables"
      ]
    },
    {
      "cell_type": "code",
      "metadata": {
        "colab": {
          "base_uri": "https://localhost:8080/",
          "height": 1000
        },
        "id": "XqQ2KHKNXm4X",
        "outputId": "1b270593-d5f7-4ef5-80a9-66f2eb4eeaf8"
      },
      "source": [
        "# Checking for outliers in the age column\n",
        "cols=['age','TSH','T3','TT4','T4U','FTI']\n",
        "fig,ax=plt.subplots(len(cols),figsize=(10,49))\n",
        "for i,col_vals in enumerate(cols):\n",
        "  sns.boxplot(x=df1[col_vals],ax=ax[i])\n",
        "  ax[i].set_title('A box plot of '+format(col_vals),fontsize=10)\n",
        "  ax[i].set_ylabel('Values')\n",
        "plt.show"
      ],
      "execution_count": 37,
      "outputs": [
        {
          "output_type": "execute_result",
          "data": {
            "text/plain": [
              "<function matplotlib.pyplot.show>"
            ]
          },
          "metadata": {},
          "execution_count": 37
        },
        {
          "output_type": "display_data",
          "data": {
            "image/png": "[encoded data removed]",
            "text/plain": [
              "<Figure size 720x3528 with 6 Axes>"
            ]
          },
          "metadata": {
            "needs_background": "light"
          }
        }
      ]
    },
    {
      "cell_type": "markdown",
      "metadata": {
        "id": "uFDrY6uRYVJi"
      },
      "source": [
        "From this we can see that there are no outliers in the age column. It is to be noted that replacing null values with zero contributed to other values being regarded as outliers . This will be remedied by a less stringent outlier removal tool that will not chuck off all the outliers. Some outliers will be treated as genuine measurement by checking the range of hormonal count that can be gotten in a test from an external validation\n"
      ]
    },
    {
      "cell_type": "code",
      "metadata": {
        "colab": {
          "base_uri": "https://localhost:8080/"
        },
        "id": "a5sojrvkYU10",
        "outputId": "488e3ee1-eb81-402a-a448-12bdd86e262a"
      },
      "source": [
        "# Using the zscore to asess my outlier count\n",
        "from scipy import stats\n",
        "z=np.abs(stats.zscore(df1[['age','TSH','T3','TT4','T4U','FTI']]))\n",
        "# print(z)\n",
        "# Setting a threshold of 3 to remove the values with a zscore value greater than 3\n",
        "thresh=3\n",
        "Clean_df=df1[(z<3).all(axis=1)]\n",
        "print(Clean_df.shape)\n",
        "print(Clean_df.isnull().any().sum())"
      ],
      "execution_count": 38,
      "outputs": [
        {
          "output_type": "stream",
          "name": "stdout",
          "text": [
            "(2819, 25)\n",
            "0\n"
          ]
        }
      ]
    },
    {
      "cell_type": "markdown",
      "metadata": {
        "id": "c8KWr8wbejqz"
      },
      "source": [
        "It is to be noted that df is the dataset with missing values(exept for age and outliers (It will be used for desicion trees as they are quite robust to outliers.\n",
        "Clean_df on the other hand is devoid of outliers and missing values and will be used for decision trees.\n",
        "df1 will be used for analysis as the missing values have been filled with zero."
      ]
    },
    {
      "cell_type": "code",
      "metadata": {
        "colab": {
          "base_uri": "https://localhost:8080/"
        },
        "id": "nL1l0RfAeWpe",
        "outputId": "11797f23-d3ed-4c49-f77b-7feeb1f7aecd"
      },
      "source": [
        "print(df.isnull().any().sum())# This has no null values appart from TBG column. Thus will be used for the desicion trees as the null values have been filled with the mean\n",
        "print(df1.isnull().any().sum())# This set has TBG dropped as it 91 % of the set was made up of missing values.\n",
        "print(Clean_df.isnull().any().sum())# Used for SVM since its clean and devoid of outliers.Trees are robust to outliers thus df1 will be used for trees."
      ],
      "execution_count": 39,
      "outputs": [
        {
          "output_type": "stream",
          "name": "stdout",
          "text": [
            "1\n",
            "0\n",
            "0\n"
          ]
        }
      ]
    },
    {
      "cell_type": "markdown",
      "metadata": {
        "id": "fUJ1alhCybw5"
      },
      "source": [
        "## 6. Exploratory Data Analysis"
      ]
    },
    {
      "cell_type": "markdown",
      "metadata": {
        "id": "WOP9iEDdy49Y"
      },
      "source": [
        "### a.) Univariate Analysis"
      ]
    },
    {
      "cell_type": "code",
      "metadata": {
        "colab": {
          "base_uri": "https://localhost:8080/"
        },
        "id": "cSSGaL9FrXNY",
        "outputId": "0557b264-0b21-46f0-f917-0f2ad41352f9"
      },
      "source": [
        "df1.columns"
      ],
      "execution_count": 40,
      "outputs": [
        {
          "output_type": "execute_result",
          "data": {
            "text/plain": [
              "Index(['status', 'age', 'sex', 'on_thyroxine', 'query_on_thyroxine',\n",
              "       'on_antithyroid_medication', 'thyroid_surgery', 'query_hypothyroid',\n",
              "       'query_hyperthyroid', 'pregnant', 'sick', 'tumor', 'lithium', 'goitre',\n",
              "       'TSH_measured', 'TSH', 'T3_measured', 'T3', 'TT4_measured', 'TT4',\n",
              "       'T4U_measured', 'T4U', 'FTI_measured', 'FTI', 'TBG_measured'],\n",
              "      dtype='object')"
            ]
          },
          "metadata": {},
          "execution_count": 40
        }
      ]
    },
    {
      "cell_type": "markdown",
      "metadata": {
        "id": "0TWWYilCtLnf"
      },
      "source": [
        "Columns with continous data"
      ]
    },
    {
      "cell_type": "code",
      "metadata": {
        "colab": {
          "base_uri": "https://localhost:8080/",
          "height": 1000
        },
        "id": "tUMtKdgctLBq",
        "outputId": "b5d5ee91-2642-4b00-a448-fcf2ef6841c2"
      },
      "source": [
        "cont_col=[ 'age','TSH','T3','TT4','T4U','FTI']\n",
        "fig,ax=plt.subplots(len(cont_col),figsize=(10,42))\n",
        "for i,cols in enumerate(cont_col):\n",
        "  sns.distplot(df1[cols],ax=ax[i]) \n",
        "  ax[i].set_title('The distribution of '+format(cols))"
      ],
      "execution_count": 41,
      "outputs": [
        {
          "output_type": "display_data",
          "data": {
            "image/png": "[encoded data removed]",
            "text/plain": [
              "<Figure size 720x3024 with 6 Axes>"
            ]
          },
          "metadata": {
            "needs_background": "light"
          }
        }
      ]
    },
    {
      "cell_type": "markdown",
      "metadata": {
        "id": "RiBqd69xrE2o"
      },
      "source": [
        "#### Categorical columns"
      ]
    },
    {
      "cell_type": "code",
      "metadata": {
        "colab": {
          "base_uri": "https://localhost:8080/",
          "height": 1000
        },
        "id": "grIRZ17mrLyH",
        "outputId": "e851adbd-bea5-4a99-ae1f-e78a0ff31b87"
      },
      "source": [
        "cats=['status', 'sex', 'on_thyroxine', 'query_on_thyroxine',\n",
        "       'on_antithyroid_medication', 'thyroid_surgery', 'query_hypothyroid',\n",
        "       'query_hyperthyroid']\n",
        "fig,ax=plt.subplots(len(cats),figsize=(10,42))\n",
        "for i,cols in enumerate(cats):\n",
        "  sns.countplot(df1[cols],order=df1[cols].value_counts().index,ax=ax[i]) \n",
        "  ax[i].set_title('The value counts for '+format(cols))"
      ],
      "execution_count": 42,
      "outputs": [
        {
          "output_type": "display_data",
          "data": {
            "image/png": "[encoded data removed]",
            "text/plain": [
              "<Figure size 720x3024 with 8 Axes>"
            ]
          },
          "metadata": {
            "needs_background": "light"
          }
        }
      ]
    },
    {
      "cell_type": "code",
      "metadata": {
        "colab": {
          "base_uri": "https://localhost:8080/",
          "height": 1000
        },
        "id": "bvVNbzzDsUNz",
        "outputId": "21db8e78-a505-4bc9-eff6-286a662eae5d"
      },
      "source": [
        "cats=['pregnant', 'sick', 'tumor', 'lithium', 'goitre','TSH_measured', 'T3_measured', 'TT4_measured','T4U_measured', 'FTI_measured', 'TBG_measured']\n",
        "fig,ax=plt.subplots(len(cats),figsize=(10,60))\n",
        "for i,cols in enumerate(cats):\n",
        "  sns.countplot(df1[cols],order=df1[cols].value_counts().index,ax=ax[i]) \n",
        "  ax[i].set_title('The unique values for '+format(cols))"
      ],
      "execution_count": 43,
      "outputs": [
        {
          "output_type": "display_data",
          "data": {
            "image/png": "[encoded data removed]",
            "text/plain": [
              "<Figure size 720x4320 with 11 Axes>"
            ]
          },
          "metadata": {
            "needs_background": "light"
          }
        }
      ]
    },
    {
      "cell_type": "markdown",
      "metadata": {
        "id": "7KTscv3qzcIq"
      },
      "source": [
        "#### Outcomes Continous and categorical columns"
      ]
    },
    {
      "cell_type": "markdown",
      "metadata": {
        "id": "8v4mhH6JuVD3"
      },
      "source": [
        "From the analysis above its is safe to note that:\n",
        "\n",
        "* The age is normally distributed with the mode being equal to the mean this means that the most people in the set had their ages at the middle. This is also evident in the analysis prior to checking for missing values.\n",
        "\n",
        "* TSH and T3 is positively skewed, This could be attributed to most values having a low count of the thyroid stimulating hormone and triiodothyromine hormone.\n",
        "\n",
        "* TT4 (Thyroxine) distribution is slightly positively skewed with outliers measuring up t0 500.\n",
        "\n",
        "* T4U is normally distributed while FT1 seems to be skewed with most values concentrated on the lower quantile.\n",
        "\n"
      ]
    },
    {
      "cell_type": "markdown",
      "metadata": {
        "id": "IBDIM4l3wxV9"
      },
      "source": [
        "For the categorical columns it is safe to note that:\n",
        "* From the population at large, most people tested negative for hypothyroidism\n",
        "* The propotion of women was greater than that of men in this study.\n",
        "* Thyroxine drug is not commonly takes as 'f' represents false\n",
        "* There are not as much queries about the thyroxine drugs since the count of queries is low.\n",
        "* There are not as many people on antithyroid medicine.\n",
        "* There are no much queries on hypothyroidism as well as hyperthyroidism as false is taking the lead in counts\n",
        "* The population which is pregnant,sick,has a tumor and has goitre is less than that which is not.\n",
        "* The patients who have taken TSH,T3,TT4,T4U ,FTI and TBG were more than those who havent."
      ]
    },
    {
      "cell_type": "markdown",
      "metadata": {
        "id": "NPWZ2fWAy9TB"
      },
      "source": [
        "### b.) Bivariate analysis"
      ]
    },
    {
      "cell_type": "code",
      "metadata": {
        "colab": {
          "base_uri": "https://localhost:8080/",
          "height": 487
        },
        "id": "0Mxjlf1gOwAd",
        "outputId": "e57d3c70-6796-406e-a803-41289b3fd60d"
      },
      "source": [
        " # Slicing the numericalcolumns\n",
        " numerical = df1.select_dtypes(include=['int64','float64','Int64'])[:]\n",
        " numerical\n",
        " correlation=numerical.corr()\n",
        " # Checking the correlation in the set\n",
        " plt.figure(figsize=(10,8))\n",
        "sns.heatmap(correlation, cmap=\"afmhot\", annot=True)\n",
        "plt.show() "
      ],
      "execution_count": 44,
      "outputs": [
        {
          "output_type": "display_data",
          "data": {
            "image/png": "[encoded data removed]",
            "text/plain": [
              "<Figure size 720x576 with 2 Axes>"
            ]
          },
          "metadata": {
            "needs_background": "light"
          }
        }
      ]
    },
    {
      "cell_type": "markdown",
      "metadata": {
        "id": "09lV4oHOTjSl"
      },
      "source": [
        "There is a moderatately fair postive correlation between TT4 na FTI measurements.(thyroxine and free thyroxine hormones)\n",
        "There is a negative corelation between TSH and T4U measurement ,age and T4U etc"
      ]
    },
    {
      "cell_type": "code",
      "metadata": {
        "colab": {
          "base_uri": "https://localhost:8080/",
          "height": 224
        },
        "id": "wZxoY78KVIJB",
        "outputId": "ec5060d7-0dbf-4b2a-d634-8cd89599c280"
      },
      "source": [
        "df1.head()"
      ],
      "execution_count": 45,
      "outputs": [
        {
          "output_type": "execute_result",
          "data": {
            "text/html": [
              "<div>\n",
              "<style scoped>\n",
              "    .dataframe tbody tr th:only-of-type {\n",
              "        vertical-align: middle;\n",
              "    }\n",
              "\n",
              "    .dataframe tbody tr th {\n",
              "        vertical-align: top;\n",
              "    }\n",
              "\n",
              "    .dataframe thead th {\n",
              "        text-align: right;\n",
              "    }\n",
              "</style>\n",
              "<table border=\"1\" class=\"dataframe\">\n",
              "  <thead>\n",
              "    <tr style=\"text-align: right;\">\n",
              "      <th></th>\n",
              "      <th>status</th>\n",
              "      <th>age</th>\n",
              "      <th>sex</th>\n",
              "      <th>on_thyroxine</th>\n",
              "      <th>query_on_thyroxine</th>\n",
              "      <th>on_antithyroid_medication</th>\n",
              "      <th>thyroid_surgery</th>\n",
              "      <th>query_hypothyroid</th>\n",
              "      <th>query_hyperthyroid</th>\n",
              "      <th>pregnant</th>\n",
              "      <th>sick</th>\n",
              "      <th>tumor</th>\n",
              "      <th>lithium</th>\n",
              "      <th>goitre</th>\n",
              "      <th>TSH_measured</th>\n",
              "      <th>TSH</th>\n",
              "      <th>T3_measured</th>\n",
              "      <th>T3</th>\n",
              "      <th>TT4_measured</th>\n",
              "      <th>TT4</th>\n",
              "      <th>T4U_measured</th>\n",
              "      <th>T4U</th>\n",
              "      <th>FTI_measured</th>\n",
              "      <th>FTI</th>\n",
              "      <th>TBG_measured</th>\n",
              "    </tr>\n",
              "  </thead>\n",
              "  <tbody>\n",
              "    <tr>\n",
              "      <th>0</th>\n",
              "      <td>hypothyroid</td>\n",
              "      <td>72.0</td>\n",
              "      <td>M</td>\n",
              "      <td>f</td>\n",
              "      <td>f</td>\n",
              "      <td>f</td>\n",
              "      <td>f</td>\n",
              "      <td>f</td>\n",
              "      <td>f</td>\n",
              "      <td>f</td>\n",
              "      <td>f</td>\n",
              "      <td>f</td>\n",
              "      <td>f</td>\n",
              "      <td>f</td>\n",
              "      <td>y</td>\n",
              "      <td>30.0</td>\n",
              "      <td>y</td>\n",
              "      <td>0.6</td>\n",
              "      <td>y</td>\n",
              "      <td>15.0</td>\n",
              "      <td>y</td>\n",
              "      <td>1.48</td>\n",
              "      <td>y</td>\n",
              "      <td>10.0</td>\n",
              "      <td>n</td>\n",
              "    </tr>\n",
              "    <tr>\n",
              "      <th>1</th>\n",
              "      <td>hypothyroid</td>\n",
              "      <td>15.0</td>\n",
              "      <td>F</td>\n",
              "      <td>t</td>\n",
              "      <td>f</td>\n",
              "      <td>f</td>\n",
              "      <td>f</td>\n",
              "      <td>f</td>\n",
              "      <td>f</td>\n",
              "      <td>f</td>\n",
              "      <td>f</td>\n",
              "      <td>f</td>\n",
              "      <td>f</td>\n",
              "      <td>f</td>\n",
              "      <td>y</td>\n",
              "      <td>145.0</td>\n",
              "      <td>y</td>\n",
              "      <td>1.7</td>\n",
              "      <td>y</td>\n",
              "      <td>19.0</td>\n",
              "      <td>y</td>\n",
              "      <td>1.13</td>\n",
              "      <td>y</td>\n",
              "      <td>17.0</td>\n",
              "      <td>n</td>\n",
              "    </tr>\n",
              "    <tr>\n",
              "      <th>2</th>\n",
              "      <td>hypothyroid</td>\n",
              "      <td>24.0</td>\n",
              "      <td>M</td>\n",
              "      <td>f</td>\n",
              "      <td>f</td>\n",
              "      <td>f</td>\n",
              "      <td>f</td>\n",
              "      <td>f</td>\n",
              "      <td>f</td>\n",
              "      <td>f</td>\n",
              "      <td>f</td>\n",
              "      <td>f</td>\n",
              "      <td>f</td>\n",
              "      <td>f</td>\n",
              "      <td>y</td>\n",
              "      <td>0.0</td>\n",
              "      <td>y</td>\n",
              "      <td>0.2</td>\n",
              "      <td>y</td>\n",
              "      <td>4.0</td>\n",
              "      <td>y</td>\n",
              "      <td>1.00</td>\n",
              "      <td>y</td>\n",
              "      <td>0.0</td>\n",
              "      <td>n</td>\n",
              "    </tr>\n",
              "    <tr>\n",
              "      <th>3</th>\n",
              "      <td>hypothyroid</td>\n",
              "      <td>24.0</td>\n",
              "      <td>F</td>\n",
              "      <td>f</td>\n",
              "      <td>f</td>\n",
              "      <td>f</td>\n",
              "      <td>f</td>\n",
              "      <td>f</td>\n",
              "      <td>f</td>\n",
              "      <td>f</td>\n",
              "      <td>f</td>\n",
              "      <td>f</td>\n",
              "      <td>f</td>\n",
              "      <td>f</td>\n",
              "      <td>y</td>\n",
              "      <td>430.0</td>\n",
              "      <td>y</td>\n",
              "      <td>0.4</td>\n",
              "      <td>y</td>\n",
              "      <td>6.0</td>\n",
              "      <td>y</td>\n",
              "      <td>1.04</td>\n",
              "      <td>y</td>\n",
              "      <td>6.0</td>\n",
              "      <td>n</td>\n",
              "    </tr>\n",
              "    <tr>\n",
              "      <th>4</th>\n",
              "      <td>hypothyroid</td>\n",
              "      <td>77.0</td>\n",
              "      <td>M</td>\n",
              "      <td>f</td>\n",
              "      <td>f</td>\n",
              "      <td>f</td>\n",
              "      <td>f</td>\n",
              "      <td>f</td>\n",
              "      <td>f</td>\n",
              "      <td>f</td>\n",
              "      <td>f</td>\n",
              "      <td>f</td>\n",
              "      <td>f</td>\n",
              "      <td>f</td>\n",
              "      <td>y</td>\n",
              "      <td>7.3</td>\n",
              "      <td>y</td>\n",
              "      <td>1.2</td>\n",
              "      <td>y</td>\n",
              "      <td>57.0</td>\n",
              "      <td>y</td>\n",
              "      <td>1.28</td>\n",
              "      <td>y</td>\n",
              "      <td>44.0</td>\n",
              "      <td>n</td>\n",
              "    </tr>\n",
              "  </tbody>\n",
              "</table>\n",
              "</div>"
            ],
            "text/plain": [
              "        status   age sex on_thyroxine  ...   T4U FTI_measured   FTI TBG_measured\n",
              "0  hypothyroid  72.0   M            f  ...  1.48            y  10.0            n\n",
              "1  hypothyroid  15.0   F            t  ...  1.13            y  17.0            n\n",
              "2  hypothyroid  24.0   M            f  ...  1.00            y   0.0            n\n",
              "3  hypothyroid  24.0   F            f  ...  1.04            y   6.0            n\n",
              "4  hypothyroid  77.0   M            f  ...  1.28            y  44.0            n\n",
              "\n",
              "[5 rows x 25 columns]"
            ]
          },
          "metadata": {},
          "execution_count": 45
        }
      ]
    },
    {
      "cell_type": "code",
      "metadata": {
        "id": "R4OvWAl7U4Zc"
      },
      "source": [
        "def barplots(data,col1,col2):\n",
        "  plt.figure(figsize=(10,6))\n",
        "  sns.barplot(x=col1, y=col2,data=data, palette='Oranges_r')\n",
        "  plt.title('The relationship between '+str(col1)+' and '+str(col2),fontsize=15)\n",
        "  plt.show()"
      ],
      "execution_count": 46,
      "outputs": []
    },
    {
      "cell_type": "code",
      "metadata": {
        "colab": {
          "base_uri": "https://localhost:8080/",
          "height": 406
        },
        "id": "7ecINdbMVGdH",
        "outputId": "45bf443f-a862-472d-def3-e7e18bed7e0c"
      },
      "source": [
        "barplots(df1,'age','status')\n",
        "# The age above 50 yrs suffers hypothyroidism at a higher rate."
      ],
      "execution_count": 47,
      "outputs": [
        {
          "output_type": "display_data",
          "data": {
            "image/png": "[encoded data removed]",
            "text/plain": [
              "<Figure size 720x432 with 1 Axes>"
            ]
          },
          "metadata": {
            "needs_background": "light"
          }
        }
      ]
    },
    {
      "cell_type": "code",
      "metadata": {
        "colab": {
          "base_uri": "https://localhost:8080/",
          "height": 406
        },
        "id": "EgXKe6scV28_",
        "outputId": "70e3770d-5d82-43a1-baaa-c8094f8c1c0f"
      },
      "source": [
        "barplots(df1,'TSH','status')\n",
        "# People with Higher Thyroid Stumulating hormones suffer from hypothyroidism."
      ],
      "execution_count": 48,
      "outputs": [
        {
          "output_type": "display_data",
          "data": {
            "image/png": "[encoded data removed]",
            "text/plain": [
              "<Figure size 720x432 with 1 Axes>"
            ]
          },
          "metadata": {
            "needs_background": "light"
          }
        }
      ]
    },
    {
      "cell_type": "code",
      "metadata": {
        "colab": {
          "base_uri": "https://localhost:8080/",
          "height": 406
        },
        "id": "9eJBtQlJXAY1",
        "outputId": "7eb1b7e1-98ce-42fc-eba7-a3c3f63e85ab"
      },
      "source": [
        "barplots(df1,'T3','status')\n",
        "# People with higher tridothyronine dont suffer hypothyroidism.\n",
        "# It is safe therefore to say that higher levels stimulate overeactive thyroid(HYPER-thyroidism)"
      ],
      "execution_count": 49,
      "outputs": [
        {
          "output_type": "display_data",
          "data": {
            "image/png": "[encoded data removed]",
            "text/plain": [
              "<Figure size 720x432 with 1 Axes>"
            ]
          },
          "metadata": {
            "needs_background": "light"
          }
        }
      ]
    },
    {
      "cell_type": "code",
      "metadata": {
        "colab": {
          "base_uri": "https://localhost:8080/",
          "height": 406
        },
        "id": "leKEpafUXp-7",
        "outputId": "90df9144-b51d-4f18-cdc3-d0c951ce8d7b"
      },
      "source": [
        "barplots(df1,'TT4','status')\n",
        "# Higher levels of thyroxine indicate overactive thyroid what is called HYPER-thyroidism our data concentrates with the opposite of that.  \n",
        "# It is clear that patients with higher levels of thyroxine dont suffer from HYPO-thyroidism."
      ],
      "execution_count": 50,
      "outputs": [
        {
          "output_type": "display_data",
          "data": {
            "image/png": "[encoded data removed]",
            "text/plain": [
              "<Figure size 720x432 with 1 Axes>"
            ]
          },
          "metadata": {
            "needs_background": "light"
          }
        }
      ]
    },
    {
      "cell_type": "code",
      "metadata": {
        "colab": {
          "base_uri": "https://localhost:8080/",
          "height": 406
        },
        "id": "FUf6vCmtYY9D",
        "outputId": "9251e828-911a-436a-ac56-992c7b1ab226"
      },
      "source": [
        "barplots(df1,'FTI','status')\n",
        "# with Higher levels of Free thyroxine Index the test is negative. Meaning people with high FTI dont suffer hypothyrodism . "
      ],
      "execution_count": 51,
      "outputs": [
        {
          "output_type": "display_data",
          "data": {
            "image/png": "[encoded data removed]",
            "text/plain": [
              "<Figure size 720x432 with 1 Axes>"
            ]
          },
          "metadata": {
            "needs_background": "light"
          }
        }
      ]
    },
    {
      "cell_type": "markdown",
      "metadata": {
        "id": "yS4D1pYOgL23"
      },
      "source": [
        "Categorical categorical columns"
      ]
    },
    {
      "cell_type": "code",
      "metadata": {
        "id": "iHPnbNuzgIjB"
      },
      "source": [
        "def bar_cat(data,col1,hue):\n",
        "  plt.figure(figsize=(10,6))\n",
        "  sns.catplot(y=col1,hue=hue,kind='count',palette='inferno_r',data=data,orient='h')\n",
        "  plt.title('The relationship between '+format(col1)+' and '+format(hue),fontsize=15)\n",
        "  plt.show()"
      ],
      "execution_count": 52,
      "outputs": []
    },
    {
      "cell_type": "code",
      "metadata": {
        "colab": {
          "base_uri": "https://localhost:8080/",
          "height": 404
        },
        "id": "9Y6HZ6_2hQt5",
        "outputId": "0da0eead-a13f-4514-a3a8-c241b6a40ee8"
      },
      "source": [
        "bar_cat(df1,'status','sex')\n",
        "# Females suffer more from hypothyroidism as compared to males.\n",
        "# The count of females without hyothiroidism is also greater than that of males"
      ],
      "execution_count": 53,
      "outputs": [
        {
          "output_type": "display_data",
          "data": {
            "text/plain": [
              "<Figure size 720x432 with 0 Axes>"
            ]
          },
          "metadata": {}
        },
        {
          "output_type": "display_data",
          "data": {
            "image/png": "[encoded data removed]",
            "text/plain": [
              "<Figure size 413.75x360 with 1 Axes>"
            ]
          },
          "metadata": {
            "needs_background": "light"
          }
        }
      ]
    },
    {
      "cell_type": "code",
      "metadata": {
        "colab": {
          "base_uri": "https://localhost:8080/",
          "height": 404
        },
        "id": "hq6Oge6inUeh",
        "outputId": "7d61648f-dc18-490f-a618-c5885eb46ed1"
      },
      "source": [
        "bar_cat(df1,'sex','status')\n",
        "# while most people dont suffer from hypothyroidism female count is larger than male\n",
        "# The unclassified gender is mostly negative"
      ],
      "execution_count": 54,
      "outputs": [
        {
          "output_type": "display_data",
          "data": {
            "text/plain": [
              "<Figure size 720x432 with 0 Axes>"
            ]
          },
          "metadata": {}
        },
        {
          "output_type": "display_data",
          "data": {
            "image/png": "[encoded data removed]",
            "text/plain": [
              "<Figure size 455.75x360 with 1 Axes>"
            ]
          },
          "metadata": {
            "needs_background": "light"
          }
        }
      ]
    },
    {
      "cell_type": "code",
      "metadata": {
        "colab": {
          "base_uri": "https://localhost:8080/",
          "height": 404
        },
        "id": "mh3MxZc3n_Jf",
        "outputId": "e2b2988e-af60-48b2-cc0e-355deafe810e"
      },
      "source": [
        "bar_cat(df1,'on_thyroxine','status')\n",
        "# People on thyroxine medication don't suffer hypothyroidism\n",
        "# However among the patients who are on thyroxine medication the smaller percentage suffers from hypothyroidism."
      ],
      "execution_count": 55,
      "outputs": [
        {
          "output_type": "display_data",
          "data": {
            "text/plain": [
              "<Figure size 720x432 with 0 Axes>"
            ]
          },
          "metadata": {}
        },
        {
          "output_type": "display_data",
          "data": {
            "image/png": "[encoded data removed]",
            "text/plain": [
              "<Figure size 455.75x360 with 1 Axes>"
            ]
          },
          "metadata": {
            "needs_background": "light"
          }
        }
      ]
    },
    {
      "cell_type": "code",
      "metadata": {
        "colab": {
          "base_uri": "https://localhost:8080/",
          "height": 404
        },
        "id": "7OQuWmNEpD9p",
        "outputId": "62bd25e1-cdc4-4fbe-e8d4-d9862ed0c2d2"
      },
      "source": [
        "bar_cat(df1,'on_antithyroid_medication','status')\n",
        "# T indicating true and f ,false, it is safe enough to note that patients who are on antithyroid medication dont suffer from hypothyroidism \n",
        "# In fact i would tend to think they take the antithyroid medicine because they suffer from HYPER-thyroidism (over reactive thyroid)\n",
        "# The patients who infact are not on the antithyroid medication dont suffer from hypothyroidism either. Avery smmall nummber of them suffer form hypothyroidism"
      ],
      "execution_count": 56,
      "outputs": [
        {
          "output_type": "display_data",
          "data": {
            "text/plain": [
              "<Figure size 720x432 with 0 Axes>"
            ]
          },
          "metadata": {}
        },
        {
          "output_type": "display_data",
          "data": {
            "image/png": "[encoded data removed]",
            "text/plain": [
              "<Figure size 455.75x360 with 1 Axes>"
            ]
          },
          "metadata": {
            "needs_background": "light"
          }
        }
      ]
    },
    {
      "cell_type": "code",
      "metadata": {
        "colab": {
          "base_uri": "https://localhost:8080/",
          "height": 404
        },
        "id": "M4traHFOrMGm",
        "outputId": "d277b98a-dfad-4c2d-aca2-c738a67dfb81"
      },
      "source": [
        "bar_cat(df1,'thyroid_surgery','status')\n",
        "# The most patients that have undergone thyroid surgery do not suffer from hypothyroidism and those who have undergone,very few also seem to test negative .\n",
        "# no patient who's undergone hyroid surgery tested positive for hypothyroidism"
      ],
      "execution_count": 57,
      "outputs": [
        {
          "output_type": "display_data",
          "data": {
            "text/plain": [
              "<Figure size 720x432 with 0 Axes>"
            ]
          },
          "metadata": {}
        },
        {
          "output_type": "display_data",
          "data": {
            "image/png": "[encoded data removed]",
            "text/plain": [
              "<Figure size 455.75x360 with 1 Axes>"
            ]
          },
          "metadata": {
            "needs_background": "light"
          }
        }
      ]
    },
    {
      "cell_type": "code",
      "metadata": {
        "colab": {
          "base_uri": "https://localhost:8080/"
        },
        "id": "eH-5zLagraof",
        "outputId": "ab6cdd3f-7bbd-41e3-9b1c-81d04e3b48cd"
      },
      "source": [
        "df1.columns"
      ],
      "execution_count": 58,
      "outputs": [
        {
          "output_type": "execute_result",
          "data": {
            "text/plain": [
              "Index(['status', 'age', 'sex', 'on_thyroxine', 'query_on_thyroxine',\n",
              "       'on_antithyroid_medication', 'thyroid_surgery', 'query_hypothyroid',\n",
              "       'query_hyperthyroid', 'pregnant', 'sick', 'tumor', 'lithium', 'goitre',\n",
              "       'TSH_measured', 'TSH', 'T3_measured', 'T3', 'TT4_measured', 'TT4',\n",
              "       'T4U_measured', 'T4U', 'FTI_measured', 'FTI', 'TBG_measured'],\n",
              "      dtype='object')"
            ]
          },
          "metadata": {},
          "execution_count": 58
        }
      ]
    },
    {
      "cell_type": "code",
      "metadata": {
        "colab": {
          "base_uri": "https://localhost:8080/",
          "height": 404
        },
        "id": "rqewzMgOrVIL",
        "outputId": "e7b6e380-bbcf-4dfa-8db4-48bb7be15767"
      },
      "source": [
        "bar_cat(df1,'pregnant','status')\n",
        "# There are very few pregnant patients and the pregnant ones seem to be populated around negative diagnosis for hypothyroidsm"
      ],
      "execution_count": 59,
      "outputs": [
        {
          "output_type": "display_data",
          "data": {
            "text/plain": [
              "<Figure size 720x432 with 0 Axes>"
            ]
          },
          "metadata": {}
        },
        {
          "output_type": "display_data",
          "data": {
            "image/png": "[encoded data removed]",
            "text/plain": [
              "<Figure size 455.75x360 with 1 Axes>"
            ]
          },
          "metadata": {
            "needs_background": "light"
          }
        }
      ]
    },
    {
      "cell_type": "code",
      "metadata": {
        "colab": {
          "base_uri": "https://localhost:8080/",
          "height": 404
        },
        "id": "4v9af0mirjk9",
        "outputId": "0b900645-6d20-461a-f478-6f59fe0679de"
      },
      "source": [
        "bar_cat(df1,'sick','status')\n",
        "# Very few poeple who were not sick tested positive for hypothyroidism\n",
        "# For the sick , most tested negative for hypothyroidism."
      ],
      "execution_count": 60,
      "outputs": [
        {
          "output_type": "display_data",
          "data": {
            "text/plain": [
              "<Figure size 720x432 with 0 Axes>"
            ]
          },
          "metadata": {}
        },
        {
          "output_type": "display_data",
          "data": {
            "image/png": "[encoded data removed]",
            "text/plain": [
              "<Figure size 455.75x360 with 1 Axes>"
            ]
          },
          "metadata": {
            "needs_background": "light"
          }
        }
      ]
    },
    {
      "cell_type": "code",
      "metadata": {
        "colab": {
          "base_uri": "https://localhost:8080/",
          "height": 404
        },
        "id": "8fR2Bhg8rrwx",
        "outputId": "2ca13dc4-465b-467f-c59a-be5bc2779025"
      },
      "source": [
        "bar_cat(df1,'tumor','status')\n",
        "# Most Patients with tumors tested negative for hypothyroidsm while those with no tumors were populated around negative diagnosis."
      ],
      "execution_count": 61,
      "outputs": [
        {
          "output_type": "display_data",
          "data": {
            "text/plain": [
              "<Figure size 720x432 with 0 Axes>"
            ]
          },
          "metadata": {}
        },
        {
          "output_type": "display_data",
          "data": {
            "image/png": "[encoded data removed]",
            "text/plain": [
              "<Figure size 455.75x360 with 1 Axes>"
            ]
          },
          "metadata": {
            "needs_background": "light"
          }
        }
      ]
    },
    {
      "cell_type": "code",
      "metadata": {
        "colab": {
          "base_uri": "https://localhost:8080/",
          "height": 404
        },
        "id": "onbuPVHMrwRJ",
        "outputId": "88965002-437f-425c-9cf2-32b471f38e4d"
      },
      "source": [
        "bar_cat(df1,'lithium','status')\n",
        "# neither positive or positive diagnosis was seen in patients on lithium and those who were not on lithium were populated around negative diagnosis"
      ],
      "execution_count": 62,
      "outputs": [
        {
          "output_type": "display_data",
          "data": {
            "text/plain": [
              "<Figure size 720x432 with 0 Axes>"
            ]
          },
          "metadata": {}
        },
        {
          "output_type": "display_data",
          "data": {
            "image/png": "[encoded data removed]",
            "text/plain": [
              "<Figure size 455.75x360 with 1 Axes>"
            ]
          },
          "metadata": {
            "needs_background": "light"
          }
        }
      ]
    },
    {
      "cell_type": "code",
      "metadata": {
        "colab": {
          "base_uri": "https://localhost:8080/",
          "height": 404
        },
        "id": "XZklG-lxr6sM",
        "outputId": "0f5efb9f-c617-4ac8-c6fa-4c0b3cae8cc5"
      },
      "source": [
        "bar_cat(df1,'goitre','status')"
      ],
      "execution_count": 63,
      "outputs": [
        {
          "output_type": "display_data",
          "data": {
            "text/plain": [
              "<Figure size 720x432 with 0 Axes>"
            ]
          },
          "metadata": {}
        },
        {
          "output_type": "display_data",
          "data": {
            "image/png": "[encoded data removed]",
            "text/plain": [
              "<Figure size 455.75x360 with 1 Axes>"
            ]
          },
          "metadata": {
            "needs_background": "light"
          }
        }
      ]
    },
    {
      "cell_type": "markdown",
      "metadata": {
        "id": "XrkO57cLzeKm"
      },
      "source": [
        "#### Outcomes"
      ]
    },
    {
      "cell_type": "markdown",
      "metadata": {
        "id": "FIlI8HnLsFWj"
      },
      "source": [
        "From the relationship between the different columns it is safe to note that:"
      ]
    },
    {
      "cell_type": "markdown",
      "metadata": {
        "id": "eQdF7fKFzCDk"
      },
      "source": [
        "### c.) Multivariate analysis"
      ]
    },
    {
      "cell_type": "code",
      "metadata": {
        "id": "EYYa2bZHzPIW"
      },
      "source": [
        "def barplots(data,col1,col2,col3):\n",
        "  plt.figure(figsize=(10,6))\n",
        "  sns.barplot(x=col1, y=col2,data=data,hue=col3,palette='Greens_r')\n",
        "  plt.title('The relationship between '+str(col1) +' , '+ str(col2) +' and '+str(col3),fontsize=15)\n",
        "  plt.show()"
      ],
      "execution_count": 64,
      "outputs": []
    },
    {
      "cell_type": "code",
      "metadata": {
        "colab": {
          "base_uri": "https://localhost:8080/",
          "height": 406
        },
        "id": "g_E53U7os0ML",
        "outputId": "59afa42a-dec2-43c4-d622-48281082c32a"
      },
      "source": [
        "barplots(df1,'sex','age','status')"
      ],
      "execution_count": 65,
      "outputs": [
        {
          "output_type": "display_data",
          "data": {
            "image/png": "[encoded data removed]",
            "text/plain": [
              "<Figure size 720x432 with 1 Axes>"
            ]
          },
          "metadata": {
            "needs_background": "light"
          }
        }
      ]
    },
    {
      "cell_type": "markdown",
      "metadata": {
        "id": "JpDkIgTOzryh"
      },
      "source": [
        "## 7. Feature Engineering"
      ]
    },
    {
      "cell_type": "markdown",
      "metadata": {
        "id": "1INC-Oj5yTGS"
      },
      "source": [
        "Encoding and reduction techniques"
      ]
    },
    {
      "cell_type": "code",
      "metadata": {
        "colab": {
          "base_uri": "https://localhost:8080/"
        },
        "id": "9LgbOzKCySYt",
        "outputId": "21595b79-7f02-4d3d-b80f-f21c84a8c1c0"
      },
      "source": [
        "# Encoding the categorical columns to prepare them for analysis\n",
        "le=LabelEncoder()\n",
        "Cols=['status', 'sex', 'on_thyroxine', 'query_on_thyroxine',\n",
        "       'on_antithyroid_medication', 'thyroid_surgery', 'query_hypothyroid',\n",
        "       'query_hyperthyroid', 'pregnant', 'sick', 'tumor', 'lithium', 'goitre',\n",
        "       'TSH_measured', 'T3_measured', 'TT4_measured','T4U_measured', 'FTI_measured', 'TBG_measured']\n",
        "for i in Cols:\n",
        "  le.fit(df1[i])\n",
        "  df1[i]=le.transform(df1[i])\n",
        "df1\n",
        "df1.dtypes\n",
        "# Label w=enciding them all at once was because they didnt have numerous classes thus true is given a value of 1 and false 0 ,yes is given a value one and no 0 while male and female are given 0 and one respectively."
      ],
      "execution_count": 66,
      "outputs": [
        {
          "output_type": "execute_result",
          "data": {
            "text/plain": [
              "status                         int64\n",
              "age                          float64\n",
              "sex                            int64\n",
              "on_thyroxine                   int64\n",
              "query_on_thyroxine             int64\n",
              "on_antithyroid_medication      int64\n",
              "thyroid_surgery                int64\n",
              "query_hypothyroid              int64\n",
              "query_hyperthyroid             int64\n",
              "pregnant                       int64\n",
              "sick                           int64\n",
              "tumor                          int64\n",
              "lithium                        int64\n",
              "goitre                         int64\n",
              "TSH_measured                   int64\n",
              "TSH                          float64\n",
              "T3_measured                    int64\n",
              "T3                           float64\n",
              "TT4_measured                   int64\n",
              "TT4                          float64\n",
              "T4U_measured                   int64\n",
              "T4U                          float64\n",
              "FTI_measured                   int64\n",
              "FTI                          float64\n",
              "TBG_measured                   int64\n",
              "dtype: object"
            ]
          },
          "metadata": {},
          "execution_count": 66
        }
      ]
    },
    {
      "cell_type": "code",
      "metadata": {
        "colab": {
          "base_uri": "https://localhost:8080/",
          "height": 224
        },
        "id": "3F3UanLOvuaP",
        "outputId": "a725a1a9-eda1-4686-c174-75565d5b2ef3"
      },
      "source": [
        "# Data preparation for modeling\n",
        "df1.head()\n",
        "# Confirmed and readi for preprocessing"
      ],
      "execution_count": 67,
      "outputs": [
        {
          "output_type": "execute_result",
          "data": {
            "text/html": [
              "<div>\n",
              "<style scoped>\n",
              "    .dataframe tbody tr th:only-of-type {\n",
              "        vertical-align: middle;\n",
              "    }\n",
              "\n",
              "    .dataframe tbody tr th {\n",
              "        vertical-align: top;\n",
              "    }\n",
              "\n",
              "    .dataframe thead th {\n",
              "        text-align: right;\n",
              "    }\n",
              "</style>\n",
              "<table border=\"1\" class=\"dataframe\">\n",
              "  <thead>\n",
              "    <tr style=\"text-align: right;\">\n",
              "      <th></th>\n",
              "      <th>status</th>\n",
              "      <th>age</th>\n",
              "      <th>sex</th>\n",
              "      <th>on_thyroxine</th>\n",
              "      <th>query_on_thyroxine</th>\n",
              "      <th>on_antithyroid_medication</th>\n",
              "      <th>thyroid_surgery</th>\n",
              "      <th>query_hypothyroid</th>\n",
              "      <th>query_hyperthyroid</th>\n",
              "      <th>pregnant</th>\n",
              "      <th>sick</th>\n",
              "      <th>tumor</th>\n",
              "      <th>lithium</th>\n",
              "      <th>goitre</th>\n",
              "      <th>TSH_measured</th>\n",
              "      <th>TSH</th>\n",
              "      <th>T3_measured</th>\n",
              "      <th>T3</th>\n",
              "      <th>TT4_measured</th>\n",
              "      <th>TT4</th>\n",
              "      <th>T4U_measured</th>\n",
              "      <th>T4U</th>\n",
              "      <th>FTI_measured</th>\n",
              "      <th>FTI</th>\n",
              "      <th>TBG_measured</th>\n",
              "    </tr>\n",
              "  </thead>\n",
              "  <tbody>\n",
              "    <tr>\n",
              "      <th>0</th>\n",
              "      <td>0</td>\n",
              "      <td>72.0</td>\n",
              "      <td>2</td>\n",
              "      <td>0</td>\n",
              "      <td>0</td>\n",
              "      <td>0</td>\n",
              "      <td>0</td>\n",
              "      <td>0</td>\n",
              "      <td>0</td>\n",
              "      <td>0</td>\n",
              "      <td>0</td>\n",
              "      <td>0</td>\n",
              "      <td>0</td>\n",
              "      <td>0</td>\n",
              "      <td>1</td>\n",
              "      <td>30.0</td>\n",
              "      <td>1</td>\n",
              "      <td>0.6</td>\n",
              "      <td>1</td>\n",
              "      <td>15.0</td>\n",
              "      <td>1</td>\n",
              "      <td>1.48</td>\n",
              "      <td>1</td>\n",
              "      <td>10.0</td>\n",
              "      <td>0</td>\n",
              "    </tr>\n",
              "    <tr>\n",
              "      <th>1</th>\n",
              "      <td>0</td>\n",
              "      <td>15.0</td>\n",
              "      <td>0</td>\n",
              "      <td>1</td>\n",
              "      <td>0</td>\n",
              "      <td>0</td>\n",
              "      <td>0</td>\n",
              "      <td>0</td>\n",
              "      <td>0</td>\n",
              "      <td>0</td>\n",
              "      <td>0</td>\n",
              "      <td>0</td>\n",
              "      <td>0</td>\n",
              "      <td>0</td>\n",
              "      <td>1</td>\n",
              "      <td>145.0</td>\n",
              "      <td>1</td>\n",
              "      <td>1.7</td>\n",
              "      <td>1</td>\n",
              "      <td>19.0</td>\n",
              "      <td>1</td>\n",
              "      <td>1.13</td>\n",
              "      <td>1</td>\n",
              "      <td>17.0</td>\n",
              "      <td>0</td>\n",
              "    </tr>\n",
              "    <tr>\n",
              "      <th>2</th>\n",
              "      <td>0</td>\n",
              "      <td>24.0</td>\n",
              "      <td>2</td>\n",
              "      <td>0</td>\n",
              "      <td>0</td>\n",
              "      <td>0</td>\n",
              "      <td>0</td>\n",
              "      <td>0</td>\n",
              "      <td>0</td>\n",
              "      <td>0</td>\n",
              "      <td>0</td>\n",
              "      <td>0</td>\n",
              "      <td>0</td>\n",
              "      <td>0</td>\n",
              "      <td>1</td>\n",
              "      <td>0.0</td>\n",
              "      <td>1</td>\n",
              "      <td>0.2</td>\n",
              "      <td>1</td>\n",
              "      <td>4.0</td>\n",
              "      <td>1</td>\n",
              "      <td>1.00</td>\n",
              "      <td>1</td>\n",
              "      <td>0.0</td>\n",
              "      <td>0</td>\n",
              "    </tr>\n",
              "    <tr>\n",
              "      <th>3</th>\n",
              "      <td>0</td>\n",
              "      <td>24.0</td>\n",
              "      <td>0</td>\n",
              "      <td>0</td>\n",
              "      <td>0</td>\n",
              "      <td>0</td>\n",
              "      <td>0</td>\n",
              "      <td>0</td>\n",
              "      <td>0</td>\n",
              "      <td>0</td>\n",
              "      <td>0</td>\n",
              "      <td>0</td>\n",
              "      <td>0</td>\n",
              "      <td>0</td>\n",
              "      <td>1</td>\n",
              "      <td>430.0</td>\n",
              "      <td>1</td>\n",
              "      <td>0.4</td>\n",
              "      <td>1</td>\n",
              "      <td>6.0</td>\n",
              "      <td>1</td>\n",
              "      <td>1.04</td>\n",
              "      <td>1</td>\n",
              "      <td>6.0</td>\n",
              "      <td>0</td>\n",
              "    </tr>\n",
              "    <tr>\n",
              "      <th>4</th>\n",
              "      <td>0</td>\n",
              "      <td>77.0</td>\n",
              "      <td>2</td>\n",
              "      <td>0</td>\n",
              "      <td>0</td>\n",
              "      <td>0</td>\n",
              "      <td>0</td>\n",
              "      <td>0</td>\n",
              "      <td>0</td>\n",
              "      <td>0</td>\n",
              "      <td>0</td>\n",
              "      <td>0</td>\n",
              "      <td>0</td>\n",
              "      <td>0</td>\n",
              "      <td>1</td>\n",
              "      <td>7.3</td>\n",
              "      <td>1</td>\n",
              "      <td>1.2</td>\n",
              "      <td>1</td>\n",
              "      <td>57.0</td>\n",
              "      <td>1</td>\n",
              "      <td>1.28</td>\n",
              "      <td>1</td>\n",
              "      <td>44.0</td>\n",
              "      <td>0</td>\n",
              "    </tr>\n",
              "  </tbody>\n",
              "</table>\n",
              "</div>"
            ],
            "text/plain": [
              "   status   age  sex  on_thyroxine  ...   T4U  FTI_measured   FTI  TBG_measured\n",
              "0       0  72.0    2             0  ...  1.48             1  10.0             0\n",
              "1       0  15.0    0             1  ...  1.13             1  17.0             0\n",
              "2       0  24.0    2             0  ...  1.00             1   0.0             0\n",
              "3       0  24.0    0             0  ...  1.04             1   6.0             0\n",
              "4       0  77.0    2             0  ...  1.28             1  44.0             0\n",
              "\n",
              "[5 rows x 25 columns]"
            ]
          },
          "metadata": {},
          "execution_count": 67
        }
      ]
    },
    {
      "cell_type": "markdown",
      "metadata": {
        "id": "d7wNwIZ4z4j7"
      },
      "source": [
        "## 8. Implementing the solution"
      ]
    },
    {
      "cell_type": "markdown",
      "metadata": {
        "id": "VTNhPo6VPsPg"
      },
      "source": [
        "#### Checking for multicorlinearlity"
      ]
    },
    {
      "cell_type": "code",
      "metadata": {
        "colab": {
          "base_uri": "https://localhost:8080/",
          "height": 793
        },
        "id": "Ce81Q9hIP09s",
        "outputId": "362cbc2a-f355-4b9f-c5d9-ffc94ece1559"
      },
      "source": [
        "# Data preparation\n",
        "# Features to be used in predictions as predictors\n",
        "X_feat=df1.drop(columns=['status'],axis=1)\n",
        "# X_feat will be used whien checcking the specific columns used in the trees\n",
        "X=X_feat.values\n",
        "X\n",
        "# Extracting the target variable\n",
        "Y_label=df1['status']\n",
        "Y=Y_label.values\n",
        "Y\n",
        "# Calculating the Variance inflation factor of the specific columns\n",
        "vif = pd.DataFrame()\n",
        "vif[\"VIF Factor\"] = [variance_inflation_factor(X_feat.values, i) for i in range(X_feat.shape[1])]\n",
        "vif[\"features\"] = X_feat.columns\n",
        "vif\n"
      ],
      "execution_count": 68,
      "outputs": [
        {
          "output_type": "execute_result",
          "data": {
            "text/html": [
              "<div>\n",
              "<style scoped>\n",
              "    .dataframe tbody tr th:only-of-type {\n",
              "        vertical-align: middle;\n",
              "    }\n",
              "\n",
              "    .dataframe tbody tr th {\n",
              "        vertical-align: top;\n",
              "    }\n",
              "\n",
              "    .dataframe thead th {\n",
              "        text-align: right;\n",
              "    }\n",
              "</style>\n",
              "<table border=\"1\" class=\"dataframe\">\n",
              "  <thead>\n",
              "    <tr style=\"text-align: right;\">\n",
              "      <th></th>\n",
              "      <th>VIF Factor</th>\n",
              "      <th>features</th>\n",
              "    </tr>\n",
              "  </thead>\n",
              "  <tbody>\n",
              "    <tr>\n",
              "      <th>0</th>\n",
              "      <td>10.396948</td>\n",
              "      <td>age</td>\n",
              "    </tr>\n",
              "    <tr>\n",
              "      <th>1</th>\n",
              "      <td>1.605894</td>\n",
              "      <td>sex</td>\n",
              "    </tr>\n",
              "    <tr>\n",
              "      <th>2</th>\n",
              "      <td>1.386858</td>\n",
              "      <td>on_thyroxine</td>\n",
              "    </tr>\n",
              "    <tr>\n",
              "      <th>3</th>\n",
              "      <td>1.070623</td>\n",
              "      <td>query_on_thyroxine</td>\n",
              "    </tr>\n",
              "    <tr>\n",
              "      <th>4</th>\n",
              "      <td>1.044035</td>\n",
              "      <td>on_antithyroid_medication</td>\n",
              "    </tr>\n",
              "    <tr>\n",
              "      <th>5</th>\n",
              "      <td>1.046933</td>\n",
              "      <td>thyroid_surgery</td>\n",
              "    </tr>\n",
              "    <tr>\n",
              "      <th>6</th>\n",
              "      <td>1.116168</td>\n",
              "      <td>query_hypothyroid</td>\n",
              "    </tr>\n",
              "    <tr>\n",
              "      <th>7</th>\n",
              "      <td>1.188514</td>\n",
              "      <td>query_hyperthyroid</td>\n",
              "    </tr>\n",
              "    <tr>\n",
              "      <th>8</th>\n",
              "      <td>1.175280</td>\n",
              "      <td>pregnant</td>\n",
              "    </tr>\n",
              "    <tr>\n",
              "      <th>9</th>\n",
              "      <td>1.062140</td>\n",
              "      <td>sick</td>\n",
              "    </tr>\n",
              "    <tr>\n",
              "      <th>10</th>\n",
              "      <td>1.056331</td>\n",
              "      <td>tumor</td>\n",
              "    </tr>\n",
              "    <tr>\n",
              "      <th>11</th>\n",
              "      <td>1.005712</td>\n",
              "      <td>lithium</td>\n",
              "    </tr>\n",
              "    <tr>\n",
              "      <th>12</th>\n",
              "      <td>1.077018</td>\n",
              "      <td>goitre</td>\n",
              "    </tr>\n",
              "    <tr>\n",
              "      <th>13</th>\n",
              "      <td>17.607692</td>\n",
              "      <td>TSH_measured</td>\n",
              "    </tr>\n",
              "    <tr>\n",
              "      <th>14</th>\n",
              "      <td>1.273330</td>\n",
              "      <td>TSH</td>\n",
              "    </tr>\n",
              "    <tr>\n",
              "      <th>15</th>\n",
              "      <td>8.787541</td>\n",
              "      <td>T3_measured</td>\n",
              "    </tr>\n",
              "    <tr>\n",
              "      <th>16</th>\n",
              "      <td>9.951141</td>\n",
              "      <td>T3</td>\n",
              "    </tr>\n",
              "    <tr>\n",
              "      <th>17</th>\n",
              "      <td>2865.778362</td>\n",
              "      <td>TT4_measured</td>\n",
              "    </tr>\n",
              "    <tr>\n",
              "      <th>18</th>\n",
              "      <td>33.978273</td>\n",
              "      <td>TT4</td>\n",
              "    </tr>\n",
              "    <tr>\n",
              "      <th>19</th>\n",
              "      <td>5798.765599</td>\n",
              "      <td>T4U_measured</td>\n",
              "    </tr>\n",
              "    <tr>\n",
              "      <th>20</th>\n",
              "      <td>54.190781</td>\n",
              "      <td>T4U</td>\n",
              "    </tr>\n",
              "    <tr>\n",
              "      <th>21</th>\n",
              "      <td>2984.902618</td>\n",
              "      <td>FTI_measured</td>\n",
              "    </tr>\n",
              "    <tr>\n",
              "      <th>22</th>\n",
              "      <td>18.861130</td>\n",
              "      <td>FTI</td>\n",
              "    </tr>\n",
              "    <tr>\n",
              "      <th>23</th>\n",
              "      <td>3.568382</td>\n",
              "      <td>TBG_measured</td>\n",
              "    </tr>\n",
              "  </tbody>\n",
              "</table>\n",
              "</div>"
            ],
            "text/plain": [
              "     VIF Factor                   features\n",
              "0     10.396948                        age\n",
              "1      1.605894                        sex\n",
              "2      1.386858               on_thyroxine\n",
              "3      1.070623         query_on_thyroxine\n",
              "4      1.044035  on_antithyroid_medication\n",
              "5      1.046933            thyroid_surgery\n",
              "6      1.116168          query_hypothyroid\n",
              "7      1.188514         query_hyperthyroid\n",
              "8      1.175280                   pregnant\n",
              "9      1.062140                       sick\n",
              "10     1.056331                      tumor\n",
              "11     1.005712                    lithium\n",
              "12     1.077018                     goitre\n",
              "13    17.607692               TSH_measured\n",
              "14     1.273330                        TSH\n",
              "15     8.787541                T3_measured\n",
              "16     9.951141                         T3\n",
              "17  2865.778362               TT4_measured\n",
              "18    33.978273                        TT4\n",
              "19  5798.765599               T4U_measured\n",
              "20    54.190781                        T4U\n",
              "21  2984.902618               FTI_measured\n",
              "22    18.861130                        FTI\n",
              "23     3.568382               TBG_measured"
            ]
          },
          "metadata": {},
          "execution_count": 68
        }
      ]
    },
    {
      "cell_type": "markdown",
      "metadata": {
        "id": "CihbX9lLULdH"
      },
      "source": [
        "As expected and seen in the corlinearlity check, Thyroxine (T4U) and Free thyroxine index (FTI) have a high vif because they seem to explain similar variance within the dataset. on the removal of one of the column we will see the change in the vif of the set to avoid an instance of multicorlinearlity in training."
      ]
    },
    {
      "cell_type": "markdown",
      "metadata": {
        "id": "lDuEEi-UZt24"
      },
      "source": [
        "#####  Will drop the columns until most features have a VIF of below 10"
      ]
    },
    {
      "cell_type": "code",
      "metadata": {
        "colab": {
          "base_uri": "https://localhost:8080/",
          "height": 607
        },
        "id": "kVMKgRAHUKEb",
        "outputId": "d4db1a73-1072-432d-92b5-761a8c3a447c"
      },
      "source": [
        "# Removing measurements exhibiting high vif as they explain the same variance within the set\n",
        "X_feat2=X_feat.drop(columns=['T4U_measured','T4U_measured','TT4_measured','TSH_measured','FTI_measured','TT4','T4U'],axis=1)\n",
        "X_feat2\n",
        "# Recheking the vif of the same set.\n",
        "X1=X_feat2.values\n",
        "X1\n",
        "vif = pd.DataFrame()\n",
        "vif[\"VIF Factor\"] = [variance_inflation_factor(X_feat2.values, i) for i in range(X_feat2.shape[1])]\n",
        "vif[\"features\"] = X_feat2.columns\n",
        "vif"
      ],
      "execution_count": 69,
      "outputs": [
        {
          "output_type": "execute_result",
          "data": {
            "text/html": [
              "<div>\n",
              "<style scoped>\n",
              "    .dataframe tbody tr th:only-of-type {\n",
              "        vertical-align: middle;\n",
              "    }\n",
              "\n",
              "    .dataframe tbody tr th {\n",
              "        vertical-align: top;\n",
              "    }\n",
              "\n",
              "    .dataframe thead th {\n",
              "        text-align: right;\n",
              "    }\n",
              "</style>\n",
              "<table border=\"1\" class=\"dataframe\">\n",
              "  <thead>\n",
              "    <tr style=\"text-align: right;\">\n",
              "      <th></th>\n",
              "      <th>VIF Factor</th>\n",
              "      <th>features</th>\n",
              "    </tr>\n",
              "  </thead>\n",
              "  <tbody>\n",
              "    <tr>\n",
              "      <th>0</th>\n",
              "      <td>6.627495</td>\n",
              "      <td>age</td>\n",
              "    </tr>\n",
              "    <tr>\n",
              "      <th>1</th>\n",
              "      <td>1.490597</td>\n",
              "      <td>sex</td>\n",
              "    </tr>\n",
              "    <tr>\n",
              "      <th>2</th>\n",
              "      <td>1.266622</td>\n",
              "      <td>on_thyroxine</td>\n",
              "    </tr>\n",
              "    <tr>\n",
              "      <th>3</th>\n",
              "      <td>1.036459</td>\n",
              "      <td>query_on_thyroxine</td>\n",
              "    </tr>\n",
              "    <tr>\n",
              "      <th>4</th>\n",
              "      <td>1.041629</td>\n",
              "      <td>on_antithyroid_medication</td>\n",
              "    </tr>\n",
              "    <tr>\n",
              "      <th>5</th>\n",
              "      <td>1.040295</td>\n",
              "      <td>thyroid_surgery</td>\n",
              "    </tr>\n",
              "    <tr>\n",
              "      <th>6</th>\n",
              "      <td>1.105400</td>\n",
              "      <td>query_hypothyroid</td>\n",
              "    </tr>\n",
              "    <tr>\n",
              "      <th>7</th>\n",
              "      <td>1.166300</td>\n",
              "      <td>query_hyperthyroid</td>\n",
              "    </tr>\n",
              "    <tr>\n",
              "      <th>8</th>\n",
              "      <td>1.098066</td>\n",
              "      <td>pregnant</td>\n",
              "    </tr>\n",
              "    <tr>\n",
              "      <th>9</th>\n",
              "      <td>1.058501</td>\n",
              "      <td>sick</td>\n",
              "    </tr>\n",
              "    <tr>\n",
              "      <th>10</th>\n",
              "      <td>1.021113</td>\n",
              "      <td>tumor</td>\n",
              "    </tr>\n",
              "    <tr>\n",
              "      <th>11</th>\n",
              "      <td>1.004202</td>\n",
              "      <td>lithium</td>\n",
              "    </tr>\n",
              "    <tr>\n",
              "      <th>12</th>\n",
              "      <td>1.075893</td>\n",
              "      <td>goitre</td>\n",
              "    </tr>\n",
              "    <tr>\n",
              "      <th>13</th>\n",
              "      <td>1.105376</td>\n",
              "      <td>TSH</td>\n",
              "    </tr>\n",
              "    <tr>\n",
              "      <th>14</th>\n",
              "      <td>5.993470</td>\n",
              "      <td>T3_measured</td>\n",
              "    </tr>\n",
              "    <tr>\n",
              "      <th>15</th>\n",
              "      <td>5.705368</td>\n",
              "      <td>T3</td>\n",
              "    </tr>\n",
              "    <tr>\n",
              "      <th>16</th>\n",
              "      <td>5.372977</td>\n",
              "      <td>FTI</td>\n",
              "    </tr>\n",
              "    <tr>\n",
              "      <th>17</th>\n",
              "      <td>1.315306</td>\n",
              "      <td>TBG_measured</td>\n",
              "    </tr>\n",
              "  </tbody>\n",
              "</table>\n",
              "</div>"
            ],
            "text/plain": [
              "    VIF Factor                   features\n",
              "0     6.627495                        age\n",
              "1     1.490597                        sex\n",
              "2     1.266622               on_thyroxine\n",
              "3     1.036459         query_on_thyroxine\n",
              "4     1.041629  on_antithyroid_medication\n",
              "5     1.040295            thyroid_surgery\n",
              "6     1.105400          query_hypothyroid\n",
              "7     1.166300         query_hyperthyroid\n",
              "8     1.098066                   pregnant\n",
              "9     1.058501                       sick\n",
              "10    1.021113                      tumor\n",
              "11    1.004202                    lithium\n",
              "12    1.075893                     goitre\n",
              "13    1.105376                        TSH\n",
              "14    5.993470                T3_measured\n",
              "15    5.705368                         T3\n",
              "16    5.372977                        FTI\n",
              "17    1.315306               TBG_measured"
            ]
          },
          "metadata": {},
          "execution_count": 69
        }
      ]
    },
    {
      "cell_type": "markdown",
      "metadata": {
        "id": "-V0xyNXcDMqD"
      },
      "source": [
        "Logistic Regression and Tree based algorithms such as Decision Tree, Random forest and gradient boosting, are not sensitive to the magnitude of variables. So standardization is not needed before fitting this kind of models"
      ]
    },
    {
      "cell_type": "markdown",
      "metadata": {
        "id": "DfmX_ISfz_Vs"
      },
      "source": [
        "### Model"
      ]
    },
    {
      "cell_type": "markdown",
      "metadata": {
        "id": "Ej49yr490Era"
      },
      "source": [
        "#### Baseline model:"
      ]
    },
    {
      "cell_type": "markdown",
      "metadata": {
        "id": "hIgXMFzMDfVe"
      },
      "source": [
        "1.Random Forest"
      ]
    },
    {
      "cell_type": "code",
      "metadata": {
        "colab": {
          "base_uri": "https://localhost:8080/"
        },
        "id": "OJjQdtnfz-gE",
        "outputId": "516f0de4-4a3c-4eb6-892d-e3a5dd32a6d3"
      },
      "source": [
        "#Using random forests as my baseline model\n",
        "X_train,X_test,Y_train,Y_test=train_test_split(X1,Y, test_size=0.2,random_state=1)\n",
        "#Instantiating my model\n",
        "forest=RandomForestClassifier(n_estimators=100,random_state=42,max_depth=6)\n",
        "#Fitting my model\n",
        "forest=forest.fit(X_train,Y_train)\n",
        "# Predicting the results of my model\n",
        "Y_forest_pred=forest.predict(X_test)\n",
        "# Evaluating the model using accuracy score\n",
        "ac=accuracy_score(Y_test,Y_forest_pred)\n",
        "cm=confusion_matrix(Y_test,Y_forest_pred)\n",
        "cr=classification_report(Y_test,Y_forest_pred)\n",
        "# Printing the evaluations\n",
        "print(ac)\n",
        "print(cm)\n",
        "print(cr)"
      ],
      "execution_count": 70,
      "outputs": [
        {
          "output_type": "stream",
          "name": "stdout",
          "text": [
            "0.9751243781094527\n",
            "[[ 20  11]\n",
            " [  4 568]]\n",
            "              precision    recall  f1-score   support\n",
            "\n",
            "           0       0.83      0.65      0.73        31\n",
            "           1       0.98      0.99      0.99       572\n",
            "\n",
            "    accuracy                           0.98       603\n",
            "   macro avg       0.91      0.82      0.86       603\n",
            "weighted avg       0.97      0.98      0.97       603\n",
            "\n"
          ]
        }
      ]
    },
    {
      "cell_type": "markdown",
      "metadata": {
        "id": "YiEw6YxrMoW7"
      },
      "source": [
        "My model attained 97% accuracy , with 20 true positives and 568 true negative, this can be attributed to the influx in non-hypothyroidic patients in our samples. WE can not ignore the fact that there were still 11 false negatives and 4 false positive and an accuracy of 97% indicates a case of over fitting.\n",
        "With a presicion of 98 % for diagnosing hypothyroidism i will optimize my model using (hyperparameter tuning) to ensure the parameters used are fit for the  model."
      ]
    },
    {
      "cell_type": "markdown",
      "metadata": {
        "id": "ZieI-_8EOT76"
      },
      "source": [
        "### Hyperparameter Tuning"
      ]
    },
    {
      "cell_type": "code",
      "metadata": {
        "colab": {
          "base_uri": "https://localhost:8080/"
        },
        "id": "QAT1r0nJOXyJ",
        "outputId": "c7179f8d-46ba-4a0c-bc66-4bdb26df2147"
      },
      "source": [
        "# Using Grid search to obtain the besst params to have the best performing model.\n",
        "# Obtaining the parameters that need to be tuned\n",
        "forest.get_params()"
      ],
      "execution_count": 71,
      "outputs": [
        {
          "output_type": "execute_result",
          "data": {
            "text/plain": [
              "{'bootstrap': True,\n",
              " 'ccp_alpha': 0.0,\n",
              " 'class_weight': None,\n",
              " 'criterion': 'gini',\n",
              " 'max_depth': 6,\n",
              " 'max_features': 'auto',\n",
              " 'max_leaf_nodes': None,\n",
              " 'max_samples': None,\n",
              " 'min_impurity_decrease': 0.0,\n",
              " 'min_impurity_split': None,\n",
              " 'min_samples_leaf': 1,\n",
              " 'min_samples_split': 2,\n",
              " 'min_weight_fraction_leaf': 0.0,\n",
              " 'n_estimators': 100,\n",
              " 'n_jobs': None,\n",
              " 'oob_score': False,\n",
              " 'random_state': 42,\n",
              " 'verbose': 0,\n",
              " 'warm_start': False}"
            ]
          },
          "metadata": {},
          "execution_count": 71
        }
      ]
    },
    {
      "cell_type": "code",
      "metadata": {
        "id": "t6emDTnlX8FG"
      },
      "source": [
        "# Using Grid search to obtain the best parameters to perform tuning\n",
        "\n",
        "# Create a based model\n",
        "\n",
        "rf = RandomForestClassifier()\n",
        "#Obtaining the param grig\n",
        "param_grid = {\n",
        "    'bootstrap': [True],\n",
        "    'max_depth': [3, 5, 10, 15],\n",
        "    'max_features': [2, 3],\n",
        "    'min_samples_leaf': [3, 4, 5],\n",
        "    'min_samples_split': [8, 10, 12],\n",
        "    'n_estimators': [100, 200, 300]}\n",
        "\n",
        "# Using ROC_AUC score to check the performance of the model and its ability to distringuish between classes since they are binary\n",
        "forest_search=GridSearchCV(estimator=rf,\n",
        "                           param_grid=param_grid,\n",
        "                           scoring='accuracy',\n",
        "                           n_jobs=1,cv=3)\n",
        "# Fitting the model\n",
        "forest_search.fit(X_train,Y_train)\n",
        "# # Obtaining the best model/estimator\n",
        "best_model=forest_search.best_estimator_\n",
        "# Making predictions using the best model\n",
        "Y_search_pred=best_model.predict(X_test)\n"
      ],
      "execution_count": 72,
      "outputs": []
    },
    {
      "cell_type": "code",
      "metadata": {
        "colab": {
          "base_uri": "https://localhost:8080/"
        },
        "id": "MdAEw-PmfPzX",
        "outputId": "656f34e3-c013-4a60-dfb5-1e2c8a988888"
      },
      "source": [
        "# # Getting the accuracy score\n",
        "ac_search=accuracy_score(Y_test, Y_search_pred)\n",
        "cm_search=confusion_matrix(Y_test,Y_search_pred)\n",
        "cr_search=classification_report(Y_test,Y_search_pred)\n",
        "# Printing the evaluations\n",
        "print(ac_search)\n",
        "print(cm_search)\n",
        "print(cr_search)"
      ],
      "execution_count": 73,
      "outputs": [
        {
          "output_type": "stream",
          "name": "stdout",
          "text": [
            "0.9800995024875622\n",
            "[[ 23   8]\n",
            " [  4 568]]\n",
            "              precision    recall  f1-score   support\n",
            "\n",
            "           0       0.85      0.74      0.79        31\n",
            "           1       0.99      0.99      0.99       572\n",
            "\n",
            "    accuracy                           0.98       603\n",
            "   macro avg       0.92      0.87      0.89       603\n",
            "weighted avg       0.98      0.98      0.98       603\n",
            "\n"
          ]
        }
      ]
    },
    {
      "cell_type": "markdown",
      "metadata": {
        "id": "FO8ygrJSkKLd"
      },
      "source": [
        "My model attained approximately 98% accuracy , with 22 true positives and 568 true negatives, this can be attributed to the influx in non-hypothyroidic patients in our samples. It is important to note that the number of false negatives reduced from the 11 in the random forest to 9 the number of false positives is the same as the random forests and that kind of accuracy is an alart, for over fitting.\n",
        "The precision for predicting positives is greater than that of negatives . This model is performing much better than the random forest. "
      ]
    },
    {
      "cell_type": "markdown",
      "metadata": {
        "id": "dpk1NCD4_fkI"
      },
      "source": [
        "Forest vizual"
      ]
    },
    {
      "cell_type": "code",
      "metadata": {
        "colab": {
          "base_uri": "https://localhost:8080/",
          "height": 1000
        },
        "id": "mGHkufNi_e0d",
        "outputId": "6f7ff7ff-95b5-4ab5-f51c-f7e8fa02826a"
      },
      "source": [
        "trees=best_model.estimators_[50]\n",
        "# Vizualizing the random forest\n",
        "from sklearn import tree\n",
        "import graphviz\n",
        "my_forest=export_graphviz(trees,\n",
        "                               max_depth=5,\n",
        "                               feature_names=X_feat2.columns,\n",
        "                               class_names=['hypothyroid','negative'],filled=True)\n",
        "graph=graphviz.Source(my_forest,format='png')\n",
        "\n",
        "graph"
      ],
      "execution_count": 104,
      "outputs": [
        {
          "output_type": "execute_result",
          "data": {
            "text/plain": [
              "<graphviz.files.Source at 0x7fc4f97a8e90>"
            ],
            "image/svg+xml": "<?xml version=\"1.0\" encoding=\"UTF-8\" standalone=\"no\"?>\n<!DOCTYPE svg PUBLIC \"-//W3C//DTD SVG 1.1//EN\"\n \"http://www.w3.org/Graphics/SVG/1.1/DTD/svg11.dtd\">\n<!-- Generated by graphviz version 2.40.1 (20161225.0304)\n -->\n<!-- Title: Tree Pages: 1 -->\n<svg width=\"1345pt\" height=\"758pt\"\n viewBox=\"0.00 0.00 1345.00 758.00\" xmlns=\"http://www.w3.org/2000/svg\" xmlns:xlink=\"http://www.w3.org/1999/xlink\">\n<g id=\"graph0\" class=\"graph\" transform=\"scale(1 1) rotate(0) translate(4 754)\">\n<title>Tree</title>\n<polygon fill=\"#ffffff\" stroke=\"transparent\" points=\"-4,4 -4,-754 1341,-754 1341,4 -4,4\"/>\n<!-- 0 -->\n<g id=\"node1\" class=\"node\">\n<title>0</title>\n<polygon fill=\"#41a1e6\" stroke=\"#000000\" points=\"740,-750 615,-750 615,-667 740,-667 740,-750\"/>\n<text text-anchor=\"middle\" x=\"677.5\" y=\"-734.8\" font-family=\"Times,serif\" font-size=\"14.00\" fill=\"#000000\">age &lt;= 59.5</text>\n<text text-anchor=\"middle\" x=\"677.5\" y=\"-719.8\" font-family=\"Times,serif\" font-size=\"14.00\" fill=\"#000000\">gini = 0.078</text>\n<text text-anchor=\"middle\" x=\"677.5\" y=\"-704.8\" font-family=\"Times,serif\" font-size=\"14.00\" fill=\"#000000\">samples = 1521</text>\n<text text-anchor=\"middle\" x=\"677.5\" y=\"-689.8\" font-family=\"Times,serif\" font-size=\"14.00\" fill=\"#000000\">value = [98, 2310]</text>\n<text text-anchor=\"middle\" x=\"677.5\" y=\"-674.8\" font-family=\"Times,serif\" font-size=\"14.00\" fill=\"#000000\">class = negative</text>\n</g>\n<!-- 1 -->\n<g id=\"node2\" class=\"node\">\n<title>1</title>\n<polygon fill=\"#40a0e6\" stroke=\"#000000\" points=\"683.5,-631 505.5,-631 505.5,-548 683.5,-548 683.5,-631\"/>\n<text text-anchor=\"middle\" x=\"594.5\" y=\"-615.8\" font-family=\"Times,serif\" font-size=\"14.00\" fill=\"#000000\">query_on_thyroxine &lt;= 0.5</text>\n<text text-anchor=\"middle\" x=\"594.5\" y=\"-600.8\" font-family=\"Times,serif\" font-size=\"14.00\" fill=\"#000000\">gini = 0.066</text>\n<text text-anchor=\"middle\" x=\"594.5\" y=\"-585.8\" font-family=\"Times,serif\" font-size=\"14.00\" fill=\"#000000\">samples = 1022</text>\n<text text-anchor=\"middle\" x=\"594.5\" y=\"-570.8\" font-family=\"Times,serif\" font-size=\"14.00\" fill=\"#000000\">value = [55, 1562]</text>\n<text text-anchor=\"middle\" x=\"594.5\" y=\"-555.8\" font-family=\"Times,serif\" font-size=\"14.00\" fill=\"#000000\">class = negative</text>\n</g>\n<!-- 0&#45;&gt;1 -->\n<g id=\"edge1\" class=\"edge\">\n<title>0&#45;&gt;1</title>\n<path fill=\"none\" stroke=\"#000000\" d=\"M648.4706,-666.8796C642.3145,-658.0534 635.7549,-648.6485 629.4064,-639.5466\"/>\n<polygon fill=\"#000000\" stroke=\"#000000\" points=\"632.2448,-637.4978 623.6533,-631.2981 626.5033,-641.5024 632.2448,-637.4978\"/>\n<text text-anchor=\"middle\" x=\"619.2669\" y=\"-652.2103\" font-family=\"Times,serif\" font-size=\"14.00\" fill=\"#000000\">True</text>\n</g>\n<!-- 64 -->\n<g id=\"node17\" class=\"node\">\n<title>64</title>\n<polygon fill=\"#44a3e6\" stroke=\"#000000\" points=\"819,-631 702,-631 702,-548 819,-548 819,-631\"/>\n<text text-anchor=\"middle\" x=\"760.5\" y=\"-615.8\" font-family=\"Times,serif\" font-size=\"14.00\" fill=\"#000000\">FTI &lt;= 52.5</text>\n<text text-anchor=\"middle\" x=\"760.5\" y=\"-600.8\" font-family=\"Times,serif\" font-size=\"14.00\" fill=\"#000000\">gini = 0.103</text>\n<text text-anchor=\"middle\" x=\"760.5\" y=\"-585.8\" font-family=\"Times,serif\" font-size=\"14.00\" fill=\"#000000\">samples = 499</text>\n<text text-anchor=\"middle\" x=\"760.5\" y=\"-570.8\" font-family=\"Times,serif\" font-size=\"14.00\" fill=\"#000000\">value = [43, 748]</text>\n<text text-anchor=\"middle\" x=\"760.5\" y=\"-555.8\" font-family=\"Times,serif\" font-size=\"14.00\" fill=\"#000000\">class = negative</text>\n</g>\n<!-- 0&#45;&gt;64 -->\n<g id=\"edge16\" class=\"edge\">\n<title>0&#45;&gt;64</title>\n<path fill=\"none\" stroke=\"#000000\" d=\"M706.5294,-666.8796C712.6855,-658.0534 719.2451,-648.6485 725.5936,-639.5466\"/>\n<polygon fill=\"#000000\" stroke=\"#000000\" points=\"728.4967,-641.5024 731.3467,-631.2981 722.7552,-637.4978 728.4967,-641.5024\"/>\n<text text-anchor=\"middle\" x=\"735.7331\" y=\"-652.2103\" font-family=\"Times,serif\" font-size=\"14.00\" fill=\"#000000\">False</text>\n</g>\n<!-- 2 -->\n<g id=\"node3\" class=\"node\">\n<title>2</title>\n<polygon fill=\"#40a1e6\" stroke=\"#000000\" points=\"525,-512 310,-512 310,-429 525,-429 525,-512\"/>\n<text text-anchor=\"middle\" x=\"417.5\" y=\"-496.8\" font-family=\"Times,serif\" font-size=\"14.00\" fill=\"#000000\">on_antithyroid_medication &lt;= 0.5</text>\n<text text-anchor=\"middle\" x=\"417.5\" y=\"-481.8\" font-family=\"Times,serif\" font-size=\"14.00\" fill=\"#000000\">gini = 0.067</text>\n<text text-anchor=\"middle\" x=\"417.5\" y=\"-466.8\" font-family=\"Times,serif\" font-size=\"14.00\" fill=\"#000000\">samples = 1000</text>\n<text text-anchor=\"middle\" x=\"417.5\" y=\"-451.8\" font-family=\"Times,serif\" font-size=\"14.00\" fill=\"#000000\">value = [55, 1528]</text>\n<text text-anchor=\"middle\" x=\"417.5\" y=\"-436.8\" font-family=\"Times,serif\" font-size=\"14.00\" fill=\"#000000\">class = negative</text>\n</g>\n<!-- 1&#45;&gt;2 -->\n<g id=\"edge2\" class=\"edge\">\n<title>1&#45;&gt;2</title>\n<path fill=\"none\" stroke=\"#000000\" d=\"M532.594,-547.8796C518.177,-538.1868 502.722,-527.7961 487.9656,-517.8752\"/>\n<polygon fill=\"#000000\" stroke=\"#000000\" points=\"489.6227,-514.7718 479.3711,-512.0969 485.7171,-520.581 489.6227,-514.7718\"/>\n</g>\n<!-- 63 -->\n<g id=\"node16\" class=\"node\">\n<title>63</title>\n<polygon fill=\"#399de5\" stroke=\"#000000\" points=\"650,-504.5 543,-504.5 543,-436.5 650,-436.5 650,-504.5\"/>\n<text text-anchor=\"middle\" x=\"596.5\" y=\"-489.3\" font-family=\"Times,serif\" font-size=\"14.00\" fill=\"#000000\">gini = 0.0</text>\n<text text-anchor=\"middle\" x=\"596.5\" y=\"-474.3\" font-family=\"Times,serif\" font-size=\"14.00\" fill=\"#000000\">samples = 22</text>\n<text text-anchor=\"middle\" x=\"596.5\" y=\"-459.3\" font-family=\"Times,serif\" font-size=\"14.00\" fill=\"#000000\">value = [0, 34]</text>\n<text text-anchor=\"middle\" x=\"596.5\" y=\"-444.3\" font-family=\"Times,serif\" font-size=\"14.00\" fill=\"#000000\">class = negative</text>\n</g>\n<!-- 1&#45;&gt;63 -->\n<g id=\"edge15\" class=\"edge\">\n<title>1&#45;&gt;63</title>\n<path fill=\"none\" stroke=\"#000000\" d=\"M595.1995,-547.8796C595.3788,-537.2134 595.5722,-525.7021 595.7538,-514.9015\"/>\n<polygon fill=\"#000000\" stroke=\"#000000\" points=\"599.2546,-514.8724 595.9233,-504.8149 592.2556,-514.7547 599.2546,-514.8724\"/>\n</g>\n<!-- 3 -->\n<g id=\"node4\" class=\"node\">\n<title>3</title>\n<polygon fill=\"#40a0e6\" stroke=\"#000000\" points=\"374,-393 249,-393 249,-310 374,-310 374,-393\"/>\n<text text-anchor=\"middle\" x=\"311.5\" y=\"-377.8\" font-family=\"Times,serif\" font-size=\"14.00\" fill=\"#000000\">pregnant &lt;= 0.5</text>\n<text text-anchor=\"middle\" x=\"311.5\" y=\"-362.8\" font-family=\"Times,serif\" font-size=\"14.00\" fill=\"#000000\">gini = 0.066</text>\n<text text-anchor=\"middle\" x=\"311.5\" y=\"-347.8\" font-family=\"Times,serif\" font-size=\"14.00\" fill=\"#000000\">samples = 983</text>\n<text text-anchor=\"middle\" x=\"311.5\" y=\"-332.8\" font-family=\"Times,serif\" font-size=\"14.00\" fill=\"#000000\">value = [53, 1504]</text>\n<text text-anchor=\"middle\" x=\"311.5\" y=\"-317.8\" font-family=\"Times,serif\" font-size=\"14.00\" fill=\"#000000\">class = negative</text>\n</g>\n<!-- 2&#45;&gt;3 -->\n<g id=\"edge3\" class=\"edge\">\n<title>2&#45;&gt;3</title>\n<path fill=\"none\" stroke=\"#000000\" d=\"M380.4263,-428.8796C372.4039,-419.8733 363.8448,-410.2644 355.5833,-400.9897\"/>\n<polygon fill=\"#000000\" stroke=\"#000000\" points=\"357.9969,-398.4373 348.7319,-393.2981 352.7698,-403.0933 357.9969,-398.4373\"/>\n</g>\n<!-- 60 -->\n<g id=\"node13\" class=\"node\">\n<title>60</title>\n<polygon fill=\"#49a5e7\" stroke=\"#000000\" points=\"499,-393 392,-393 392,-310 499,-310 499,-393\"/>\n<text text-anchor=\"middle\" x=\"445.5\" y=\"-377.8\" font-family=\"Times,serif\" font-size=\"14.00\" fill=\"#000000\">FTI &lt;= 82.5</text>\n<text text-anchor=\"middle\" x=\"445.5\" y=\"-362.8\" font-family=\"Times,serif\" font-size=\"14.00\" fill=\"#000000\">gini = 0.142</text>\n<text text-anchor=\"middle\" x=\"445.5\" y=\"-347.8\" font-family=\"Times,serif\" font-size=\"14.00\" fill=\"#000000\">samples = 17</text>\n<text text-anchor=\"middle\" x=\"445.5\" y=\"-332.8\" font-family=\"Times,serif\" font-size=\"14.00\" fill=\"#000000\">value = [2, 24]</text>\n<text text-anchor=\"middle\" x=\"445.5\" y=\"-317.8\" font-family=\"Times,serif\" font-size=\"14.00\" fill=\"#000000\">class = negative</text>\n</g>\n<!-- 2&#45;&gt;60 -->\n<g id=\"edge12\" class=\"edge\">\n<title>2&#45;&gt;60</title>\n<path fill=\"none\" stroke=\"#000000\" d=\"M427.293,-428.8796C429.2426,-420.5938 431.3122,-411.798 433.3302,-403.2216\"/>\n<polygon fill=\"#000000\" stroke=\"#000000\" points=\"436.7817,-403.8339 435.6652,-393.2981 429.9677,-402.2306 436.7817,-403.8339\"/>\n</g>\n<!-- 4 -->\n<g id=\"node5\" class=\"node\">\n<title>4</title>\n<polygon fill=\"#40a1e6\" stroke=\"#000000\" points=\"243,-274 106,-274 106,-191 243,-191 243,-274\"/>\n<text text-anchor=\"middle\" x=\"174.5\" y=\"-258.8\" font-family=\"Times,serif\" font-size=\"14.00\" fill=\"#000000\">on_thyroxine &lt;= 0.5</text>\n<text text-anchor=\"middle\" x=\"174.5\" y=\"-243.8\" font-family=\"Times,serif\" font-size=\"14.00\" fill=\"#000000\">gini = 0.068</text>\n<text text-anchor=\"middle\" x=\"174.5\" y=\"-228.8\" font-family=\"Times,serif\" font-size=\"14.00\" fill=\"#000000\">samples = 949</text>\n<text text-anchor=\"middle\" x=\"174.5\" y=\"-213.8\" font-family=\"Times,serif\" font-size=\"14.00\" fill=\"#000000\">value = [53, 1450]</text>\n<text text-anchor=\"middle\" x=\"174.5\" y=\"-198.8\" font-family=\"Times,serif\" font-size=\"14.00\" fill=\"#000000\">class = negative</text>\n</g>\n<!-- 3&#45;&gt;4 -->\n<g id=\"edge4\" class=\"edge\">\n<title>3&#45;&gt;4</title>\n<path fill=\"none\" stroke=\"#000000\" d=\"M263.584,-309.8796C252.8007,-300.513 241.2671,-290.4948 230.1961,-280.8784\"/>\n<polygon fill=\"#000000\" stroke=\"#000000\" points=\"232.4653,-278.2134 222.6205,-274.2981 227.8749,-283.4982 232.4653,-278.2134\"/>\n</g>\n<!-- 59 -->\n<g id=\"node12\" class=\"node\">\n<title>59</title>\n<polygon fill=\"#399de5\" stroke=\"#000000\" points=\"368,-266.5 261,-266.5 261,-198.5 368,-198.5 368,-266.5\"/>\n<text text-anchor=\"middle\" x=\"314.5\" y=\"-251.3\" font-family=\"Times,serif\" font-size=\"14.00\" fill=\"#000000\">gini = 0.0</text>\n<text text-anchor=\"middle\" x=\"314.5\" y=\"-236.3\" font-family=\"Times,serif\" font-size=\"14.00\" fill=\"#000000\">samples = 34</text>\n<text text-anchor=\"middle\" x=\"314.5\" y=\"-221.3\" font-family=\"Times,serif\" font-size=\"14.00\" fill=\"#000000\">value = [0, 54]</text>\n<text text-anchor=\"middle\" x=\"314.5\" y=\"-206.3\" font-family=\"Times,serif\" font-size=\"14.00\" fill=\"#000000\">class = negative</text>\n</g>\n<!-- 3&#45;&gt;59 -->\n<g id=\"edge11\" class=\"edge\">\n<title>3&#45;&gt;59</title>\n<path fill=\"none\" stroke=\"#000000\" d=\"M312.5493,-309.8796C312.8182,-299.2134 313.1084,-287.7021 313.3806,-276.9015\"/>\n<polygon fill=\"#000000\" stroke=\"#000000\" points=\"316.8817,-276.9 313.6349,-266.8149 309.8839,-276.7235 316.8817,-276.9\"/>\n</g>\n<!-- 5 -->\n<g id=\"node6\" class=\"node\">\n<title>5</title>\n<polygon fill=\"#41a1e6\" stroke=\"#000000\" points=\"175,-155 0,-155 0,-72 175,-72 175,-155\"/>\n<text text-anchor=\"middle\" x=\"87.5\" y=\"-139.8\" font-family=\"Times,serif\" font-size=\"14.00\" fill=\"#000000\">query_hyperthyroid &lt;= 0.5</text>\n<text text-anchor=\"middle\" x=\"87.5\" y=\"-124.8\" font-family=\"Times,serif\" font-size=\"14.00\" fill=\"#000000\">gini = 0.073</text>\n<text text-anchor=\"middle\" x=\"87.5\" y=\"-109.8\" font-family=\"Times,serif\" font-size=\"14.00\" fill=\"#000000\">samples = 817</text>\n<text text-anchor=\"middle\" x=\"87.5\" y=\"-94.8\" font-family=\"Times,serif\" font-size=\"14.00\" fill=\"#000000\">value = [49, 1238]</text>\n<text text-anchor=\"middle\" x=\"87.5\" y=\"-79.8\" font-family=\"Times,serif\" font-size=\"14.00\" fill=\"#000000\">class = negative</text>\n</g>\n<!-- 4&#45;&gt;5 -->\n<g id=\"edge5\" class=\"edge\">\n<title>4&#45;&gt;5</title>\n<path fill=\"none\" stroke=\"#000000\" d=\"M144.0716,-190.8796C137.6189,-182.0534 130.743,-172.6485 124.0887,-163.5466\"/>\n<polygon fill=\"#000000\" stroke=\"#000000\" points=\"126.7856,-161.3051 118.0583,-155.2981 121.1347,-165.4364 126.7856,-161.3051\"/>\n</g>\n<!-- 54 -->\n<g id=\"node9\" class=\"node\">\n<title>54</title>\n<polygon fill=\"#3d9fe5\" stroke=\"#000000\" points=\"330,-155 193,-155 193,-72 330,-72 330,-155\"/>\n<text text-anchor=\"middle\" x=\"261.5\" y=\"-139.8\" font-family=\"Times,serif\" font-size=\"14.00\" fill=\"#000000\">T3_measured &lt;= 0.5</text>\n<text text-anchor=\"middle\" x=\"261.5\" y=\"-124.8\" font-family=\"Times,serif\" font-size=\"14.00\" fill=\"#000000\">gini = 0.036</text>\n<text text-anchor=\"middle\" x=\"261.5\" y=\"-109.8\" font-family=\"Times,serif\" font-size=\"14.00\" fill=\"#000000\">samples = 132</text>\n<text text-anchor=\"middle\" x=\"261.5\" y=\"-94.8\" font-family=\"Times,serif\" font-size=\"14.00\" fill=\"#000000\">value = [4, 212]</text>\n<text text-anchor=\"middle\" x=\"261.5\" y=\"-79.8\" font-family=\"Times,serif\" font-size=\"14.00\" fill=\"#000000\">class = negative</text>\n</g>\n<!-- 4&#45;&gt;54 -->\n<g id=\"edge8\" class=\"edge\">\n<title>4&#45;&gt;54</title>\n<path fill=\"none\" stroke=\"#000000\" d=\"M204.9284,-190.8796C211.3811,-182.0534 218.257,-172.6485 224.9113,-163.5466\"/>\n<polygon fill=\"#000000\" stroke=\"#000000\" points=\"227.8653,-165.4364 230.9417,-155.2981 222.2144,-161.3051 227.8653,-165.4364\"/>\n</g>\n<!-- 6 -->\n<g id=\"node7\" class=\"node\">\n<title>6</title>\n<polygon fill=\"#c0c0c0\" stroke=\"#000000\" points=\"78.5,-36 24.5,-36 24.5,0 78.5,0 78.5,-36\"/>\n<text text-anchor=\"middle\" x=\"51.5\" y=\"-14.3\" font-family=\"Times,serif\" font-size=\"14.00\" fill=\"#000000\">(...)</text>\n</g>\n<!-- 5&#45;&gt;6 -->\n<g id=\"edge6\" class=\"edge\">\n<title>5&#45;&gt;6</title>\n<path fill=\"none\" stroke=\"#000000\" d=\"M71.8146,-71.8901C68.4739,-63.0279 65.025,-53.8788 61.9386,-45.6913\"/>\n<polygon fill=\"#000000\" stroke=\"#000000\" points=\"65.1877,-44.3878 58.3853,-36.2651 58.6376,-46.8569 65.1877,-44.3878\"/>\n</g>\n<!-- 49 -->\n<g id=\"node8\" class=\"node\">\n<title>49</title>\n<polygon fill=\"#c0c0c0\" stroke=\"#000000\" points=\"150.5,-36 96.5,-36 96.5,0 150.5,0 150.5,-36\"/>\n<text text-anchor=\"middle\" x=\"123.5\" y=\"-14.3\" font-family=\"Times,serif\" font-size=\"14.00\" fill=\"#000000\">(...)</text>\n</g>\n<!-- 5&#45;&gt;49 -->\n<g id=\"edge7\" class=\"edge\">\n<title>5&#45;&gt;49</title>\n<path fill=\"none\" stroke=\"#000000\" d=\"M103.1854,-71.8901C106.5261,-63.0279 109.975,-53.8788 113.0614,-45.6913\"/>\n<polygon fill=\"#000000\" stroke=\"#000000\" points=\"116.3624,-46.8569 116.6147,-36.2651 109.8123,-44.3878 116.3624,-46.8569\"/>\n</g>\n<!-- 55 -->\n<g id=\"node10\" class=\"node\">\n<title>55</title>\n<polygon fill=\"#c0c0c0\" stroke=\"#000000\" points=\"255.5,-36 201.5,-36 201.5,0 255.5,0 255.5,-36\"/>\n<text text-anchor=\"middle\" x=\"228.5\" y=\"-14.3\" font-family=\"Times,serif\" font-size=\"14.00\" fill=\"#000000\">(...)</text>\n</g>\n<!-- 54&#45;&gt;55 -->\n<g id=\"edge9\" class=\"edge\">\n<title>54&#45;&gt;55</title>\n<path fill=\"none\" stroke=\"#000000\" d=\"M247.1217,-71.8901C244.093,-63.1253 240.9674,-54.0798 238.1621,-45.9615\"/>\n<polygon fill=\"#000000\" stroke=\"#000000\" points=\"241.3856,-44.5736 234.8115,-36.2651 234.7695,-46.8599 241.3856,-44.5736\"/>\n</g>\n<!-- 56 -->\n<g id=\"node11\" class=\"node\">\n<title>56</title>\n<polygon fill=\"#c0c0c0\" stroke=\"#000000\" points=\"327.5,-36 273.5,-36 273.5,0 327.5,0 327.5,-36\"/>\n<text text-anchor=\"middle\" x=\"300.5\" y=\"-14.3\" font-family=\"Times,serif\" font-size=\"14.00\" fill=\"#000000\">(...)</text>\n</g>\n<!-- 54&#45;&gt;56 -->\n<g id=\"edge10\" class=\"edge\">\n<title>54&#45;&gt;56</title>\n<path fill=\"none\" stroke=\"#000000\" d=\"M278.4925,-71.8901C282.1116,-63.0279 285.8479,-53.8788 289.1915,-45.6913\"/>\n<polygon fill=\"#000000\" stroke=\"#000000\" points=\"292.5005,-46.8461 293.041,-36.2651 286.02,-44.1996 292.5005,-46.8461\"/>\n</g>\n<!-- 61 -->\n<g id=\"node14\" class=\"node\">\n<title>61</title>\n<polygon fill=\"#9ccef2\" stroke=\"#000000\" points=\"497,-266.5 390,-266.5 390,-198.5 497,-198.5 497,-266.5\"/>\n<text text-anchor=\"middle\" x=\"443.5\" y=\"-251.3\" font-family=\"Times,serif\" font-size=\"14.00\" fill=\"#000000\">gini = 0.444</text>\n<text text-anchor=\"middle\" x=\"443.5\" y=\"-236.3\" font-family=\"Times,serif\" font-size=\"14.00\" fill=\"#000000\">samples = 3</text>\n<text text-anchor=\"middle\" x=\"443.5\" y=\"-221.3\" font-family=\"Times,serif\" font-size=\"14.00\" fill=\"#000000\">value = [2, 4]</text>\n<text text-anchor=\"middle\" x=\"443.5\" y=\"-206.3\" font-family=\"Times,serif\" font-size=\"14.00\" fill=\"#000000\">class = negative</text>\n</g>\n<!-- 60&#45;&gt;61 -->\n<g id=\"edge13\" class=\"edge\">\n<title>60&#45;&gt;61</title>\n<path fill=\"none\" stroke=\"#000000\" d=\"M444.8005,-309.8796C444.6212,-299.2134 444.4278,-287.7021 444.2462,-276.9015\"/>\n<polygon fill=\"#000000\" stroke=\"#000000\" points=\"447.7444,-276.7547 444.0767,-266.8149 440.7454,-276.8724 447.7444,-276.7547\"/>\n</g>\n<!-- 62 -->\n<g id=\"node15\" class=\"node\">\n<title>62</title>\n<polygon fill=\"#399de5\" stroke=\"#000000\" points=\"622,-266.5 515,-266.5 515,-198.5 622,-198.5 622,-266.5\"/>\n<text text-anchor=\"middle\" x=\"568.5\" y=\"-251.3\" font-family=\"Times,serif\" font-size=\"14.00\" fill=\"#000000\">gini = 0.0</text>\n<text text-anchor=\"middle\" x=\"568.5\" y=\"-236.3\" font-family=\"Times,serif\" font-size=\"14.00\" fill=\"#000000\">samples = 14</text>\n<text text-anchor=\"middle\" x=\"568.5\" y=\"-221.3\" font-family=\"Times,serif\" font-size=\"14.00\" fill=\"#000000\">value = [0, 20]</text>\n<text text-anchor=\"middle\" x=\"568.5\" y=\"-206.3\" font-family=\"Times,serif\" font-size=\"14.00\" fill=\"#000000\">class = negative</text>\n</g>\n<!-- 60&#45;&gt;62 -->\n<g id=\"edge14\" class=\"edge\">\n<title>60&#45;&gt;62</title>\n<path fill=\"none\" stroke=\"#000000\" d=\"M488.5194,-309.8796C500.5671,-298.2237 513.6578,-285.5587 525.6931,-273.9148\"/>\n<polygon fill=\"#000000\" stroke=\"#000000\" points=\"528.2783,-276.2837 533.0316,-266.8149 523.411,-271.2528 528.2783,-276.2837\"/>\n</g>\n<!-- 65 -->\n<g id=\"node18\" class=\"node\">\n<title>65</title>\n<polygon fill=\"#e78945\" stroke=\"#000000\" points=\"844.5,-512 672.5,-512 672.5,-429 844.5,-429 844.5,-512\"/>\n<text text-anchor=\"middle\" x=\"758.5\" y=\"-496.8\" font-family=\"Times,serif\" font-size=\"14.00\" fill=\"#000000\">query_hypothyroid &lt;= 0.5</text>\n<text text-anchor=\"middle\" x=\"758.5\" y=\"-481.8\" font-family=\"Times,serif\" font-size=\"14.00\" fill=\"#000000\">gini = 0.108</text>\n<text text-anchor=\"middle\" x=\"758.5\" y=\"-466.8\" font-family=\"Times,serif\" font-size=\"14.00\" fill=\"#000000\">samples = 21</text>\n<text text-anchor=\"middle\" x=\"758.5\" y=\"-451.8\" font-family=\"Times,serif\" font-size=\"14.00\" fill=\"#000000\">value = [33, 2]</text>\n<text text-anchor=\"middle\" x=\"758.5\" y=\"-436.8\" font-family=\"Times,serif\" font-size=\"14.00\" fill=\"#000000\">class = hypothyroid</text>\n</g>\n<!-- 64&#45;&gt;65 -->\n<g id=\"edge17\" class=\"edge\">\n<title>64&#45;&gt;65</title>\n<path fill=\"none\" stroke=\"#000000\" d=\"M759.8005,-547.8796C759.6628,-539.6838 759.5166,-530.9891 759.374,-522.5013\"/>\n<polygon fill=\"#000000\" stroke=\"#000000\" points=\"762.8701,-522.2378 759.2025,-512.2981 755.8711,-522.3555 762.8701,-522.2378\"/>\n</g>\n<!-- 68 -->\n<g id=\"node21\" class=\"node\">\n<title>68</title>\n<polygon fill=\"#3c9ee5\" stroke=\"#000000\" points=\"988,-512 871,-512 871,-429 988,-429 988,-512\"/>\n<text text-anchor=\"middle\" x=\"929.5\" y=\"-496.8\" font-family=\"Times,serif\" font-size=\"14.00\" fill=\"#000000\">T3 &lt;= 1.97</text>\n<text text-anchor=\"middle\" x=\"929.5\" y=\"-481.8\" font-family=\"Times,serif\" font-size=\"14.00\" fill=\"#000000\">gini = 0.026</text>\n<text text-anchor=\"middle\" x=\"929.5\" y=\"-466.8\" font-family=\"Times,serif\" font-size=\"14.00\" fill=\"#000000\">samples = 478</text>\n<text text-anchor=\"middle\" x=\"929.5\" y=\"-451.8\" font-family=\"Times,serif\" font-size=\"14.00\" fill=\"#000000\">value = [10, 746]</text>\n<text text-anchor=\"middle\" x=\"929.5\" y=\"-436.8\" font-family=\"Times,serif\" font-size=\"14.00\" fill=\"#000000\">class = negative</text>\n</g>\n<!-- 64&#45;&gt;68 -->\n<g id=\"edge20\" class=\"edge\">\n<title>64&#45;&gt;68</title>\n<path fill=\"none\" stroke=\"#000000\" d=\"M819.1337,-548.2135C833.1598,-538.3372 848.2381,-527.7199 862.6059,-517.603\"/>\n<polygon fill=\"#000000\" stroke=\"#000000\" points=\"864.8086,-520.3326 870.9699,-511.7135 860.7785,-514.6091 864.8086,-520.3326\"/>\n</g>\n<!-- 66 -->\n<g id=\"node19\" class=\"node\">\n<title>66</title>\n<polygon fill=\"#e58139\" stroke=\"#000000\" points=\"675,-385.5 544,-385.5 544,-317.5 675,-317.5 675,-385.5\"/>\n<text text-anchor=\"middle\" x=\"609.5\" y=\"-370.3\" font-family=\"Times,serif\" font-size=\"14.00\" fill=\"#000000\">gini = 0.0</text>\n<text text-anchor=\"middle\" x=\"609.5\" y=\"-355.3\" font-family=\"Times,serif\" font-size=\"14.00\" fill=\"#000000\">samples = 16</text>\n<text text-anchor=\"middle\" x=\"609.5\" y=\"-340.3\" font-family=\"Times,serif\" font-size=\"14.00\" fill=\"#000000\">value = [30, 0]</text>\n<text text-anchor=\"middle\" x=\"609.5\" y=\"-325.3\" font-family=\"Times,serif\" font-size=\"14.00\" fill=\"#000000\">class = hypothyroid</text>\n</g>\n<!-- 65&#45;&gt;66 -->\n<g id=\"edge18\" class=\"edge\">\n<title>65&#45;&gt;66</title>\n<path fill=\"none\" stroke=\"#000000\" d=\"M706.387,-428.8796C691.5174,-417.0038 675.336,-404.0804 660.5317,-392.2568\"/>\n<polygon fill=\"#000000\" stroke=\"#000000\" points=\"662.4638,-389.3207 652.4658,-385.8149 658.0954,-394.7904 662.4638,-389.3207\"/>\n</g>\n<!-- 67 -->\n<g id=\"node20\" class=\"node\">\n<title>67</title>\n<polygon fill=\"#f6d5bd\" stroke=\"#000000\" points=\"824,-385.5 693,-385.5 693,-317.5 824,-317.5 824,-385.5\"/>\n<text text-anchor=\"middle\" x=\"758.5\" y=\"-370.3\" font-family=\"Times,serif\" font-size=\"14.00\" fill=\"#000000\">gini = 0.48</text>\n<text text-anchor=\"middle\" x=\"758.5\" y=\"-355.3\" font-family=\"Times,serif\" font-size=\"14.00\" fill=\"#000000\">samples = 5</text>\n<text text-anchor=\"middle\" x=\"758.5\" y=\"-340.3\" font-family=\"Times,serif\" font-size=\"14.00\" fill=\"#000000\">value = [3, 2]</text>\n<text text-anchor=\"middle\" x=\"758.5\" y=\"-325.3\" font-family=\"Times,serif\" font-size=\"14.00\" fill=\"#000000\">class = hypothyroid</text>\n</g>\n<!-- 65&#45;&gt;67 -->\n<g id=\"edge19\" class=\"edge\">\n<title>65&#45;&gt;67</title>\n<path fill=\"none\" stroke=\"#000000\" d=\"M758.5,-428.8796C758.5,-418.2134 758.5,-406.7021 758.5,-395.9015\"/>\n<polygon fill=\"#000000\" stroke=\"#000000\" points=\"762.0001,-395.8149 758.5,-385.8149 755.0001,-395.815 762.0001,-395.8149\"/>\n</g>\n<!-- 69 -->\n<g id=\"node22\" class=\"node\">\n<title>69</title>\n<polygon fill=\"#3a9de5\" stroke=\"#000000\" points=\"1017,-393 842,-393 842,-310 1017,-310 1017,-393\"/>\n<text text-anchor=\"middle\" x=\"929.5\" y=\"-377.8\" font-family=\"Times,serif\" font-size=\"14.00\" fill=\"#000000\">query_hyperthyroid &lt;= 0.5</text>\n<text text-anchor=\"middle\" x=\"929.5\" y=\"-362.8\" font-family=\"Times,serif\" font-size=\"14.00\" fill=\"#000000\">gini = 0.007</text>\n<text text-anchor=\"middle\" x=\"929.5\" y=\"-347.8\" font-family=\"Times,serif\" font-size=\"14.00\" fill=\"#000000\">samples = 369</text>\n<text text-anchor=\"middle\" x=\"929.5\" y=\"-332.8\" font-family=\"Times,serif\" font-size=\"14.00\" fill=\"#000000\">value = [2, 583]</text>\n<text text-anchor=\"middle\" x=\"929.5\" y=\"-317.8\" font-family=\"Times,serif\" font-size=\"14.00\" fill=\"#000000\">class = negative</text>\n</g>\n<!-- 68&#45;&gt;69 -->\n<g id=\"edge21\" class=\"edge\">\n<title>68&#45;&gt;69</title>\n<path fill=\"none\" stroke=\"#000000\" d=\"M929.5,-428.8796C929.5,-420.6838 929.5,-411.9891 929.5,-403.5013\"/>\n<polygon fill=\"#000000\" stroke=\"#000000\" points=\"933.0001,-403.298 929.5,-393.2981 926.0001,-403.2981 933.0001,-403.298\"/>\n</g>\n<!-- 76 -->\n<g id=\"node29\" class=\"node\">\n<title>76</title>\n<polygon fill=\"#43a2e6\" stroke=\"#000000\" points=\"1145.5,-393 1035.5,-393 1035.5,-310 1145.5,-310 1145.5,-393\"/>\n<text text-anchor=\"middle\" x=\"1090.5\" y=\"-377.8\" font-family=\"Times,serif\" font-size=\"14.00\" fill=\"#000000\">T3 &lt;= 2.25</text>\n<text text-anchor=\"middle\" x=\"1090.5\" y=\"-362.8\" font-family=\"Times,serif\" font-size=\"14.00\" fill=\"#000000\">gini = 0.089</text>\n<text text-anchor=\"middle\" x=\"1090.5\" y=\"-347.8\" font-family=\"Times,serif\" font-size=\"14.00\" fill=\"#000000\">samples = 109</text>\n<text text-anchor=\"middle\" x=\"1090.5\" y=\"-332.8\" font-family=\"Times,serif\" font-size=\"14.00\" fill=\"#000000\">value = [8, 163]</text>\n<text text-anchor=\"middle\" x=\"1090.5\" y=\"-317.8\" font-family=\"Times,serif\" font-size=\"14.00\" fill=\"#000000\">class = negative</text>\n</g>\n<!-- 68&#45;&gt;76 -->\n<g id=\"edge28\" class=\"edge\">\n<title>68&#45;&gt;76</title>\n<path fill=\"none\" stroke=\"#000000\" d=\"M985.81,-428.8796C999.1016,-419.0554 1013.3631,-408.5142 1026.9499,-398.4718\"/>\n<polygon fill=\"#000000\" stroke=\"#000000\" points=\"1029.3462,-401.0529 1035.3076,-392.2944 1025.1855,-395.4237 1029.3462,-401.0529\"/>\n</g>\n<!-- 70 -->\n<g id=\"node23\" class=\"node\">\n<title>70</title>\n<polygon fill=\"#3a9de5\" stroke=\"#000000\" points=\"866.5,-274 694.5,-274 694.5,-191 866.5,-191 866.5,-274\"/>\n<text text-anchor=\"middle\" x=\"780.5\" y=\"-258.8\" font-family=\"Times,serif\" font-size=\"14.00\" fill=\"#000000\">query_hypothyroid &lt;= 0.5</text>\n<text text-anchor=\"middle\" x=\"780.5\" y=\"-243.8\" font-family=\"Times,serif\" font-size=\"14.00\" fill=\"#000000\">gini = 0.007</text>\n<text text-anchor=\"middle\" x=\"780.5\" y=\"-228.8\" font-family=\"Times,serif\" font-size=\"14.00\" fill=\"#000000\">samples = 355</text>\n<text text-anchor=\"middle\" x=\"780.5\" y=\"-213.8\" font-family=\"Times,serif\" font-size=\"14.00\" fill=\"#000000\">value = [2, 567]</text>\n<text text-anchor=\"middle\" x=\"780.5\" y=\"-198.8\" font-family=\"Times,serif\" font-size=\"14.00\" fill=\"#000000\">class = negative</text>\n</g>\n<!-- 69&#45;&gt;70 -->\n<g id=\"edge22\" class=\"edge\">\n<title>69&#45;&gt;70</title>\n<path fill=\"none\" stroke=\"#000000\" d=\"M877.387,-309.8796C865.4775,-300.368 852.7266,-290.1843 840.5156,-280.432\"/>\n<polygon fill=\"#000000\" stroke=\"#000000\" points=\"842.5816,-277.6027 832.5835,-274.0969 838.2132,-283.0724 842.5816,-277.6027\"/>\n</g>\n<!-- 75 -->\n<g id=\"node28\" class=\"node\">\n<title>75</title>\n<polygon fill=\"#399de5\" stroke=\"#000000\" points=\"992,-266.5 885,-266.5 885,-198.5 992,-198.5 992,-266.5\"/>\n<text text-anchor=\"middle\" x=\"938.5\" y=\"-251.3\" font-family=\"Times,serif\" font-size=\"14.00\" fill=\"#000000\">gini = 0.0</text>\n<text text-anchor=\"middle\" x=\"938.5\" y=\"-236.3\" font-family=\"Times,serif\" font-size=\"14.00\" fill=\"#000000\">samples = 14</text>\n<text text-anchor=\"middle\" x=\"938.5\" y=\"-221.3\" font-family=\"Times,serif\" font-size=\"14.00\" fill=\"#000000\">value = [0, 16]</text>\n<text text-anchor=\"middle\" x=\"938.5\" y=\"-206.3\" font-family=\"Times,serif\" font-size=\"14.00\" fill=\"#000000\">class = negative</text>\n</g>\n<!-- 69&#45;&gt;75 -->\n<g id=\"edge27\" class=\"edge\">\n<title>69&#45;&gt;75</title>\n<path fill=\"none\" stroke=\"#000000\" d=\"M932.6478,-309.8796C933.4545,-299.2134 934.3251,-287.7021 935.1419,-276.9015\"/>\n<polygon fill=\"#000000\" stroke=\"#000000\" points=\"938.6405,-277.0504 935.9048,-266.8149 931.6605,-276.5225 938.6405,-277.0504\"/>\n</g>\n<!-- 71 -->\n<g id=\"node24\" class=\"node\">\n<title>71</title>\n<polygon fill=\"#399de5\" stroke=\"#000000\" points=\"771.5,-147.5 661.5,-147.5 661.5,-79.5 771.5,-79.5 771.5,-147.5\"/>\n<text text-anchor=\"middle\" x=\"716.5\" y=\"-132.3\" font-family=\"Times,serif\" font-size=\"14.00\" fill=\"#000000\">gini = 0.0</text>\n<text text-anchor=\"middle\" x=\"716.5\" y=\"-117.3\" font-family=\"Times,serif\" font-size=\"14.00\" fill=\"#000000\">samples = 314</text>\n<text text-anchor=\"middle\" x=\"716.5\" y=\"-102.3\" font-family=\"Times,serif\" font-size=\"14.00\" fill=\"#000000\">value = [0, 505]</text>\n<text text-anchor=\"middle\" x=\"716.5\" y=\"-87.3\" font-family=\"Times,serif\" font-size=\"14.00\" fill=\"#000000\">class = negative</text>\n</g>\n<!-- 70&#45;&gt;71 -->\n<g id=\"edge23\" class=\"edge\">\n<title>70&#45;&gt;71</title>\n<path fill=\"none\" stroke=\"#000000\" d=\"M758.1159,-190.8796C752.202,-179.8835 745.8051,-167.9893 739.842,-156.9015\"/>\n<polygon fill=\"#000000\" stroke=\"#000000\" points=\"742.7742,-154.9642 734.9551,-147.8149 736.6092,-158.2799 742.7742,-154.9642\"/>\n</g>\n<!-- 72 -->\n<g id=\"node25\" class=\"node\">\n<title>72</title>\n<polygon fill=\"#3fa0e6\" stroke=\"#000000\" points=\"897,-155 790,-155 790,-72 897,-72 897,-155\"/>\n<text text-anchor=\"middle\" x=\"843.5\" y=\"-139.8\" font-family=\"Times,serif\" font-size=\"14.00\" fill=\"#000000\">FTI &lt;= 69.0</text>\n<text text-anchor=\"middle\" x=\"843.5\" y=\"-124.8\" font-family=\"Times,serif\" font-size=\"14.00\" fill=\"#000000\">gini = 0.061</text>\n<text text-anchor=\"middle\" x=\"843.5\" y=\"-109.8\" font-family=\"Times,serif\" font-size=\"14.00\" fill=\"#000000\">samples = 41</text>\n<text text-anchor=\"middle\" x=\"843.5\" y=\"-94.8\" font-family=\"Times,serif\" font-size=\"14.00\" fill=\"#000000\">value = [2, 62]</text>\n<text text-anchor=\"middle\" x=\"843.5\" y=\"-79.8\" font-family=\"Times,serif\" font-size=\"14.00\" fill=\"#000000\">class = negative</text>\n</g>\n<!-- 70&#45;&gt;72 -->\n<g id=\"edge24\" class=\"edge\">\n<title>70&#45;&gt;72</title>\n<path fill=\"none\" stroke=\"#000000\" d=\"M802.5343,-190.8796C807.064,-182.3236 811.8815,-173.2238 816.5618,-164.3833\"/>\n<polygon fill=\"#000000\" stroke=\"#000000\" points=\"819.7859,-165.7736 821.3716,-155.2981 813.5994,-162.4983 819.7859,-165.7736\"/>\n</g>\n<!-- 73 -->\n<g id=\"node26\" class=\"node\">\n<title>73</title>\n<polygon fill=\"#c0c0c0\" stroke=\"#000000\" points=\"834.5,-36 780.5,-36 780.5,0 834.5,0 834.5,-36\"/>\n<text text-anchor=\"middle\" x=\"807.5\" y=\"-14.3\" font-family=\"Times,serif\" font-size=\"14.00\" fill=\"#000000\">(...)</text>\n</g>\n<!-- 72&#45;&gt;73 -->\n<g id=\"edge25\" class=\"edge\">\n<title>72&#45;&gt;73</title>\n<path fill=\"none\" stroke=\"#000000\" d=\"M827.8146,-71.8901C824.4739,-63.0279 821.025,-53.8788 817.9386,-45.6913\"/>\n<polygon fill=\"#000000\" stroke=\"#000000\" points=\"821.1877,-44.3878 814.3853,-36.2651 814.6376,-46.8569 821.1877,-44.3878\"/>\n</g>\n<!-- 74 -->\n<g id=\"node27\" class=\"node\">\n<title>74</title>\n<polygon fill=\"#c0c0c0\" stroke=\"#000000\" points=\"906.5,-36 852.5,-36 852.5,0 906.5,0 906.5,-36\"/>\n<text text-anchor=\"middle\" x=\"879.5\" y=\"-14.3\" font-family=\"Times,serif\" font-size=\"14.00\" fill=\"#000000\">(...)</text>\n</g>\n<!-- 72&#45;&gt;74 -->\n<g id=\"edge26\" class=\"edge\">\n<title>72&#45;&gt;74</title>\n<path fill=\"none\" stroke=\"#000000\" d=\"M859.1854,-71.8901C862.5261,-63.0279 865.975,-53.8788 869.0614,-45.6913\"/>\n<polygon fill=\"#000000\" stroke=\"#000000\" points=\"872.3624,-46.8569 872.6147,-36.2651 865.8123,-44.3878 872.3624,-46.8569\"/>\n</g>\n<!-- 77 -->\n<g id=\"node30\" class=\"node\">\n<title>77</title>\n<polygon fill=\"#4ea7e8\" stroke=\"#000000\" points=\"1135,-266.5 1028,-266.5 1028,-198.5 1135,-198.5 1135,-266.5\"/>\n<text text-anchor=\"middle\" x=\"1081.5\" y=\"-251.3\" font-family=\"Times,serif\" font-size=\"14.00\" fill=\"#000000\">gini = 0.171</text>\n<text text-anchor=\"middle\" x=\"1081.5\" y=\"-236.3\" font-family=\"Times,serif\" font-size=\"14.00\" fill=\"#000000\">samples = 51</text>\n<text text-anchor=\"middle\" x=\"1081.5\" y=\"-221.3\" font-family=\"Times,serif\" font-size=\"14.00\" fill=\"#000000\">value = [7, 67]</text>\n<text text-anchor=\"middle\" x=\"1081.5\" y=\"-206.3\" font-family=\"Times,serif\" font-size=\"14.00\" fill=\"#000000\">class = negative</text>\n</g>\n<!-- 76&#45;&gt;77 -->\n<g id=\"edge29\" class=\"edge\">\n<title>76&#45;&gt;77</title>\n<path fill=\"none\" stroke=\"#000000\" d=\"M1087.3522,-309.8796C1086.5455,-299.2134 1085.6749,-287.7021 1084.8581,-276.9015\"/>\n<polygon fill=\"#000000\" stroke=\"#000000\" points=\"1088.3395,-276.5225 1084.0952,-266.8149 1081.3595,-277.0504 1088.3395,-276.5225\"/>\n</g>\n<!-- 78 -->\n<g id=\"node31\" class=\"node\">\n<title>78</title>\n<polygon fill=\"#3b9ee5\" stroke=\"#000000\" points=\"1290,-274 1153,-274 1153,-191 1290,-191 1290,-274\"/>\n<text text-anchor=\"middle\" x=\"1221.5\" y=\"-258.8\" font-family=\"Times,serif\" font-size=\"14.00\" fill=\"#000000\">on_thyroxine &lt;= 0.5</text>\n<text text-anchor=\"middle\" x=\"1221.5\" y=\"-243.8\" font-family=\"Times,serif\" font-size=\"14.00\" fill=\"#000000\">gini = 0.02</text>\n<text text-anchor=\"middle\" x=\"1221.5\" y=\"-228.8\" font-family=\"Times,serif\" font-size=\"14.00\" fill=\"#000000\">samples = 58</text>\n<text text-anchor=\"middle\" x=\"1221.5\" y=\"-213.8\" font-family=\"Times,serif\" font-size=\"14.00\" fill=\"#000000\">value = [1, 96]</text>\n<text text-anchor=\"middle\" x=\"1221.5\" y=\"-198.8\" font-family=\"Times,serif\" font-size=\"14.00\" fill=\"#000000\">class = negative</text>\n</g>\n<!-- 76&#45;&gt;78 -->\n<g id=\"edge30\" class=\"edge\">\n<title>76&#45;&gt;78</title>\n<path fill=\"none\" stroke=\"#000000\" d=\"M1136.3174,-309.8796C1146.5294,-300.6031 1157.445,-290.6874 1167.9376,-281.1559\"/>\n<polygon fill=\"#000000\" stroke=\"#000000\" points=\"1170.4384,-283.6127 1175.487,-274.2981 1165.7316,-278.4313 1170.4384,-283.6127\"/>\n</g>\n<!-- 79 -->\n<g id=\"node32\" class=\"node\">\n<title>79</title>\n<polygon fill=\"#3c9ee5\" stroke=\"#000000\" points=\"1212,-155 1105,-155 1105,-72 1212,-72 1212,-155\"/>\n<text text-anchor=\"middle\" x=\"1158.5\" y=\"-139.8\" font-family=\"Times,serif\" font-size=\"14.00\" fill=\"#000000\">sex &lt;= 0.5</text>\n<text text-anchor=\"middle\" x=\"1158.5\" y=\"-124.8\" font-family=\"Times,serif\" font-size=\"14.00\" fill=\"#000000\">gini = 0.025</text>\n<text text-anchor=\"middle\" x=\"1158.5\" y=\"-109.8\" font-family=\"Times,serif\" font-size=\"14.00\" fill=\"#000000\">samples = 49</text>\n<text text-anchor=\"middle\" x=\"1158.5\" y=\"-94.8\" font-family=\"Times,serif\" font-size=\"14.00\" fill=\"#000000\">value = [1, 78]</text>\n<text text-anchor=\"middle\" x=\"1158.5\" y=\"-79.8\" font-family=\"Times,serif\" font-size=\"14.00\" fill=\"#000000\">class = negative</text>\n</g>\n<!-- 78&#45;&gt;79 -->\n<g id=\"edge31\" class=\"edge\">\n<title>78&#45;&gt;79</title>\n<path fill=\"none\" stroke=\"#000000\" d=\"M1199.4657,-190.8796C1194.936,-182.3236 1190.1185,-173.2238 1185.4382,-164.3833\"/>\n<polygon fill=\"#000000\" stroke=\"#000000\" points=\"1188.4006,-162.4983 1180.6284,-155.2981 1182.2141,-165.7736 1188.4006,-162.4983\"/>\n</g>\n<!-- 84 -->\n<g id=\"node35\" class=\"node\">\n<title>84</title>\n<polygon fill=\"#399de5\" stroke=\"#000000\" points=\"1337,-147.5 1230,-147.5 1230,-79.5 1337,-79.5 1337,-147.5\"/>\n<text text-anchor=\"middle\" x=\"1283.5\" y=\"-132.3\" font-family=\"Times,serif\" font-size=\"14.00\" fill=\"#000000\">gini = 0.0</text>\n<text text-anchor=\"middle\" x=\"1283.5\" y=\"-117.3\" font-family=\"Times,serif\" font-size=\"14.00\" fill=\"#000000\">samples = 9</text>\n<text text-anchor=\"middle\" x=\"1283.5\" y=\"-102.3\" font-family=\"Times,serif\" font-size=\"14.00\" fill=\"#000000\">value = [0, 18]</text>\n<text text-anchor=\"middle\" x=\"1283.5\" y=\"-87.3\" font-family=\"Times,serif\" font-size=\"14.00\" fill=\"#000000\">class = negative</text>\n</g>\n<!-- 78&#45;&gt;84 -->\n<g id=\"edge34\" class=\"edge\">\n<title>78&#45;&gt;84</title>\n<path fill=\"none\" stroke=\"#000000\" d=\"M1243.1846,-190.8796C1248.9136,-179.8835 1255.1106,-167.9893 1260.8874,-156.9015\"/>\n<polygon fill=\"#000000\" stroke=\"#000000\" points=\"1264.105,-158.3007 1265.6216,-147.8149 1257.897,-155.0662 1264.105,-158.3007\"/>\n</g>\n<!-- 80 -->\n<g id=\"node33\" class=\"node\">\n<title>80</title>\n<polygon fill=\"#c0c0c0\" stroke=\"#000000\" points=\"1149.5,-36 1095.5,-36 1095.5,0 1149.5,0 1149.5,-36\"/>\n<text text-anchor=\"middle\" x=\"1122.5\" y=\"-14.3\" font-family=\"Times,serif\" font-size=\"14.00\" fill=\"#000000\">(...)</text>\n</g>\n<!-- 79&#45;&gt;80 -->\n<g id=\"edge32\" class=\"edge\">\n<title>79&#45;&gt;80</title>\n<path fill=\"none\" stroke=\"#000000\" d=\"M1142.8146,-71.8901C1139.4739,-63.0279 1136.025,-53.8788 1132.9386,-45.6913\"/>\n<polygon fill=\"#000000\" stroke=\"#000000\" points=\"1136.1877,-44.3878 1129.3853,-36.2651 1129.6376,-46.8569 1136.1877,-44.3878\"/>\n</g>\n<!-- 83 -->\n<g id=\"node34\" class=\"node\">\n<title>83</title>\n<polygon fill=\"#c0c0c0\" stroke=\"#000000\" points=\"1221.5,-36 1167.5,-36 1167.5,0 1221.5,0 1221.5,-36\"/>\n<text text-anchor=\"middle\" x=\"1194.5\" y=\"-14.3\" font-family=\"Times,serif\" font-size=\"14.00\" fill=\"#000000\">(...)</text>\n</g>\n<!-- 79&#45;&gt;83 -->\n<g id=\"edge33\" class=\"edge\">\n<title>79&#45;&gt;83</title>\n<path fill=\"none\" stroke=\"#000000\" d=\"M1174.1854,-71.8901C1177.5261,-63.0279 1180.975,-53.8788 1184.0614,-45.6913\"/>\n<polygon fill=\"#000000\" stroke=\"#000000\" points=\"1187.3624,-46.8569 1187.6147,-36.2651 1180.8123,-44.3878 1187.3624,-46.8569\"/>\n</g>\n</g>\n</svg>\n"
          },
          "metadata": {},
          "execution_count": 104
        }
      ]
    },
    {
      "cell_type": "markdown",
      "metadata": {
        "id": "U8q3gGC3moMa"
      },
      "source": [
        "Feature Importance"
      ]
    },
    {
      "cell_type": "code",
      "metadata": {
        "colab": {
          "base_uri": "https://localhost:8080/",
          "height": 298
        },
        "id": "JveZV_NFmsnW",
        "outputId": "e72401ca-179d-4640-c5f6-feac51ebf623"
      },
      "source": [
        "# Obtaining thr features used for prediction\n",
        "importance_rf=pd.Series(best_model.feature_importances_,index=X_feat2.columns)\n",
        "# Sorting the features\n",
        "sorted=importance_rf.sort_values()\n",
        "#Plotting the features with their importances\n",
        "sorted.plot(kind='barh')\n",
        "plt.title('A plot of the features used for classification ')"
      ],
      "execution_count": 74,
      "outputs": [
        {
          "output_type": "execute_result",
          "data": {
            "text/plain": [
              "Text(0.5, 1.0, 'A plot of the features used for classification ')"
            ]
          },
          "metadata": {},
          "execution_count": 74
        },
        {
          "output_type": "display_data",
          "data": {
            "image/png": "[encoded data removed]",
            "text/plain": [
              "<Figure size 432x288 with 1 Axes>"
            ]
          },
          "metadata": {
            "needs_background": "light"
          }
        }
      ]
    },
    {
      "cell_type": "markdown",
      "metadata": {
        "id": "7Ra2Vw5cqz6m"
      },
      "source": [
        "Only FTI,TSH,T3,age,query on hypothyroid,on thyroxine,measured T3 and sex were used for classification."
      ]
    },
    {
      "cell_type": "markdown",
      "metadata": {
        "id": "g83-OMhXkD0u"
      },
      "source": [
        "#### Gradient Boosting"
      ]
    },
    {
      "cell_type": "code",
      "metadata": {
        "colab": {
          "base_uri": "https://localhost:8080/"
        },
        "id": "eC8Cxku-eXLx",
        "outputId": "dba80d8a-4e75-46bc-c08c-6461b3e22c31"
      },
      "source": [
        "# Using gradient boost to classify our set\n",
        "grad_class=GradientBoostingClassifier(n_estimators=100,learning_rate=0.1,max_depth=10)\n",
        "# Fitting our training set\n",
        "grad_class.fit(X_train,Y_train)\n",
        "# predicting the diagnosis\n",
        "Y_grad_pred=grad_class.predict(X_test)\n",
        "# Measuring the accuracy of our model\n",
        "ac_grad=accuracy_score(Y_test,Y_grad_pred)\n",
        "cm_grad=confusion_matrix(Y_test,Y_grad_pred)\n",
        "cr_grad=classification_report(Y_test,Y_grad_pred)\n",
        "# Printing the accuracy score and classification report\n",
        "print(ac_grad)\n",
        "print(cm_grad)\n",
        "print(cr_grad)"
      ],
      "execution_count": 75,
      "outputs": [
        {
          "output_type": "stream",
          "name": "stdout",
          "text": [
            "0.988391376451078\n",
            "[[ 28   3]\n",
            " [  4 568]]\n",
            "              precision    recall  f1-score   support\n",
            "\n",
            "           0       0.88      0.90      0.89        31\n",
            "           1       0.99      0.99      0.99       572\n",
            "\n",
            "    accuracy                           0.99       603\n",
            "   macro avg       0.93      0.95      0.94       603\n",
            "weighted avg       0.99      0.99      0.99       603\n",
            "\n"
          ]
        }
      ]
    },
    {
      "cell_type": "markdown",
      "metadata": {
        "id": "yogZu9u0haG3"
      },
      "source": [
        "My model attained 99% accuracy , with 28 true positives and 568 true negatives, this can be attributed to the influx in non-hypothyroidic patients in our samples. It is important to note that the number of false negatives reduced from the 11 in the random forest the number of false positives is the same as the random forests and that kind of accuracy is an alar, for over fitting.\n",
        "The precision for predicting positives is greater than that of negatives . This model is performing much better than the random forest. We will use hyper parameters to get the right model to perform an exelent job at predicting the status of patients."
      ]
    },
    {
      "cell_type": "code",
      "metadata": {
        "colab": {
          "base_uri": "https://localhost:8080/"
        },
        "id": "a1FxHHU5jIos",
        "outputId": "3a690a8d-1da5-4741-f690-1375cddf3e75"
      },
      "source": [
        "# Getting the parameters used in gradient boost\n",
        "grad_class.get_params()"
      ],
      "execution_count": 76,
      "outputs": [
        {
          "output_type": "execute_result",
          "data": {
            "text/plain": [
              "{'ccp_alpha': 0.0,\n",
              " 'criterion': 'friedman_mse',\n",
              " 'init': None,\n",
              " 'learning_rate': 0.1,\n",
              " 'loss': 'deviance',\n",
              " 'max_depth': 10,\n",
              " 'max_features': None,\n",
              " 'max_leaf_nodes': None,\n",
              " 'min_impurity_decrease': 0.0,\n",
              " 'min_impurity_split': None,\n",
              " 'min_samples_leaf': 1,\n",
              " 'min_samples_split': 2,\n",
              " 'min_weight_fraction_leaf': 0.0,\n",
              " 'n_estimators': 100,\n",
              " 'n_iter_no_change': None,\n",
              " 'presort': 'deprecated',\n",
              " 'random_state': None,\n",
              " 'subsample': 1.0,\n",
              " 'tol': 0.0001,\n",
              " 'validation_fraction': 0.1,\n",
              " 'verbose': 0,\n",
              " 'warm_start': False}"
            ]
          },
          "metadata": {},
          "execution_count": 76
        }
      ]
    },
    {
      "cell_type": "markdown",
      "metadata": {
        "id": "WqqX1lQMmIF2"
      },
      "source": [
        "Hyperparameter Tuning for the grarient boosting parameters"
      ]
    },
    {
      "cell_type": "code",
      "metadata": {
        "id": "uRgHJuMrbW08"
      },
      "source": [
        "gb = GradientBoostingClassifier()\n",
        "# Obtaining the param grig\n",
        "param_grid_grad = {'max_depth': [3, 5, 10, 15],\n",
        "                    'max_features': [2, 3, 5 ],\n",
        "                    'min_samples_leaf': [3, 4, 5, 8],\n",
        "                    'min_samples_split': [8, 10, 12, 18, 20],\n",
        "                    'n_estimators': [100, 200, 300]}\n",
        "\n",
        "gradient_search=GridSearchCV(estimator=gb,\n",
        "                           param_grid=param_grid_grad,\n",
        "                           scoring='accuracy',\n",
        "                           n_jobs=1,cv=5,verbose=1)\n"
      ],
      "execution_count": 77,
      "outputs": []
    },
    {
      "cell_type": "code",
      "metadata": {
        "colab": {
          "base_uri": "https://localhost:8080/"
        },
        "id": "WKjOfY3yl4k3",
        "outputId": "88051daf-1684-4231-8226-f96441037e62"
      },
      "source": [
        "# Fitting the model\n",
        "gradient_search.fit(X_train,Y_train)\n",
        "# # Obtaining the best model/estimator\n",
        "best_model_grad=gradient_search.best_estimator_\n",
        "# Making predictions using the best model\n",
        "Y_search_pred_grad=best_model_grad.predict(X_test)"
      ],
      "execution_count": 78,
      "outputs": [
        {
          "output_type": "stream",
          "name": "stdout",
          "text": [
            "Fitting 5 folds for each of 720 candidates, totalling 3600 fits\n"
          ]
        },
        {
          "output_type": "stream",
          "name": "stderr",
          "text": [
            "[Parallel(n_jobs=1)]: Using backend SequentialBackend with 1 concurrent workers.\n",
            "[Parallel(n_jobs=1)]: Done 3600 out of 3600 | elapsed: 21.8min finished\n"
          ]
        }
      ]
    },
    {
      "cell_type": "code",
      "metadata": {
        "colab": {
          "base_uri": "https://localhost:8080/"
        },
        "id": "P3OPSIPnmSJG",
        "outputId": "7d9d74ec-b415-4b9c-99c1-da9c0e4419b9"
      },
      "source": [
        "# Measuring the accuracy of our model\n",
        "ac_search_grad=accuracy_score(Y_test,Y_search_pred_grad)\n",
        "cm_search_grad=confusion_matrix(Y_test,Y_search_pred_grad)\n",
        "cr_search_grad=classification_report(Y_test,Y_search_pred_grad)\n",
        "# Printing the accuracy score and classification report\n",
        "print(ac_search_grad)\n",
        "print(cm_search_grad)\n",
        "print(cr_search_grad)"
      ],
      "execution_count": 79,
      "outputs": [
        {
          "output_type": "stream",
          "name": "stdout",
          "text": [
            "0.9900497512437811\n",
            "[[ 29   2]\n",
            " [  4 568]]\n",
            "              precision    recall  f1-score   support\n",
            "\n",
            "           0       0.88      0.94      0.91        31\n",
            "           1       1.00      0.99      0.99       572\n",
            "\n",
            "    accuracy                           0.99       603\n",
            "   macro avg       0.94      0.96      0.95       603\n",
            "weighted avg       0.99      0.99      0.99       603\n",
            "\n"
          ]
        }
      ]
    },
    {
      "cell_type": "markdown",
      "metadata": {
        "id": "k9QmbE1W0hFj"
      },
      "source": [
        "## 9. Challenging the solution"
      ]
    },
    {
      "cell_type": "markdown",
      "metadata": {
        "id": "a6pYqmWlpMD0"
      },
      "source": [
        "Challenging the solution using the Support Vector Machine model"
      ]
    },
    {
      "cell_type": "code",
      "metadata": {
        "colab": {
          "base_uri": "https://localhost:8080/",
          "height": 224
        },
        "id": "lUH9Slhj0kdu",
        "outputId": "066a72e3-2811-4884-9430-bf2cde9d4a40"
      },
      "source": [
        "# Using the data free of outliers and missing values to avoid instances of misclassification\n",
        "Clean_df.head()"
      ],
      "execution_count": 80,
      "outputs": [
        {
          "output_type": "execute_result",
          "data": {
            "text/html": [
              "<div>\n",
              "<style scoped>\n",
              "    .dataframe tbody tr th:only-of-type {\n",
              "        vertical-align: middle;\n",
              "    }\n",
              "\n",
              "    .dataframe tbody tr th {\n",
              "        vertical-align: top;\n",
              "    }\n",
              "\n",
              "    .dataframe thead th {\n",
              "        text-align: right;\n",
              "    }\n",
              "</style>\n",
              "<table border=\"1\" class=\"dataframe\">\n",
              "  <thead>\n",
              "    <tr style=\"text-align: right;\">\n",
              "      <th></th>\n",
              "      <th>status</th>\n",
              "      <th>age</th>\n",
              "      <th>sex</th>\n",
              "      <th>on_thyroxine</th>\n",
              "      <th>query_on_thyroxine</th>\n",
              "      <th>on_antithyroid_medication</th>\n",
              "      <th>thyroid_surgery</th>\n",
              "      <th>query_hypothyroid</th>\n",
              "      <th>query_hyperthyroid</th>\n",
              "      <th>pregnant</th>\n",
              "      <th>sick</th>\n",
              "      <th>tumor</th>\n",
              "      <th>lithium</th>\n",
              "      <th>goitre</th>\n",
              "      <th>TSH_measured</th>\n",
              "      <th>TSH</th>\n",
              "      <th>T3_measured</th>\n",
              "      <th>T3</th>\n",
              "      <th>TT4_measured</th>\n",
              "      <th>TT4</th>\n",
              "      <th>T4U_measured</th>\n",
              "      <th>T4U</th>\n",
              "      <th>FTI_measured</th>\n",
              "      <th>FTI</th>\n",
              "      <th>TBG_measured</th>\n",
              "    </tr>\n",
              "  </thead>\n",
              "  <tbody>\n",
              "    <tr>\n",
              "      <th>0</th>\n",
              "      <td>hypothyroid</td>\n",
              "      <td>72.0</td>\n",
              "      <td>M</td>\n",
              "      <td>f</td>\n",
              "      <td>f</td>\n",
              "      <td>f</td>\n",
              "      <td>f</td>\n",
              "      <td>f</td>\n",
              "      <td>f</td>\n",
              "      <td>f</td>\n",
              "      <td>f</td>\n",
              "      <td>f</td>\n",
              "      <td>f</td>\n",
              "      <td>f</td>\n",
              "      <td>y</td>\n",
              "      <td>30.0</td>\n",
              "      <td>y</td>\n",
              "      <td>0.6</td>\n",
              "      <td>y</td>\n",
              "      <td>15.0</td>\n",
              "      <td>y</td>\n",
              "      <td>1.48</td>\n",
              "      <td>y</td>\n",
              "      <td>10.0</td>\n",
              "      <td>n</td>\n",
              "    </tr>\n",
              "    <tr>\n",
              "      <th>2</th>\n",
              "      <td>hypothyroid</td>\n",
              "      <td>24.0</td>\n",
              "      <td>M</td>\n",
              "      <td>f</td>\n",
              "      <td>f</td>\n",
              "      <td>f</td>\n",
              "      <td>f</td>\n",
              "      <td>f</td>\n",
              "      <td>f</td>\n",
              "      <td>f</td>\n",
              "      <td>f</td>\n",
              "      <td>f</td>\n",
              "      <td>f</td>\n",
              "      <td>f</td>\n",
              "      <td>y</td>\n",
              "      <td>0.0</td>\n",
              "      <td>y</td>\n",
              "      <td>0.2</td>\n",
              "      <td>y</td>\n",
              "      <td>4.0</td>\n",
              "      <td>y</td>\n",
              "      <td>1.00</td>\n",
              "      <td>y</td>\n",
              "      <td>0.0</td>\n",
              "      <td>n</td>\n",
              "    </tr>\n",
              "    <tr>\n",
              "      <th>4</th>\n",
              "      <td>hypothyroid</td>\n",
              "      <td>77.0</td>\n",
              "      <td>M</td>\n",
              "      <td>f</td>\n",
              "      <td>f</td>\n",
              "      <td>f</td>\n",
              "      <td>f</td>\n",
              "      <td>f</td>\n",
              "      <td>f</td>\n",
              "      <td>f</td>\n",
              "      <td>f</td>\n",
              "      <td>f</td>\n",
              "      <td>f</td>\n",
              "      <td>f</td>\n",
              "      <td>y</td>\n",
              "      <td>7.3</td>\n",
              "      <td>y</td>\n",
              "      <td>1.2</td>\n",
              "      <td>y</td>\n",
              "      <td>57.0</td>\n",
              "      <td>y</td>\n",
              "      <td>1.28</td>\n",
              "      <td>y</td>\n",
              "      <td>44.0</td>\n",
              "      <td>n</td>\n",
              "    </tr>\n",
              "    <tr>\n",
              "      <th>6</th>\n",
              "      <td>hypothyroid</td>\n",
              "      <td>64.0</td>\n",
              "      <td>F</td>\n",
              "      <td>f</td>\n",
              "      <td>f</td>\n",
              "      <td>f</td>\n",
              "      <td>t</td>\n",
              "      <td>f</td>\n",
              "      <td>f</td>\n",
              "      <td>f</td>\n",
              "      <td>f</td>\n",
              "      <td>f</td>\n",
              "      <td>f</td>\n",
              "      <td>f</td>\n",
              "      <td>y</td>\n",
              "      <td>7.7</td>\n",
              "      <td>y</td>\n",
              "      <td>1.3</td>\n",
              "      <td>y</td>\n",
              "      <td>54.0</td>\n",
              "      <td>y</td>\n",
              "      <td>0.86</td>\n",
              "      <td>y</td>\n",
              "      <td>63.0</td>\n",
              "      <td>n</td>\n",
              "    </tr>\n",
              "    <tr>\n",
              "      <th>7</th>\n",
              "      <td>hypothyroid</td>\n",
              "      <td>72.0</td>\n",
              "      <td>F</td>\n",
              "      <td>f</td>\n",
              "      <td>f</td>\n",
              "      <td>f</td>\n",
              "      <td>f</td>\n",
              "      <td>f</td>\n",
              "      <td>f</td>\n",
              "      <td>f</td>\n",
              "      <td>f</td>\n",
              "      <td>f</td>\n",
              "      <td>f</td>\n",
              "      <td>f</td>\n",
              "      <td>y</td>\n",
              "      <td>21.0</td>\n",
              "      <td>y</td>\n",
              "      <td>1.9</td>\n",
              "      <td>y</td>\n",
              "      <td>34.0</td>\n",
              "      <td>y</td>\n",
              "      <td>1.05</td>\n",
              "      <td>y</td>\n",
              "      <td>32.0</td>\n",
              "      <td>n</td>\n",
              "    </tr>\n",
              "  </tbody>\n",
              "</table>\n",
              "</div>"
            ],
            "text/plain": [
              "        status   age sex on_thyroxine  ...   T4U FTI_measured   FTI TBG_measured\n",
              "0  hypothyroid  72.0   M            f  ...  1.48            y  10.0            n\n",
              "2  hypothyroid  24.0   M            f  ...  1.00            y   0.0            n\n",
              "4  hypothyroid  77.0   M            f  ...  1.28            y  44.0            n\n",
              "6  hypothyroid  64.0   F            f  ...  0.86            y  63.0            n\n",
              "7  hypothyroid  72.0   F            f  ...  1.05            y  32.0            n\n",
              "\n",
              "[5 rows x 25 columns]"
            ]
          },
          "metadata": {},
          "execution_count": 80
        }
      ]
    },
    {
      "cell_type": "code",
      "metadata": {
        "colab": {
          "base_uri": "https://localhost:8080/"
        },
        "id": "ZHpXOXpItfPa",
        "outputId": "9aa3b074-7faa-4842-8206-0b09b259f846"
      },
      "source": [
        "# Data Preparation\n",
        "# Encoding the categorical columns to prepare them for analysis\n",
        "le=LabelEncoder()\n",
        "Cols=['status', 'sex', 'on_thyroxine', 'query_on_thyroxine',\n",
        "       'on_antithyroid_medication', 'thyroid_surgery', 'query_hypothyroid',\n",
        "       'query_hyperthyroid', 'pregnant', 'sick', 'tumor', 'lithium', 'goitre',\n",
        "       'TSH_measured', 'T3_measured', 'TT4_measured','T4U_measured', 'FTI_measured', 'TBG_measured']\n",
        "for i in Cols:\n",
        "  le.fit(Clean_df[i])\n",
        "  Clean_df[i]=le.transform(Clean_df[i])\n",
        "Clean_df.dtypes\n"
      ],
      "execution_count": 81,
      "outputs": [
        {
          "output_type": "execute_result",
          "data": {
            "text/plain": [
              "status                         int64\n",
              "age                          float64\n",
              "sex                            int64\n",
              "on_thyroxine                   int64\n",
              "query_on_thyroxine             int64\n",
              "on_antithyroid_medication      int64\n",
              "thyroid_surgery                int64\n",
              "query_hypothyroid              int64\n",
              "query_hyperthyroid             int64\n",
              "pregnant                       int64\n",
              "sick                           int64\n",
              "tumor                          int64\n",
              "lithium                        int64\n",
              "goitre                         int64\n",
              "TSH_measured                   int64\n",
              "TSH                          float64\n",
              "T3_measured                    int64\n",
              "T3                           float64\n",
              "TT4_measured                   int64\n",
              "TT4                          float64\n",
              "T4U_measured                   int64\n",
              "T4U                          float64\n",
              "FTI_measured                   int64\n",
              "FTI                          float64\n",
              "TBG_measured                   int64\n",
              "dtype: object"
            ]
          },
          "metadata": {},
          "execution_count": 81
        }
      ]
    },
    {
      "cell_type": "code",
      "metadata": {
        "colab": {
          "base_uri": "https://localhost:8080/",
          "height": 793
        },
        "id": "yDxQT3_3uFfb",
        "outputId": "9ff66c8b-5038-49d6-fffc-6a9e9058bed0"
      },
      "source": [
        "# Data preparation\n",
        "# Features to be used in predictions as predictors\n",
        "X1_feat=Clean_df.drop(columns=['status'],axis=1)\n",
        "# X_feat will be used whien checcking the specific columns used in the trees\n",
        "X2=X1_feat.values\n",
        "X2\n",
        "# Extracting the target variable\n",
        "Y1_label=Clean_df['status']\n",
        "Y1=Y1_label.values\n",
        "Y1\n",
        "# Calculating the Variance inflation factor of the specific columns\n",
        "vif = pd.DataFrame()\n",
        "vif[\"VIF Factor\"] = [variance_inflation_factor(X1_feat.values, i) for i in range(X1_feat.shape[1])]\n",
        "vif[\"features\"] = X1_feat.columns\n",
        "vif"
      ],
      "execution_count": 82,
      "outputs": [
        {
          "output_type": "execute_result",
          "data": {
            "text/html": [
              "<div>\n",
              "<style scoped>\n",
              "    .dataframe tbody tr th:only-of-type {\n",
              "        vertical-align: middle;\n",
              "    }\n",
              "\n",
              "    .dataframe tbody tr th {\n",
              "        vertical-align: top;\n",
              "    }\n",
              "\n",
              "    .dataframe thead th {\n",
              "        text-align: right;\n",
              "    }\n",
              "</style>\n",
              "<table border=\"1\" class=\"dataframe\">\n",
              "  <thead>\n",
              "    <tr style=\"text-align: right;\">\n",
              "      <th></th>\n",
              "      <th>VIF Factor</th>\n",
              "      <th>features</th>\n",
              "    </tr>\n",
              "  </thead>\n",
              "  <tbody>\n",
              "    <tr>\n",
              "      <th>0</th>\n",
              "      <td>10.771849</td>\n",
              "      <td>age</td>\n",
              "    </tr>\n",
              "    <tr>\n",
              "      <th>1</th>\n",
              "      <td>1.624511</td>\n",
              "      <td>sex</td>\n",
              "    </tr>\n",
              "    <tr>\n",
              "      <th>2</th>\n",
              "      <td>1.440665</td>\n",
              "      <td>on_thyroxine</td>\n",
              "    </tr>\n",
              "    <tr>\n",
              "      <th>3</th>\n",
              "      <td>1.076101</td>\n",
              "      <td>query_on_thyroxine</td>\n",
              "    </tr>\n",
              "    <tr>\n",
              "      <th>4</th>\n",
              "      <td>1.047465</td>\n",
              "      <td>on_antithyroid_medication</td>\n",
              "    </tr>\n",
              "    <tr>\n",
              "      <th>5</th>\n",
              "      <td>1.049871</td>\n",
              "      <td>thyroid_surgery</td>\n",
              "    </tr>\n",
              "    <tr>\n",
              "      <th>6</th>\n",
              "      <td>1.111624</td>\n",
              "      <td>query_hypothyroid</td>\n",
              "    </tr>\n",
              "    <tr>\n",
              "      <th>7</th>\n",
              "      <td>1.153477</td>\n",
              "      <td>query_hyperthyroid</td>\n",
              "    </tr>\n",
              "    <tr>\n",
              "      <th>8</th>\n",
              "      <td>1.078633</td>\n",
              "      <td>pregnant</td>\n",
              "    </tr>\n",
              "    <tr>\n",
              "      <th>9</th>\n",
              "      <td>1.069006</td>\n",
              "      <td>sick</td>\n",
              "    </tr>\n",
              "    <tr>\n",
              "      <th>10</th>\n",
              "      <td>1.060088</td>\n",
              "      <td>tumor</td>\n",
              "    </tr>\n",
              "    <tr>\n",
              "      <th>11</th>\n",
              "      <td>1.002535</td>\n",
              "      <td>lithium</td>\n",
              "    </tr>\n",
              "    <tr>\n",
              "      <th>12</th>\n",
              "      <td>1.082304</td>\n",
              "      <td>goitre</td>\n",
              "    </tr>\n",
              "    <tr>\n",
              "      <th>13</th>\n",
              "      <td>17.997939</td>\n",
              "      <td>TSH_measured</td>\n",
              "    </tr>\n",
              "    <tr>\n",
              "      <th>14</th>\n",
              "      <td>1.620542</td>\n",
              "      <td>TSH</td>\n",
              "    </tr>\n",
              "    <tr>\n",
              "      <th>15</th>\n",
              "      <td>8.681367</td>\n",
              "      <td>T3_measured</td>\n",
              "    </tr>\n",
              "    <tr>\n",
              "      <th>16</th>\n",
              "      <td>14.382276</td>\n",
              "      <td>T3</td>\n",
              "    </tr>\n",
              "    <tr>\n",
              "      <th>17</th>\n",
              "      <td>2673.950501</td>\n",
              "      <td>TT4_measured</td>\n",
              "    </tr>\n",
              "    <tr>\n",
              "      <th>18</th>\n",
              "      <td>139.109071</td>\n",
              "      <td>TT4</td>\n",
              "    </tr>\n",
              "    <tr>\n",
              "      <th>19</th>\n",
              "      <td>5430.098060</td>\n",
              "      <td>T4U_measured</td>\n",
              "    </tr>\n",
              "    <tr>\n",
              "      <th>20</th>\n",
              "      <td>137.459358</td>\n",
              "      <td>T4U</td>\n",
              "    </tr>\n",
              "    <tr>\n",
              "      <th>21</th>\n",
              "      <td>2806.595225</td>\n",
              "      <td>FTI_measured</td>\n",
              "    </tr>\n",
              "    <tr>\n",
              "      <th>22</th>\n",
              "      <td>122.766462</td>\n",
              "      <td>FTI</td>\n",
              "    </tr>\n",
              "    <tr>\n",
              "      <th>23</th>\n",
              "      <td>7.815075</td>\n",
              "      <td>TBG_measured</td>\n",
              "    </tr>\n",
              "  </tbody>\n",
              "</table>\n",
              "</div>"
            ],
            "text/plain": [
              "     VIF Factor                   features\n",
              "0     10.771849                        age\n",
              "1      1.624511                        sex\n",
              "2      1.440665               on_thyroxine\n",
              "3      1.076101         query_on_thyroxine\n",
              "4      1.047465  on_antithyroid_medication\n",
              "5      1.049871            thyroid_surgery\n",
              "6      1.111624          query_hypothyroid\n",
              "7      1.153477         query_hyperthyroid\n",
              "8      1.078633                   pregnant\n",
              "9      1.069006                       sick\n",
              "10     1.060088                      tumor\n",
              "11     1.002535                    lithium\n",
              "12     1.082304                     goitre\n",
              "13    17.997939               TSH_measured\n",
              "14     1.620542                        TSH\n",
              "15     8.681367                T3_measured\n",
              "16    14.382276                         T3\n",
              "17  2673.950501               TT4_measured\n",
              "18   139.109071                        TT4\n",
              "19  5430.098060               T4U_measured\n",
              "20   137.459358                        T4U\n",
              "21  2806.595225               FTI_measured\n",
              "22   122.766462                        FTI\n",
              "23     7.815075               TBG_measured"
            ]
          },
          "metadata": {},
          "execution_count": 82
        }
      ]
    },
    {
      "cell_type": "code",
      "metadata": {
        "colab": {
          "base_uri": "https://localhost:8080/",
          "height": 576
        },
        "id": "fX3TyKbnu-oT",
        "outputId": "6c04bbc5-d4ae-48cf-8cd9-e4f0bd721f82"
      },
      "source": [
        "# Dropping all columns explaining the same variance\n",
        "# Removing measurements exhibiting high vif as they explain the same variance within the set\n",
        "X3_feat=X1_feat.drop(columns=['T4U_measured','T4U_measured','TT4_measured','TSH_measured','FTI_measured','TT4','T4U','FTI'],axis=1)\n",
        "X3_feat\n",
        "# Recheking the vif of the same set.\n",
        "X2=X3_feat.values\n",
        "X2\n",
        "vif = pd.DataFrame()\n",
        "vif[\"VIF Factor\"] = [variance_inflation_factor(X3_feat.values, i) for i in range(X3_feat.shape[1])]\n",
        "vif[\"features\"] = X3_feat.columns\n",
        "vif"
      ],
      "execution_count": 83,
      "outputs": [
        {
          "output_type": "execute_result",
          "data": {
            "text/html": [
              "<div>\n",
              "<style scoped>\n",
              "    .dataframe tbody tr th:only-of-type {\n",
              "        vertical-align: middle;\n",
              "    }\n",
              "\n",
              "    .dataframe tbody tr th {\n",
              "        vertical-align: top;\n",
              "    }\n",
              "\n",
              "    .dataframe thead th {\n",
              "        text-align: right;\n",
              "    }\n",
              "</style>\n",
              "<table border=\"1\" class=\"dataframe\">\n",
              "  <thead>\n",
              "    <tr style=\"text-align: right;\">\n",
              "      <th></th>\n",
              "      <th>VIF Factor</th>\n",
              "      <th>features</th>\n",
              "    </tr>\n",
              "  </thead>\n",
              "  <tbody>\n",
              "    <tr>\n",
              "      <th>0</th>\n",
              "      <td>6.463451</td>\n",
              "      <td>age</td>\n",
              "    </tr>\n",
              "    <tr>\n",
              "      <th>1</th>\n",
              "      <td>1.505004</td>\n",
              "      <td>sex</td>\n",
              "    </tr>\n",
              "    <tr>\n",
              "      <th>2</th>\n",
              "      <td>1.259348</td>\n",
              "      <td>on_thyroxine</td>\n",
              "    </tr>\n",
              "    <tr>\n",
              "      <th>3</th>\n",
              "      <td>1.040140</td>\n",
              "      <td>query_on_thyroxine</td>\n",
              "    </tr>\n",
              "    <tr>\n",
              "      <th>4</th>\n",
              "      <td>1.045157</td>\n",
              "      <td>on_antithyroid_medication</td>\n",
              "    </tr>\n",
              "    <tr>\n",
              "      <th>5</th>\n",
              "      <td>1.043426</td>\n",
              "      <td>thyroid_surgery</td>\n",
              "    </tr>\n",
              "    <tr>\n",
              "      <th>6</th>\n",
              "      <td>1.104334</td>\n",
              "      <td>query_hypothyroid</td>\n",
              "    </tr>\n",
              "    <tr>\n",
              "      <th>7</th>\n",
              "      <td>1.139754</td>\n",
              "      <td>query_hyperthyroid</td>\n",
              "    </tr>\n",
              "    <tr>\n",
              "      <th>8</th>\n",
              "      <td>1.059890</td>\n",
              "      <td>pregnant</td>\n",
              "    </tr>\n",
              "    <tr>\n",
              "      <th>9</th>\n",
              "      <td>1.062065</td>\n",
              "      <td>sick</td>\n",
              "    </tr>\n",
              "    <tr>\n",
              "      <th>10</th>\n",
              "      <td>1.023923</td>\n",
              "      <td>tumor</td>\n",
              "    </tr>\n",
              "    <tr>\n",
              "      <th>11</th>\n",
              "      <td>1.001188</td>\n",
              "      <td>lithium</td>\n",
              "    </tr>\n",
              "    <tr>\n",
              "      <th>12</th>\n",
              "      <td>1.081266</td>\n",
              "      <td>goitre</td>\n",
              "    </tr>\n",
              "    <tr>\n",
              "      <th>13</th>\n",
              "      <td>1.212643</td>\n",
              "      <td>TSH</td>\n",
              "    </tr>\n",
              "    <tr>\n",
              "      <th>14</th>\n",
              "      <td>5.974739</td>\n",
              "      <td>T3_measured</td>\n",
              "    </tr>\n",
              "    <tr>\n",
              "      <th>15</th>\n",
              "      <td>5.624957</td>\n",
              "      <td>T3</td>\n",
              "    </tr>\n",
              "    <tr>\n",
              "      <th>16</th>\n",
              "      <td>1.371194</td>\n",
              "      <td>TBG_measured</td>\n",
              "    </tr>\n",
              "  </tbody>\n",
              "</table>\n",
              "</div>"
            ],
            "text/plain": [
              "    VIF Factor                   features\n",
              "0     6.463451                        age\n",
              "1     1.505004                        sex\n",
              "2     1.259348               on_thyroxine\n",
              "3     1.040140         query_on_thyroxine\n",
              "4     1.045157  on_antithyroid_medication\n",
              "5     1.043426            thyroid_surgery\n",
              "6     1.104334          query_hypothyroid\n",
              "7     1.139754         query_hyperthyroid\n",
              "8     1.059890                   pregnant\n",
              "9     1.062065                       sick\n",
              "10    1.023923                      tumor\n",
              "11    1.001188                    lithium\n",
              "12    1.081266                     goitre\n",
              "13    1.212643                        TSH\n",
              "14    5.974739                T3_measured\n",
              "15    5.624957                         T3\n",
              "16    1.371194               TBG_measured"
            ]
          },
          "metadata": {},
          "execution_count": 83
        }
      ]
    },
    {
      "cell_type": "code",
      "metadata": {
        "colab": {
          "base_uri": "https://localhost:8080/"
        },
        "id": "PvaoBXrswIuO",
        "outputId": "3e0cba21-2429-4177-acac-503ca8cad95a"
      },
      "source": [
        "print(X2.shape)\n",
        "print(Y1.shape)"
      ],
      "execution_count": 84,
      "outputs": [
        {
          "output_type": "stream",
          "name": "stdout",
          "text": [
            "(2819, 17)\n",
            "(2819,)\n"
          ]
        }
      ]
    },
    {
      "cell_type": "code",
      "metadata": {
        "colab": {
          "base_uri": "https://localhost:8080/"
        },
        "id": "L9-vy12hvru5",
        "outputId": "c31c195b-c496-445d-a17e-3293b377a7f4"
      },
      "source": [
        "# Spliting the data to train and testing\n",
        "X_train,X_test,Y_train,Y_test=train_test_split(X2,Y1, test_size=0.2,random_state=1)\n",
        "# Instantiating the model\n",
        "model=SVC(kernel='linear')\n",
        "#Fitting our model\n",
        "model=model.fit(X_train,Y_train)\n",
        "# Predicting using the support vectors\n",
        "Y_svm_pred=model.predict(X_test)\n",
        "# Acessing the accuracy of the model\n",
        "# Measuring the accuracy of our model\n",
        "ac_svm=accuracy_score(Y_test,Y_svm_pred)\n",
        "cm_svm=confusion_matrix(Y_test,Y_svm_pred)\n",
        "cr_svm=classification_report(Y_test,Y_svm_pred)\n",
        "# Printing the accuracy score and classification report\n",
        "print(ac_svm)\n",
        "print(cm_svm)\n",
        "print(cr_svm)"
      ],
      "execution_count": 85,
      "outputs": [
        {
          "output_type": "stream",
          "name": "stdout",
          "text": [
            "0.9822695035460993\n",
            "[[ 10   9]\n",
            " [  1 544]]\n",
            "              precision    recall  f1-score   support\n",
            "\n",
            "           0       0.91      0.53      0.67        19\n",
            "           1       0.98      1.00      0.99       545\n",
            "\n",
            "    accuracy                           0.98       564\n",
            "   macro avg       0.95      0.76      0.83       564\n",
            "weighted avg       0.98      0.98      0.98       564\n",
            "\n"
          ]
        }
      ]
    },
    {
      "cell_type": "markdown",
      "metadata": {
        "id": "vhiY0dLNu69n"
      },
      "source": [
        "The svm predicted 10 true positives and 544 true negatives. There was just one false positive and nine false negatives.The recall for negative values was at 53%. The accuracy being stated as 98 % the model performed great with training data. But to avoid the case of over fitting hyper parameter tuning must be done."
      ]
    },
    {
      "cell_type": "code",
      "metadata": {
        "colab": {
          "base_uri": "https://localhost:8080/"
        },
        "id": "rCdGrhlmyIrs",
        "outputId": "725059bb-10d6-483b-f674-c9a29d13343d"
      },
      "source": [
        "# Instantiating the model\n",
        "poly=SVC(kernel='poly',degree=3)\n",
        "#Fitting our model\n",
        "poly=poly.fit(X_train,Y_train)\n",
        "# Predicting using the support vectors\n",
        "Y_poly_pred=poly.predict(X_test)\n",
        "# Acessing the accuracy of the model\n",
        "# Measuring the accuracy of our model\n",
        "ac_svm_poly=accuracy_score(Y_test,Y_poly_pred)\n",
        "cm_svm_poly=confusion_matrix(Y_test,Y_poly_pred)\n",
        "cr_svm_poly=classification_report(Y_test,Y_poly_pred)\n",
        "# Printing the accuracy score and classification report\n",
        "print(ac_svm_poly)\n",
        "print(cm_svm_poly)\n",
        "print(cr_svm_poly)"
      ],
      "execution_count": 86,
      "outputs": [
        {
          "output_type": "stream",
          "name": "stdout",
          "text": [
            "0.9769503546099291\n",
            "[[  7  12]\n",
            " [  1 544]]\n",
            "              precision    recall  f1-score   support\n",
            "\n",
            "           0       0.88      0.37      0.52        19\n",
            "           1       0.98      1.00      0.99       545\n",
            "\n",
            "    accuracy                           0.98       564\n",
            "   macro avg       0.93      0.68      0.75       564\n",
            "weighted avg       0.97      0.98      0.97       564\n",
            "\n"
          ]
        }
      ]
    },
    {
      "cell_type": "code",
      "metadata": {
        "colab": {
          "base_uri": "https://localhost:8080/"
        },
        "id": "D_qIc-gsy_sJ",
        "outputId": "210e5e51-d1ea-4bb4-f640-1f7755baaa7e"
      },
      "source": [
        "# Instantiating the model\n",
        "rbf=SVC(kernel='rbf')\n",
        "#Fitting our model\n",
        "rbf=rbf.fit(X_train,Y_train)\n",
        "# Predicting using the support vectors\n",
        "Y_rbf_pred=rbf.predict(X_test)\n",
        "# Acessing the accuracy of the model\n",
        "# Measuring the accuracy of our model\n",
        "ac_svm_rbf=accuracy_score(Y_test,Y_rbf_pred)\n",
        "cm_svm_rbf=confusion_matrix(Y_test,Y_rbf_pred)\n",
        "cr_svm_rbf=classification_report(Y_test,Y_rbf_pred)\n",
        "# Printing the accuracy score and classification report\n",
        "print(ac_svm_rbf)\n",
        "print(cm_svm_rbf)\n",
        "print(cr_svm_rbf)"
      ],
      "execution_count": 87,
      "outputs": [
        {
          "output_type": "stream",
          "name": "stdout",
          "text": [
            "0.9769503546099291\n",
            "[[  7  12]\n",
            " [  1 544]]\n",
            "              precision    recall  f1-score   support\n",
            "\n",
            "           0       0.88      0.37      0.52        19\n",
            "           1       0.98      1.00      0.99       545\n",
            "\n",
            "    accuracy                           0.98       564\n",
            "   macro avg       0.93      0.68      0.75       564\n",
            "weighted avg       0.97      0.98      0.97       564\n",
            "\n"
          ]
        }
      ]
    },
    {
      "cell_type": "markdown",
      "metadata": {
        "id": "7sPB6e0LvtH4"
      },
      "source": [
        "The rgb and polynomial kernel seem be performing in the same manner.The number if false negatives has significanly increased as true positives seem to have decreased in number. The precision for predicting positive results is 98 % and all positive values were recalled. \n",
        "\n",
        "This model seems to have a slightly poor recall of the negatives . This could be attribute to using the wrong parameters and this warrants for tuning of the hyper parameters as this model is less overfit unlike the linear model.\n",
        "\n",
        "We aim to see whether the model will improve its performance."
      ]
    },
    {
      "cell_type": "markdown",
      "metadata": {
        "id": "EZF_ngF-wgin"
      },
      "source": [
        "According to the feature importance of the tuned tree the two important features were found to be: FTI and TSH . This are the variables that will be tuned for vizualization."
      ]
    },
    {
      "cell_type": "markdown",
      "metadata": {
        "id": "s2wwcZqvzlFe"
      },
      "source": [
        "Tuning the best performing model"
      ]
    },
    {
      "cell_type": "code",
      "metadata": {
        "colab": {
          "base_uri": "https://localhost:8080/"
        },
        "id": "Xa42DD9D0tbv",
        "outputId": "06998f83-a2c8-403b-8e7d-6c64bceb4801"
      },
      "source": [
        "# Defining the parameters for tuning\n",
        "model.get_params() "
      ],
      "execution_count": 90,
      "outputs": [
        {
          "output_type": "execute_result",
          "data": {
            "text/plain": [
              "{'C': 1.0,\n",
              " 'break_ties': False,\n",
              " 'cache_size': 200,\n",
              " 'class_weight': None,\n",
              " 'coef0': 0.0,\n",
              " 'decision_function_shape': 'ovr',\n",
              " 'degree': 3,\n",
              " 'gamma': 'scale',\n",
              " 'kernel': 'linear',\n",
              " 'max_iter': -1,\n",
              " 'probability': False,\n",
              " 'random_state': None,\n",
              " 'shrinking': True,\n",
              " 'tol': 0.001,\n",
              " 'verbose': False}"
            ]
          },
          "metadata": {},
          "execution_count": 90
        }
      ]
    },
    {
      "cell_type": "code",
      "metadata": {
        "id": "a1ThJjMgwXws"
      },
      "source": [
        "svm = SVC()\n",
        "# Obtaining the param grig\n",
        "param_grid_svm = {'C': [0.1,1,10,100,1000],\n",
        "                    'gamma': [1,0.1,0.01,0.001,0.0001],\n",
        "                    'kernel': ['rbf']}\n",
        "\n",
        "svm_search=GridSearchCV(estimator=svm,\n",
        "                           param_grid=param_grid_svm,\n",
        "                           scoring='accuracy',\n",
        "                           n_jobs=1,cv=5,verbose=1)\n"
      ],
      "execution_count": 94,
      "outputs": []
    },
    {
      "cell_type": "code",
      "metadata": {
        "colab": {
          "base_uri": "https://localhost:8080/"
        },
        "id": "YpJDvOjLzvq0",
        "outputId": "4add1b61-67ad-430f-ea74-97705ad6e5ae"
      },
      "source": [
        "# Training the model\n",
        "svm_search.fit(X_train,Y_train)\n",
        "# Obtaining the best model for prediction\n",
        "best_model_svm=svm_search.best_estimator_\n",
        "# Making predictions using the best model\n",
        "Y_pred_svm=best_model_svm.predict(X_test)"
      ],
      "execution_count": 95,
      "outputs": [
        {
          "output_type": "stream",
          "name": "stdout",
          "text": [
            "Fitting 5 folds for each of 25 candidates, totalling 125 fits\n"
          ]
        },
        {
          "output_type": "stream",
          "name": "stderr",
          "text": [
            "[Parallel(n_jobs=1)]: Using backend SequentialBackend with 1 concurrent workers.\n",
            "[Parallel(n_jobs=1)]: Done 125 out of 125 | elapsed:    9.8s finished\n"
          ]
        }
      ]
    },
    {
      "cell_type": "code",
      "metadata": {
        "colab": {
          "base_uri": "https://localhost:8080/"
        },
        "id": "Qz2_yE7w0zH9",
        "outputId": "14e5f429-9f71-44b5-d2a5-c6d3253f9b76"
      },
      "source": [
        "# Evaluating the model\n",
        "ac_svm_search=accuracy_score(Y_test,Y_pred_svm)\n",
        "cm_svm_search=confusion_matrix(Y_test,Y_pred_svm)\n",
        "cr_svm_search=classification_report(Y_test,Y_pred_svm)\n",
        "# Printing the accuracy score and classification report\n",
        "print(ac_svm_search)\n",
        "print(cm_svm_search)\n",
        "print(cr_svm_search)"
      ],
      "execution_count": 107,
      "outputs": [
        {
          "output_type": "stream",
          "name": "stdout",
          "text": [
            "0.9769503546099291\n",
            "[[  8  11]\n",
            " [  2 543]]\n",
            "              precision    recall  f1-score   support\n",
            "\n",
            "           0       0.80      0.42      0.55        19\n",
            "           1       0.98      1.00      0.99       545\n",
            "\n",
            "    accuracy                           0.98       564\n",
            "   macro avg       0.89      0.71      0.77       564\n",
            "weighted avg       0.97      0.98      0.97       564\n",
            "\n"
          ]
        }
      ]
    },
    {
      "cell_type": "markdown",
      "metadata": {
        "id": "cDIFKaUa1vvQ"
      },
      "source": [
        "This model's accuracy is the same as the non tuned model. There are however more factors to consider here. The number of true postitives increased and false negatives decreased.On the down side, the number of false positives increased by one as well as decreasing the number of true negatives.\n",
        "\n",
        "More negatives were recalled as compared to the non tuned model. The tuned model is a good performer generally as compared to the non tuned rbg model in the sense that our aim is to cub instances of misclassification."
      ]
    },
    {
      "cell_type": "markdown",
      "metadata": {
        "id": "EePL4LIr4KEY"
      },
      "source": [
        "### Visualizing the analysis."
      ]
    },
    {
      "cell_type": "markdown",
      "metadata": {
        "id": "XsZm_WWK0zcZ"
      },
      "source": [
        "## 10. Follow up questions"
      ]
    },
    {
      "cell_type": "markdown",
      "metadata": {
        "id": "fiZjH3XC0-MQ"
      },
      "source": [
        "### a.) Did we have the right data?\n",
        "Yes, the data we used was appropriate for analysis and also predictions. The predictor variables were relevant in providing predictions.A challenge was however experienced in decision trees where training the data on a tuned model was computationally tasking."
      ]
    },
    {
      "cell_type": "markdown",
      "metadata": {
        "id": "CauG1UDR1CB5"
      },
      "source": [
        "### b.) Did we need another set of data to answer our question?\n",
        "\n",
        "The data provided was enough"
      ]
    },
    {
      "cell_type": "markdown",
      "metadata": {
        "id": "w_VGHbvs1Tvw"
      },
      "source": [
        "## d.) What needs to be re-evaluated\n",
        "\n",
        "The models need to be reassessed and frequently rechecked to mitigate instances of misclassification. "
      ]
    }
  ]
}